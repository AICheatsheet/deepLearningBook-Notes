{
 "cells": [
  {
   "cell_type": "code",
   "execution_count": 2,
   "metadata": {},
   "outputs": [
    {
     "name": "stderr",
     "output_type": "stream",
     "text": [
      "/Users/lsp/.virtualenvs/kaggle/lib/python2.7/site-packages/matplotlib/font_manager.py:273: UserWarning: Matplotlib is building the font cache using fc-list. This may take a moment.\n",
      "  warnings.warn('Matplotlib is building the font cache using fc-list. This may take a moment.')\n"
     ]
    }
   ],
   "source": [
    "import numpy as np\n",
    "import matplotlib.pyplot as plt\n",
    "import seaborn as sns"
   ]
  },
  {
   "cell_type": "code",
   "execution_count": 3,
   "metadata": {},
   "outputs": [
    {
     "name": "stdout",
     "output_type": "stream",
     "text": [
      "Populating the interactive namespace from numpy and matplotlib\n"
     ]
    }
   ],
   "source": [
    "# Plot parameters\n",
    "sns.set()\n",
    "# Seven hls color palette\n",
    "current_palette_7 = sns.color_palette(\"hls\", 7)\n",
    "sns.set_palette(current_palette_7)\n",
    "\n",
    "%pylab inline\n",
    "pylab.rcParams['figure.figsize'] = (4, 4)\n",
    "plt.rcParams['xtick.major.size'] = 0\n",
    "plt.rcParams['ytick.major.size'] = 0\n",
    "# rcParams.keys()"
   ]
  },
  {
   "cell_type": "code",
   "execution_count": 4,
   "metadata": {
    "collapsed": true
   },
   "outputs": [],
   "source": [
    "# Avoid inaccurate floating values (for inverse matrices in dot product for instance)\n",
    "# See https://stackoverflow.com/questions/24537791/numpy-matrix-inversion-rounding-errors\n",
    "np.set_printoptions(suppress=True)"
   ]
  },
  {
   "cell_type": "markdown",
   "metadata": {},
   "source": [
    "# 2.7 Eigendecomposition"
   ]
  },
  {
   "cell_type": "code",
   "execution_count": 5,
   "metadata": {},
   "outputs": [
    {
     "name": "stdout",
     "output_type": "stream",
     "text": [
      "A [[ 0.8  0.3]\n",
      " [ 0.2  0.7]]\n",
      "[ 0.83205029 -0.70710678]\n",
      "[ 0.4535082  -0.32856469]\n"
     ]
    }
   ],
   "source": [
    "A = np.array([[0.8, 0.3], [0.2, 0.7]])\n",
    "print 'A', A\n",
    "print np.dot(np.linalg.eig(A)[0][0], np.linalg.eig(A)[1][0])\n",
    "print np.dot(A, np.linalg.eig(A)[1][0])"
   ]
  },
  {
   "cell_type": "code",
   "execution_count": 19,
   "metadata": {},
   "outputs": [
    {
     "name": "stdout",
     "output_type": "stream",
     "text": [
      "A:\n",
      "[[2 3]\n",
      " [5 7]]\n",
      "\n",
      "x:\n",
      "[[3]\n",
      " [5]]\n",
      "Ax =  [[21]\n",
      " [50]]\n"
     ]
    }
   ],
   "source": [
    "A = np.array([[2, 3], [5, 7]])\n",
    "x = np.array([3, 5])\n",
    "x = x.reshape((x.shape[0], 1))\n",
    "print 'A:\\n', A\n",
    "print '\\nx:\\n', x\n",
    "print 'Ax = ', np.dot(A,x)"
   ]
  },
  {
   "cell_type": "code",
   "execution_count": 38,
   "metadata": {},
   "outputs": [
    {
     "data": {
      "image/png": "[encoded data removed]",
      "text/plain": [
       "<matplotlib.figure.Figure at 0x1099decd0>"
      ]
     },
     "metadata": {},
     "output_type": "display_data"
    }
   ],
   "source": [
    "def plotVectors(vecs):\n",
    "    x = vecs[0]\n",
    "    y = vecs[1]\n",
    "    \n",
    "    plt.figure()\n",
    "\n",
    "    plt.quiver([x[0], y[0]],\n",
    "               [x[1], y[1]],\n",
    "               [x[2], y[2]],\n",
    "               [x[3], y[3]],\n",
    "               angles='xy', scale_units='xy', scale=1)\n",
    "\n",
    "    plt.xlim(-1, 2)\n",
    "    plt.ylim(-1, 2)\n",
    "    plt.axvline(x=0, color='grey')\n",
    "    plt.axhline(y=0, color='grey')\n",
    "\n",
    "#     plt.text(1, 1.5, r'$\\vec{u}$', size=18)\n",
    "#     plt.text(1.5, -1, r'$\\vec{v}$', size=18)\n",
    "\n",
    "    plt.show()\n",
    "    plt.close()\n",
    "\n",
    "x = [0,0,0,1]\n",
    "y = [0,0,1,0]\n",
    "plotVectors([x,y])"
   ]
  },
  {
   "cell_type": "markdown",
   "metadata": {},
   "source": [
    "# Eigenvectors and eigenvalues\n",
    "\n",
    "Let's say that **A** is a matrix. This matrix **A** can *act* on a vector **x** and output another vector **AX**. Like a function in a mutlidimensional space, it will input the vector **x** and output the vector **Ax**.\n",
    "\n",
    "The eigenvectors of a matrix are the output vectors that are in the same direction than the input vectors. **x** is a eigenvector of **A** if **x** and **Ax** are in the same direction that is the vectors **Ax** and **x** are parallel. This means that the output vector is just the scaled input vector. This scalling factor is $\\lambda$ and is called the **eigenvalue** of A.\n",
    "\n",
    "$$\n",
    "\\boldsymbol{Ax} = \\lambda\\boldsymbol{x}\n",
    "$$"
   ]
  },
  {
   "cell_type": "code",
   "execution_count": null,
   "metadata": {
    "collapsed": true
   },
   "outputs": [],
   "source": []
  }
 ],
 "metadata": {
  "kernelspec": {
   "display_name": "Python 2",
   "language": "python",
   "name": "python2"
  }
 },
 "nbformat": 4,
 "nbformat_minor": 2
}

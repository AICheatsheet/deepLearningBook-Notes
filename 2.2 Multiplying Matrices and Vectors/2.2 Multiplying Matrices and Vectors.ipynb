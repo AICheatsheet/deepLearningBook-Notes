{
 "cells": [
  {
   "cell_type": "code",
   "execution_count": 1,
   "metadata": {
    "collapsed": true,
    "hideCode": true,
    "hidePrompt": true
   },
   "outputs": [],
   "source": [
    "import numpy as np\n",
    "import matplotlib.pyplot as plt"
   ]
  },
  {
   "cell_type": "code",
   "execution_count": 2,
   "metadata": {
    "hideCode": true,
    "hidePrompt": true
   },
   "outputs": [
    {
     "name": "stdout",
     "output_type": "stream",
     "text": [
      "Populating the interactive namespace from numpy and matplotlib\n"
     ]
    }
   ],
   "source": [
    "# Plot parameters\n",
    "plt.style.use('ggplot')\n",
    "plt.rcParams['axes.facecolor']='w'\n",
    "\n",
    "%pylab inline\n",
    "pylab.rcParams['figure.figsize'] = (3, 3)"
   ]
  },
  {
   "cell_type": "code",
   "execution_count": 3,
   "metadata": {
    "collapsed": true,
    "hideCode": true,
    "hidePrompt": true
   },
   "outputs": [],
   "source": [
    "# Avoid inaccurate floating values (for inverse matrices in dot product for instance)\n",
    "# See https://stackoverflow.com/questions/24537791/numpy-matrix-inversion-rounding-errors\n",
    "np.set_printoptions(suppress=True)"
   ]
  },
  {
   "cell_type": "markdown",
   "metadata": {
    "hideCode": true,
    "hidePrompt": true
   },
   "source": [
    "# 2.2 Multiplying Matrices and Vectors\n",
    "\n",
    "The standard way to multiply matrices is not to multiply each element of one with each elements of the other (this is the element-wise product). The matrix product, also called dot product, is the sum of the rows of the first matrix times the columns of the second matrix or the vector. This implies that the number of columns of the first matrix must be equals to the number of rows of the second matrix. Thus, if the shape of the first matrix is ($m \\times n$) the second matrix need to be of shape ($n \\times x$).\n",
    "\n",
    "![dotProduct](images/dotProduct.png)\n",
    "\n",
    "### Example 1.\n",
    "\n",
    "Multiplication of a matrix and a vector.\n",
    "\n",
    "$\\boldsymbol{A} _{3,2} \\times \\boldsymbol{B} _{2, 1} = \\boldsymbol{C} _{3, 1}$\n",
    "\n",
    "$\n",
    "\\begin{bmatrix}\n",
    "    A_{1,1} & A_{1,2} \\\\\\\\\n",
    "    A_{2,1} & A_{2,2} \\\\\\\\\n",
    "    A_{3,1} & A_{3,2}\n",
    "\\end{bmatrix}\\times\n",
    "\\begin{bmatrix}\n",
    "    B_{1,1} \\\\\\\\\n",
    "    B_{2,1}\n",
    "\\end{bmatrix}=\n",
    "\\begin{bmatrix}\n",
    "    A_{1,1} \\times B_{1,1} + A_{1,2} \\times B_{2,1} \\\\\\\\\n",
    "    A_{2,1} \\times B_{1,1} + A_{2,2} \\times B_{2,1} \\\\\\\\\n",
    "    A_{3,1} \\times B_{1,1} + A_{3,2} \\times B_{2,1}\n",
    "\\end{bmatrix}\n",
    "$\n",
    "\n",
    "For instance\n",
    "\n",
    "$\n",
    "\\begin{bmatrix}\n",
    "    1 & 2 \\\\\\\\\n",
    "    3 & 4 \\\\\\\\\n",
    "    5 & 6\n",
    "\\end{bmatrix}\\times\n",
    "\\begin{bmatrix}\n",
    "    2 \\\\\\\\\n",
    "    4\n",
    "\\end{bmatrix}=\n",
    "\\begin{bmatrix}\n",
    "    1 \\times 2 + 2 \\times 4 \\\\\\\\\n",
    "    3 \\times 2 + 4 \\times 4 \\\\\\\\\n",
    "    5 \\times 2 + 6 \\times 4\n",
    "\\end{bmatrix}\n",
    "=\n",
    "\\begin{bmatrix}\n",
    "    10 \\\\\\\\\n",
    "    22 \\\\\\\\\n",
    "    34\n",
    "\\end{bmatrix}\n",
    "$"
   ]
  },
  {
   "cell_type": "markdown",
   "metadata": {
    "hideCode": true,
    "hidePrompt": true
   },
   "source": [
    "#### The Numpy command 'dot' can be used to compute the matrix product (or dot product)\n",
    "\n",
    "Let's try to reproduce the last exemple:"
   ]
  },
  {
   "cell_type": "code",
   "execution_count": 4,
   "metadata": {
    "hideCode": true,
    "hidePrompt": true
   },
   "outputs": [],
   "source": [
    "A = np.array([[1, 2], [3, 4], [5, 6]])\n",
    "B = np.array([[2], [4]])\n",
    "C = np.dot(A, B)"
   ]
  },
  {
   "cell_type": "code",
   "execution_count": 8,
   "metadata": {
    "hideCode": true,
    "hidePrompt": true
   },
   "outputs": [
    {
     "name": "stdout",
     "output_type": "stream",
     "text": [
      "A (3, 2)\n",
      "[[1 2]\n",
      " [3 4]\n",
      " [5 6]]\n",
      "\n",
      "B (2, 1)\n",
      "[[2]\n",
      " [4]]\n",
      "\n",
      "C (3, 1)\n",
      "[[10]\n",
      " [22]\n",
      " [34]]\n"
     ]
    }
   ],
   "source": [
    "print(\"A %s\\n%s\\n\" %(A.shape, A))\n",
    "print(\"B %s\\n%s\\n\" %(B.shape, B))\n",
    "print(\"C %s\\n%s\" %(C.shape, C))"
   ]
  },
  {
   "cell_type": "markdown",
   "metadata": {
    "hideCode": true,
    "hidePrompt": true
   },
   "source": [
    "### Example 2.\n",
    "\n",
    "Multiplication of two matrices.\n",
    "\n",
    "$\\boldsymbol{A} _{4,3} \\times \\boldsymbol{B} _{3, 2} = \\boldsymbol{C} _{4, 2}$\n",
    "\n",
    "$\n",
    "\\begin{bmatrix}\n",
    "    A_{1,1} & A_{1,2} & A_{1,3} \\\\\\\\\n",
    "    A_{2,1} & A_{2,2} & A_{2,3} \\\\\\\\\n",
    "    A_{3,1} & A_{3,2} & A_{3,3} \\\\\\\\\n",
    "    A_{4,1} & A_{4,2} & A_{4,3}\n",
    "\\end{bmatrix}\\times\n",
    "\\begin{bmatrix}\n",
    "    B_{1,1} & B_{1,2} \\\\\\\\\n",
    "    B_{2,1} & B_{2,2} \\\\\\\\\n",
    "    B_{3,1} & B_{3,2}\n",
    "\\end{bmatrix}=\n",
    "\\begin{bmatrix}\n",
    "    A_{1,1} \\times B_{1,1} + A_{1,2} \\times B_{2,1} + A_{1,3} \\times B_{3,1} & A_{1,1} \\times B_{1,2} + A_{1,2} \\times B_{2,2} + A_{1,3} \\times B_{3,2} \\\\\\\\\n",
    "    A_{2,1} \\times B_{1,1} + A_{2,2} \\times B_{2,1} + A_{2,3} \\times B_{3,1} & A_{2,1} \\times B_{1,2} + A_{2,2} \\times B_{2,2} + A_{2,3} \\times B_{3,2} \\\\\\\\\n",
    "    A_{3,1} \\times B_{1,1} + A_{3,2} \\times B_{2,1} + A_{3,3} \\times B_{3,1} & A_{3,1} \\times B_{1,2} + A_{3,2} \\times B_{2,2} + A_{3,3} \\times B_{3,2} \\\\\\\\\n",
    "    A_{4,1} \\times B_{1,1} + A_{4,2} \\times B_{2,1} + A_{4,3} \\times B_{3,1} & A_{4,1} \\times B_{1,2} + A_{4,2} \\times B_{2,2} + A_{4,3} \\times B_{3,2} \\\\\\\\\n",
    "\\end{bmatrix}\n",
    "$"
   ]
  },
  {
   "cell_type": "code",
   "execution_count": 9,
   "metadata": {
    "hideCode": true,
    "hidePrompt": true
   },
   "outputs": [],
   "source": [
    "A = np.array([[1, 2, 3], [4, 5, 6], [7, 8, 9], [10, 11, 12]])\n",
    "B = np.array([[2, 7], [1, 2], [3, 6]])\n",
    "C = np.dot(A, B)"
   ]
  },
  {
   "cell_type": "code",
   "execution_count": 12,
   "metadata": {
    "hideCode": true,
    "hidePrompt": true
   },
   "outputs": [
    {
     "name": "stdout",
     "output_type": "stream",
     "text": [
      "A.shape: (4, 3)\n",
      "[[ 1  2  3]\n",
      " [ 4  5  6]\n",
      " [ 7  8  9]\n",
      " [10 11 12]]\n",
      "\n",
      "B.shape: (3, 2)\n",
      "[[2 7]\n",
      " [1 2]\n",
      " [3 6]]\n",
      "\n",
      "C.shape: (4, 2)\n",
      "[[ 13  29]\n",
      " [ 31  74]\n",
      " [ 49 119]\n",
      " [ 67 164]]\n"
     ]
    }
   ],
   "source": [
    "print(\"A.shape: %s\\n%s\\n\" %(A.shape, A))\n",
    "print(\"B.shape: %s\\n%s\\n\" %(B.shape, B))\n",
    "print(\"C.shape: %s\\n%s\" %(C.shape, C))"
   ]
  },
  {
   "cell_type": "markdown",
   "metadata": {
    "hideCode": true,
    "hidePrompt": true
   },
   "source": [
    "#### So the dot product can be formalized like that:\n",
    "\n",
    "$$\n",
    "C_{i,j} = A_{i,k}B_{k,j} = \\sum_{k}A_{i,k}B_{k,j}\n",
    "$$\n",
    "\n",
    "More detailed examples about the dot product can be found [here](https://www.mathsisfun.com/algebra/matrix-multiplying.html)."
   ]
  },
  {
   "cell_type": "markdown",
   "metadata": {
    "hideCode": true,
    "hidePrompt": true
   },
   "source": [
    "# Matrices mutliplication is distributive\n",
    "\n",
    "$\\boldsymbol{A}(\\boldsymbol{B}+\\boldsymbol{C}) = \\boldsymbol{AB}+\\boldsymbol{AC}$\n",
    "\n",
    "### Example 3.\n",
    "\n",
    "$\n",
    "\\boldsymbol{A}=\\begin{bmatrix}\n",
    "    2 & 3 \\\\\\\\\n",
    "    1 & 4 \\\\\\\\\n",
    "    7 & 6\n",
    "\\end{bmatrix}, \n",
    "\\boldsymbol{B}=\\begin{bmatrix}\n",
    "    5 \\\\\\\\\n",
    "    2\n",
    "\\end{bmatrix}, \n",
    "\\boldsymbol{C}=\\begin{bmatrix}\n",
    "    4 \\\\\\\\\n",
    "    3\n",
    "\\end{bmatrix}\n",
    "$\n",
    "\n",
    "\n",
    "$\n",
    "\\boldsymbol{A}(\\boldsymbol{B}+\\boldsymbol{C})=\\begin{bmatrix}\n",
    "    2 & 3 \\\\\\\\\n",
    "    1 & 4 \\\\\\\\\n",
    "    7 & 6\n",
    "\\end{bmatrix}\\times\n",
    "\\left(\\begin{bmatrix}\n",
    "    5 \\\\\\\\\n",
    "    2\n",
    "\\end{bmatrix}+\n",
    "\\begin{bmatrix}\n",
    "    4 \\\\\\\\\n",
    "    3\n",
    "\\end{bmatrix}\\right)=\n",
    "\\begin{bmatrix}\n",
    "    2 & 3 \\\\\\\\\n",
    "    1 & 4 \\\\\\\\\n",
    "    7 & 6\n",
    "\\end{bmatrix}\\times\n",
    "\\begin{bmatrix}\n",
    "    9 \\\\\\\\\n",
    "    5\n",
    "\\end{bmatrix}=\n",
    "\\begin{bmatrix}\n",
    "    2 \\times 9 + 3 \\times 5 \\\\\\\\\n",
    "    1 \\times 9 + 4 \\times 5 \\\\\\\\\n",
    "    7 \\times 9 + 6 \\times 5\n",
    "\\end{bmatrix}=\n",
    "\\begin{bmatrix}\n",
    "    33 \\\\\\\\\n",
    "    29 \\\\\\\\\n",
    "    93\n",
    "\\end{bmatrix}\n",
    "$\n",
    "\n",
    "is equivalent to\n",
    "\n",
    "$\n",
    "\\boldsymbol{A}\\boldsymbol{B}+\\boldsymbol{A}\\boldsymbol{C} = \\begin{bmatrix}\n",
    "    2 & 3 \\\\\\\\\n",
    "    1 & 4 \\\\\\\\\n",
    "    7 & 6\n",
    "\\end{bmatrix}\\times\n",
    "\\begin{bmatrix}\n",
    "    5 \\\\\\\\\n",
    "    2\n",
    "\\end{bmatrix}+\n",
    "\\begin{bmatrix}\n",
    "    2 & 3 \\\\\\\\\n",
    "    1 & 4 \\\\\\\\\n",
    "    7 & 6\n",
    "\\end{bmatrix}\\times\n",
    "\\begin{bmatrix}\n",
    "    4 \\\\\\\\\n",
    "    3\n",
    "\\end{bmatrix}=\n",
    "\\begin{bmatrix}\n",
    "    2 \\times 5 + 3 \\times 2 \\\\\\\\\n",
    "    1 \\times 5 + 4 \\times 2 \\\\\\\\\n",
    "    7 \\times 5 + 6 \\times 2\n",
    "\\end{bmatrix}+\n",
    "\\begin{bmatrix}\n",
    "    2 \\times 4 + 3 \\times 3 \\\\\\\\\n",
    "    1 \\times 4 + 4 \\times 3 \\\\\\\\\n",
    "    7 \\times 4 + 6 \\times 3\n",
    "\\end{bmatrix}=\n",
    "\\begin{bmatrix}\n",
    "    16 \\\\\\\\\n",
    "    13 \\\\\\\\\n",
    "    47\n",
    "\\end{bmatrix}+\n",
    "\\begin{bmatrix}\n",
    "    17 \\\\\\\\\n",
    "    16 \\\\\\\\\n",
    "    46\n",
    "\\end{bmatrix}=\n",
    "\\begin{bmatrix}\n",
    "    33 \\\\\\\\\n",
    "    29 \\\\\\\\\n",
    "    93\n",
    "\\end{bmatrix}\n",
    "$"
   ]
  },
  {
   "cell_type": "code",
   "execution_count": 10,
   "metadata": {
    "hideCode": true,
    "hidePrompt": true
   },
   "outputs": [
    {
     "name": "stdout",
     "output_type": "stream",
     "text": [
      "A.shape: (3, 2)\n",
      "\n",
      "[[2 3]\n",
      " [1 4]\n",
      " [7 6]]\n",
      "\n",
      "B.shape: (2, 1)\n",
      "\n",
      "[[5]\n",
      " [2]]\n"
     ]
    }
   ],
   "source": [
    "A = np.array([[2, 3], [1, 4], [7, 6]])\n",
    "print(\"A.shape: %s\\n\\n%s\" %(A.shape, A))\n",
    "B = np.array([[5], [2]])\n",
    "print(\"\\nB.shape: %s\\n\\n%s\" %(B.shape, B))"
   ]
  },
  {
   "cell_type": "code",
   "execution_count": 11,
   "metadata": {
    "hideCode": true,
    "hidePrompt": true
   },
   "outputs": [
    {
     "name": "stdout",
     "output_type": "stream",
     "text": [
      "C.shape: (2, 1)\n",
      "\n",
      "[[4]\n",
      " [3]]\n"
     ]
    }
   ],
   "source": [
    "C = np.array([[4], [3]])\n",
    "print(\"C.shape: %s\\n\\n%s\" %(C.shape, C))"
   ]
  },
  {
   "cell_type": "code",
   "execution_count": 12,
   "metadata": {
    "hideCode": true,
    "hidePrompt": true
   },
   "outputs": [
    {
     "name": "stdout",
     "output_type": "stream",
     "text": [
      "D.shape: (3, 1)\n",
      "\n",
      "[[33]\n",
      " [29]\n",
      " [93]]\n"
     ]
    }
   ],
   "source": [
    "# A(B + C)\n",
    "D = np.dot(A, (B+C))\n",
    "print(\"D.shape: %s\\n\\n%s\" %(D.shape, D))"
   ]
  },
  {
   "cell_type": "code",
   "execution_count": 13,
   "metadata": {
    "hideCode": true,
    "hidePrompt": true
   },
   "outputs": [
    {
     "name": "stdout",
     "output_type": "stream",
     "text": [
      "D.shape: (3, 1)\n",
      "\n",
      "[[33]\n",
      " [29]\n",
      " [93]]\n"
     ]
    }
   ],
   "source": [
    "# AB + AC\n",
    "D = np.dot(A, B) + np.dot(A, C)\n",
    "print(\"D.shape: %s\\n\\n%s\" %(D.shape, D))"
   ]
  },
  {
   "cell_type": "markdown",
   "metadata": {
    "hideCode": true,
    "hidePrompt": true
   },
   "source": [
    "# Matrices mutliplication is associative\n",
    "\n",
    "$\\boldsymbol{A}(\\boldsymbol{BC}) = \\boldsymbol{AB}(\\boldsymbol{C})$\n"
   ]
  },
  {
   "cell_type": "code",
   "execution_count": 14,
   "metadata": {
    "hideCode": true,
    "hidePrompt": true
   },
   "outputs": [
    {
     "name": "stdout",
     "output_type": "stream",
     "text": [
      "A.shape: (3, 2)\n",
      "\n",
      "[[2 3]\n",
      " [1 4]\n",
      " [7 6]]\n",
      "\n",
      "B.shape: (2, 2)\n",
      "\n",
      "[[5 3]\n",
      " [2 2]]\n"
     ]
    }
   ],
   "source": [
    "A = np.array([[2, 3], [1, 4], [7, 6]])\n",
    "print(\"A.shape: %s\\n\\n%s\" %(A.shape, A))\n",
    "B = np.array([[5, 3], [2, 2]])\n",
    "print(\"\\nB.shape: %s\\n\\n%s\" %(B.shape, B))"
   ]
  },
  {
   "cell_type": "code",
   "execution_count": 15,
   "metadata": {
    "hideCode": true,
    "hidePrompt": true
   },
   "outputs": [
    {
     "name": "stdout",
     "output_type": "stream",
     "text": [
      "D.shape: (3, 1)\n",
      "\n",
      "[[100]\n",
      " [ 85]\n",
      " [287]]\n"
     ]
    }
   ],
   "source": [
    "# A(BC)\n",
    "D = np.dot(A, np.dot(B, C))\n",
    "print(\"D.shape: %s\\n\\n%s\" %(D.shape, D))"
   ]
  },
  {
   "cell_type": "code",
   "execution_count": 16,
   "metadata": {
    "hideCode": true,
    "hidePrompt": true
   },
   "outputs": [
    {
     "name": "stdout",
     "output_type": "stream",
     "text": [
      "D.shape: (3, 1)\n",
      "\n",
      "[[100]\n",
      " [ 85]\n",
      " [287]]\n"
     ]
    }
   ],
   "source": [
    "# AB(C)\n",
    "D = np.dot(np.dot(A, B), C)\n",
    "print(\"D.shape: %s\\n\\n%s\" %(D.shape, D))"
   ]
  },
  {
   "cell_type": "markdown",
   "metadata": {
    "hideCode": true,
    "hidePrompt": true
   },
   "source": [
    "# Matrix multiplication is not commutative\n",
    "\n",
    "$\\boldsymbol{AB} \\neq \\boldsymbol{BA}$"
   ]
  },
  {
   "cell_type": "code",
   "execution_count": 17,
   "metadata": {
    "hideCode": true,
    "hidePrompt": true
   },
   "outputs": [
    {
     "name": "stdout",
     "output_type": "stream",
     "text": [
      "\n",
      "A.shape: (2, 2)\n",
      "\n",
      "[[2 3]\n",
      " [6 5]]\n",
      "\n",
      "B.shape: (2, 2)\n",
      "\n",
      "[[5 3]\n",
      " [2 2]]\n"
     ]
    }
   ],
   "source": [
    "A = np.array([[2, 3], [6, 5]])\n",
    "print(\"\\nA.shape: %s\\n\\n%s\" %(A.shape, A))\n",
    "\n",
    "B = np.array([[5, 3], [2, 2]])\n",
    "print(\"\\nB.shape: %s\\n\\n%s\" %(B.shape, B))"
   ]
  },
  {
   "cell_type": "code",
   "execution_count": 18,
   "metadata": {
    "hideCode": true,
    "hidePrompt": true
   },
   "outputs": [
    {
     "name": "stdout",
     "output_type": "stream",
     "text": [
      "AB.shape: (2, 2)\n",
      "\n",
      "[[16 12]\n",
      " [40 28]]\n"
     ]
    }
   ],
   "source": [
    "AB = np.dot(A, B)\n",
    "print(\"AB.shape: %s\\n\\n%s\" %(AB.shape, AB))"
   ]
  },
  {
   "cell_type": "code",
   "execution_count": 19,
   "metadata": {
    "hideCode": true,
    "hidePrompt": true
   },
   "outputs": [
    {
     "name": "stdout",
     "output_type": "stream",
     "text": [
      "BA.shape: (2, 2)\n",
      "\n",
      "[[28 30]\n",
      " [16 16]]\n"
     ]
    }
   ],
   "source": [
    "BA = np.dot(B, A)\n",
    "print(\"BA.shape: %s\\n\\n%s\" %(BA.shape, BA))"
   ]
  },
  {
   "cell_type": "markdown",
   "metadata": {
    "hideCode": true,
    "hidePrompt": true
   },
   "source": [
    "## However vector multiplication is commutative\n",
    "\n",
    "$x^{ \\text{T}}y = y^{\\text{T}}x $"
   ]
  },
  {
   "cell_type": "code",
   "execution_count": 20,
   "metadata": {
    "hideCode": true,
    "hidePrompt": true
   },
   "outputs": [
    {
     "name": "stdout",
     "output_type": "stream",
     "text": [
      "\n",
      "x.shape: (2, 1)\n",
      "\n",
      "[[2]\n",
      " [6]]\n",
      "\n",
      "y.shape: (2, 1)\n",
      "\n",
      "[[5]\n",
      " [2]]\n"
     ]
    }
   ],
   "source": [
    "x = np.array([[2], [6]])\n",
    "print(\"\\nx.shape: %s\\n\\n%s\" %(x.shape, x))\n",
    "\n",
    "y = np.array([[5], [2]])\n",
    "print(\"\\ny.shape: %s\\n\\n%s\" %(y.shape, y))"
   ]
  },
  {
   "cell_type": "code",
   "execution_count": 21,
   "metadata": {
    "hideCode": true,
    "hidePrompt": true
   },
   "outputs": [
    {
     "name": "stdout",
     "output_type": "stream",
     "text": [
      "x_ty.shape: (1, 1)\n",
      "\n",
      "[[22]]\n"
     ]
    }
   ],
   "source": [
    "x_ty = np.dot(x.T, y)\n",
    "print(\"x_ty.shape: %s\\n\\n%s\" %(x_ty.shape, x_ty))"
   ]
  },
  {
   "cell_type": "code",
   "execution_count": 22,
   "metadata": {
    "hideCode": true,
    "hidePrompt": true
   },
   "outputs": [
    {
     "name": "stdout",
     "output_type": "stream",
     "text": [
      "y_tx.shape: (1, 1)\n",
      "\n",
      "[[22]]\n"
     ]
    }
   ],
   "source": [
    "y_tx = np.dot(y.T, x)\n",
    "print(\"y_tx.shape: %s\\n\\n%s\" %(y_tx.shape, y_tx))"
   ]
  },
  {
   "cell_type": "markdown",
   "metadata": {
    "hideCode": true,
    "hidePrompt": true
   },
   "source": [
    "## Simplification of the matrix product\n",
    "\n",
    "$(AB)^{\\text{T}} = B^{\\text{T}}A^{\\text{T}}$"
   ]
  },
  {
   "cell_type": "code",
   "execution_count": 23,
   "metadata": {
    "hideCode": true,
    "hidePrompt": true
   },
   "outputs": [
    {
     "name": "stdout",
     "output_type": "stream",
     "text": [
      "A.shape: (3, 2)\n",
      "\n",
      "[[2 3]\n",
      " [1 4]\n",
      " [7 6]]\n",
      "\n",
      "B.shape: (2, 2)\n",
      "\n",
      "[[5 3]\n",
      " [2 2]]\n"
     ]
    }
   ],
   "source": [
    "A = np.array([[2, 3], [1, 4], [7, 6]])\n",
    "print(\"A.shape: %s\\n\\n%s\" %(A.shape, A))\n",
    "B = np.array([[5, 3], [2, 2]])\n",
    "print(\"\\nB.shape: %s\\n\\n%s\" %(B.shape, B))"
   ]
  },
  {
   "cell_type": "markdown",
   "metadata": {
    "hideCode": true,
    "hidePrompt": true
   },
   "source": [
    "$(AB)^{\\text{T}}$:"
   ]
  },
  {
   "cell_type": "code",
   "execution_count": 24,
   "metadata": {
    "hideCode": true,
    "hidePrompt": true
   },
   "outputs": [
    {
     "name": "stdout",
     "output_type": "stream",
     "text": [
      "AB_t.shape: (2, 3)\n",
      "\n",
      "[[16 13 47]\n",
      " [12 11 33]]\n"
     ]
    }
   ],
   "source": [
    "AB_t = np.dot(A, B).T\n",
    "print(\"AB_t.shape: %s\\n\\n%s\" %(AB_t.shape, AB_t))"
   ]
  },
  {
   "cell_type": "markdown",
   "metadata": {
    "hideCode": true,
    "hidePrompt": true
   },
   "source": [
    "$B^{\\text{T}}A^{\\text{T}}$:"
   ]
  },
  {
   "cell_type": "code",
   "execution_count": 25,
   "metadata": {
    "hideCode": true,
    "hidePrompt": true,
    "scrolled": true
   },
   "outputs": [
    {
     "name": "stdout",
     "output_type": "stream",
     "text": [
      "B_tA.shape: (2, 3)\n",
      "\n",
      "[[16 13 47]\n",
      " [12 11 33]]\n"
     ]
    }
   ],
   "source": [
    "B_tA = np.dot(B.T, A.T)\n",
    "print(\"B_tA.shape: %s\\n\\n%s\" %(B_tA.shape, B_tA))"
   ]
  },
  {
   "cell_type": "markdown",
   "metadata": {
    "hideCode": true,
    "hidePrompt": true
   },
   "source": [
    "# System of linear equations\n",
    "\n",
    "Matrices can be used to describe a system of linear equations of the form $\\boldsymbol{Ax}=\\boldsymbol{b}$. Here is a set of linear equations:\n",
    "\n",
    "$$\n",
    "A_{1,1}x_1 + A_{1,2}x_2 + A_{1,n}x_n = b_1 \\\\\\\\\n",
    "A_{2,1}x_1 + A_{2,2}x_2 + A_{2,n}x_n = b_2 \\\\\\\\\n",
    "\\cdots \\\\\\\\\n",
    "A_{m,1}x_1 + A_{m,2}x_2 + A_{m,n}x_n = b_n\n",
    "$$\n",
    "\n",
    "The left hand term can considered as the product of a matrix **A** containing weights for each variable ($n$ columns) and each equation ($m$ rows)\n",
    "\n",
    "$$\n",
    "\\begin{bmatrix}\n",
    "    A_{1,1} & A_{1,2} & \\cdots & A_{1,n} \\\\\\\\\n",
    "    A_{2,1} & A_{2,2} & \\cdots & A_{2,n} \\\\\\\\\n",
    "    \\cdots & \\cdots & \\cdots & \\cdots \\\\\\\\\n",
    "    A_{m,1} & A_{m,2} & \\cdots & A_{m,n}\n",
    "\\end{bmatrix}\n",
    "$$\n",
    "\n",
    "with a vector **x** containing the $n$ variables\n",
    "\n",
    "$$\n",
    "\\begin{bmatrix}\n",
    "    x_1 \\\\\\\\\n",
    "    x_2 \\\\\\\\\n",
    "    \\cdots \\\\\\\\\n",
    "    x_n\n",
    "\\end{bmatrix}\n",
    "$$\n",
    "\n",
    "The equation system can be wrote like that\n",
    "\n",
    "$$\n",
    "\\begin{bmatrix}\n",
    "    A_{1,1} & A_{1,2} & \\cdots & A_{1,n} \\\\\\\\\n",
    "    A_{2,1} & A_{2,2} & \\cdots & A_{2,n} \\\\\\\\\n",
    "    \\cdots & \\cdots & \\cdots & \\cdots \\\\\\\\\n",
    "    A_{m,1} & A_{m,2} & \\cdots & A_{m,n}\n",
    "\\end{bmatrix}\n",
    "\\times\n",
    "\\begin{bmatrix}\n",
    "    x_1 \\\\\\\\\n",
    "    x_2 \\\\\\\\\n",
    "    \\cdots \\\\\\\\\n",
    "    x_n\n",
    "\\end{bmatrix}\n",
    "=\n",
    "\\begin{bmatrix}\n",
    "    b_1 \\\\\\\\\n",
    "    b_2 \\\\\\\\\n",
    "    \\cdots \\\\\\\\\n",
    "    b_m\n",
    "\\end{bmatrix}\n",
    "$$\n",
    "\n",
    "Or simply $\\boldsymbol{Ax}=\\boldsymbol{b}$.\n",
    "\n",
    "### Example 4.\n",
    "\n",
    "The common form of a linear equation ($y=ax+b$) can be converted to the matrix form. In this example, we'll use the variable name $w$ instead of $x$ to avoid confusion with our vector **x** that contain the variables.\n",
    "\n",
    "$$\n",
    "\\begin{align*}\n",
    "&y=2w+1\\\\\\\\\n",
    "\\Leftrightarrow& 2w-y=-1\n",
    "\\end{align*}\n",
    "$$\n",
    "\n",
    "In this example, the system of equations contains only 1 equation (1 row: $m=1$) and 2 variables (2 columns: $n=2$). It is the same thing as $A_{1,1}x_1 + A_{1,2}x_2 + A_{1,n}x_n = b_1$ with \n",
    "\n",
    "- $A_{1,1}$ is 2\n",
    "- $x_1$ is the variable $w$\n",
    "- $A_{1,2}$ is -1\n",
    "- $x_2$ is the variable $y$\n",
    "- $b$ is -1\n",
    "\n",
    "This equation can be wrote under the matrix form. **A** will be the matrix of dimension $m\\times n$ containing scalars multiplying these variables (here $w$ is multiplied by 2 and $y$ by -1). The vector **x** contains the variables $w$ and $y$. And the right hand term is the constant **b**:\n",
    "\n",
    "$$\n",
    "A=\n",
    "\\begin{bmatrix}\n",
    "    2 & -1\n",
    "\\end{bmatrix}\n",
    "$$\n",
    "\n",
    "$$\n",
    "x=\n",
    "\\begin{bmatrix}\n",
    "    w\\\\\\\\\n",
    "    y\n",
    "\\end{bmatrix}\n",
    "$$\n",
    "\n",
    "$$\n",
    "b=\n",
    "\\begin{bmatrix}\n",
    "    -1\n",
    "\\end{bmatrix}\n",
    "$$\n",
    "\n",
    "The matrix product between **A** and **x** gives us the right left hand side of the equation:\n",
    "\n",
    "$$\n",
    "\\begin{align*}\n",
    "Ax&=\n",
    "\\begin{bmatrix}\n",
    "    2 & -1\n",
    "\\end{bmatrix}\n",
    "\\begin{bmatrix}\n",
    "    y\\\\\\\\\n",
    "    z\n",
    "\\end{bmatrix}\\\\\\\\\n",
    "&=\n",
    "2w - y\\\\\\\\\n",
    "b &= -1\\\\\\\\\n",
    "\\Leftrightarrow\n",
    "&2w - y = -1\n",
    "\\end{align*}\n",
    "$$"
   ]
  },
  {
   "cell_type": "code",
   "execution_count": null,
   "metadata": {
    "collapsed": true,
    "hideCode": true,
    "hidePrompt": true
   },
   "outputs": [],
   "source": []
  }
 ],
 "metadata": {
  "hide_code_all_hidden": true,
  "kernelspec": {
   "display_name": "Python 2",
   "language": "python",
   "name": "python2"
  },
  "language_info": {
   "codemirror_mode": {
    "name": "ipython",
    "version": 2
   },
   "file_extension": ".py",
   "mimetype": "text/x-python",
   "name": "python",
   "nbconvert_exporter": "python",
   "pygments_lexer": "ipython2",
   "version": "2.7.10"
  }
 },
 "nbformat": 4,
 "nbformat_minor": 2
}

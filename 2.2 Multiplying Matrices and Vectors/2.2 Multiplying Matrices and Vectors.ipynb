{
 "cells": [
  {
   "cell_type": "code",
   "execution_count": 1,
   "metadata": {
    "collapsed": true,
    "hideCode": false,
    "hidePrompt": false
   },
   "outputs": [],
   "source": [
    "import numpy as np\n",
    "import matplotlib.pyplot as plt"
   ]
  },
  {
   "cell_type": "code",
   "execution_count": 2,
   "metadata": {
    "hideCode": false,
    "hidePrompt": false
   },
   "outputs": [
    {
     "name": "stdout",
     "output_type": "stream",
     "text": [
      "Populating the interactive namespace from numpy and matplotlib\n"
     ]
    }
   ],
   "source": [
    "# Plot parameters\n",
    "plt.style.use('ggplot')\n",
    "plt.rcParams['axes.facecolor']='w'\n",
    "\n",
    "%pylab inline\n",
    "pylab.rcParams['figure.figsize'] = (3, 3)"
   ]
  },
  {
   "cell_type": "code",
   "execution_count": 3,
   "metadata": {
    "collapsed": true,
    "hideCode": false,
    "hidePrompt": false
   },
   "outputs": [],
   "source": [
    "# Avoid inaccurate floating values (for inverse matrices in dot product for instance)\n",
    "# See https://stackoverflow.com/questions/24537791/numpy-matrix-inversion-rounding-errors\n",
    "np.set_printoptions(suppress=True)"
   ]
  },
  {
   "cell_type": "markdown",
   "metadata": {
    "hideCode": false,
    "hidePrompt": false
   },
   "source": [
    "# 2.2 Multiplying Matrices and Vectors\n",
    "\n",
    "The standard way to multiply matrices is not to multiply each element of one with each elements of the other (this is the element-wise product). The matrix product, also called **dot product**, is calculated as following:\n",
    "\n",
    "<img src=\"images/dotProduct.png\" width=\"400\" alt=\"dotProduct\">\n",
    "\n",
    "This implies that the number of columns of the first matrix must be equals to the number of rows of the second matrix. Thus, if the shape of the first matrix is ($m \\times n$) the second matrix need to be of shape ($n \\times x$).\n",
    "\n",
    "### Example 1.\n",
    "\n",
    "Multiplication of a matrix and a vector.\n",
    "\n",
    "$$\\boldsymbol{A} _{3,2} \\times \\boldsymbol{B} _{2, 1} = \\boldsymbol{C} _{3, 1}$$\n",
    "\n",
    "$$\n",
    "\\begin{align*}\n",
    "&\\begin{bmatrix}\n",
    "    A_{1,1} & A_{1,2} \\\\\\\\\n",
    "    A_{2,1} & A_{2,2} \\\\\\\\\n",
    "    A_{3,1} & A_{3,2}\n",
    "\\end{bmatrix}\\times\n",
    "\\begin{bmatrix}\n",
    "    B_{1,1} \\\\\\\\\n",
    "    B_{2,1}\n",
    "\\end{bmatrix}=\\\\\\\\\n",
    "&\\begin{bmatrix}\n",
    "    A_{1,1}B_{1,1} + A_{1,2}B_{2,1} \\\\\\\\\n",
    "    A_{2,1}B_{1,1} + A_{2,2}B_{2,1} \\\\\\\\\n",
    "    A_{3,1}B_{1,1} + A_{3,2}B_{2,1}\n",
    "\\end{bmatrix}\n",
    "\\end{align*}\n",
    "$$\n",
    "\n",
    "For instance\n",
    "\n",
    "$$\n",
    "\\begin{align*}\n",
    "&\\begin{bmatrix}\n",
    "    1 & 2 \\\\\\\\\n",
    "    3 & 4 \\\\\\\\\n",
    "    5 & 6\n",
    "\\end{bmatrix}\\times\n",
    "\\begin{bmatrix}\n",
    "    2 \\\\\\\\\n",
    "    4\n",
    "\\end{bmatrix}=\\\\\\\\\n",
    "&\\begin{bmatrix}\n",
    "    1 \\times 2 + 2 \\times 4 \\\\\\\\\n",
    "    3 \\times 2 + 4 \\times 4 \\\\\\\\\n",
    "    5 \\times 2 + 6 \\times 4\n",
    "\\end{bmatrix}=\n",
    "\\begin{bmatrix}\n",
    "    10 \\\\\\\\\n",
    "    22 \\\\\\\\\n",
    "    34\n",
    "\\end{bmatrix}\n",
    "\\end{align*}\n",
    "$$"
   ]
  },
  {
   "cell_type": "markdown",
   "metadata": {
    "hideCode": false,
    "hidePrompt": false
   },
   "source": [
    "#### The Numpy command 'dot' can be used to compute the matrix product (or dot product)\n",
    "\n",
    "Let's try to reproduce the last exemple:"
   ]
  },
  {
   "cell_type": "code",
   "execution_count": 28,
   "metadata": {
    "hideCode": false,
    "hidePrompt": false
   },
   "outputs": [
    {
     "data": {
      "text/plain": [
       "array([[1, 2],\n",
       "       [3, 4],\n",
       "       [5, 6]])"
      ]
     },
     "execution_count": 28,
     "metadata": {},
     "output_type": "execute_result"
    }
   ],
   "source": [
    "A = np.array([[1, 2], [3, 4], [5, 6]])\n",
    "A"
   ]
  },
  {
   "cell_type": "code",
   "execution_count": 29,
   "metadata": {},
   "outputs": [
    {
     "data": {
      "text/plain": [
       "array([[2],\n",
       "       [4]])"
      ]
     },
     "execution_count": 29,
     "metadata": {},
     "output_type": "execute_result"
    }
   ],
   "source": [
    "B = np.array([[2], [4]])\n",
    "B"
   ]
  },
  {
   "cell_type": "code",
   "execution_count": 30,
   "metadata": {
    "hideCode": false,
    "hidePrompt": false
   },
   "outputs": [
    {
     "data": {
      "text/plain": [
       "array([[10],\n",
       "       [22],\n",
       "       [34]])"
      ]
     },
     "execution_count": 30,
     "metadata": {},
     "output_type": "execute_result"
    }
   ],
   "source": [
    "C = np.dot(A, B)\n",
    "C"
   ]
  },
  {
   "cell_type": "markdown",
   "metadata": {},
   "source": [
    "It is even easier to use the method `dot()` of Numpy arrays:"
   ]
  },
  {
   "cell_type": "code",
   "execution_count": 27,
   "metadata": {},
   "outputs": [
    {
     "data": {
      "text/plain": [
       "array([[10],\n",
       "       [22],\n",
       "       [34]])"
      ]
     },
     "execution_count": 27,
     "metadata": {},
     "output_type": "execute_result"
    }
   ],
   "source": [
    "C = A.dot(B)\n",
    "C"
   ]
  },
  {
   "cell_type": "markdown",
   "metadata": {
    "hideCode": false,
    "hidePrompt": false
   },
   "source": [
    "### Example 2.\n",
    "\n",
    "Multiplication of two matrices.\n",
    "\n",
    "$$\\boldsymbol{A} _{4,3} \\times \\boldsymbol{B} _{3, 2} = \\boldsymbol{C} _{4, 2}$$\n",
    "\n",
    "$$\n",
    "\\begin{align*}\n",
    "&\\begin{bmatrix}\n",
    "    A_{1,1} & A_{1,2} \\\\\\\\\n",
    "    A_{2,1} & A_{2,2} \\\\\\\\\n",
    "    A_{3,1} & A_{3,2} \\\\\\\\\n",
    "    A_{4,1} & A_{4,2}\n",
    "\\end{bmatrix}\\times\n",
    "\\begin{bmatrix}\n",
    "    B_{1,1} & B_{1,2} \\\\\\\\\n",
    "    B_{2,1} & B_{2,2}\n",
    "\\end{bmatrix}=\\\\\\\\\n",
    "&\\begin{bmatrix}\n",
    "    A_{1,1}B_{1,1} + A_{1,2}B_{2,1} & A_{1,1}B_{1,2} + A_{1,2}B_{2,2} \\\\\\\\\n",
    "    A_{2,1}B_{1,1} + A_{2,2}B_{2,1} & A_{2,1}B_{1,2} + A_{2,2}B_{2,2} \\\\\\\\\n",
    "    A_{3,1}B_{1,1} + A_{3,2}B_{2,1} & A_{3,1}B_{1,2} + A_{3,2}B_{2,2} \\\\\\\\\n",
    "    A_{4,1}B_{1,1} + A_{4,2}B_{2,1} & A_{4,1}B_{1,2} + A_{4,2}B_{2,2}\n",
    "\\end{bmatrix}\n",
    "\\end{align*}\n",
    "$$\n",
    "\n",
    "For instance\n",
    "\n",
    "$$\n",
    "\\begin{align*}\n",
    "&\\begin{bmatrix}\n",
    "    1 & 2 & 3 \\\\\\\\\n",
    "    4 & 5 & 6 \\\\\\\\\n",
    "    7 & 8 & 9 \\\\\\\\\n",
    "    10 & 11 & 12\n",
    "\\end{bmatrix}\\times\n",
    "\\begin{bmatrix}\n",
    "    2 & 7 \\\\\\\\\n",
    "    1 & 2 \\\\\\\\\n",
    "    3 & 6\n",
    "\\end{bmatrix}=\\\\\\\\\n",
    "&\\begin{bmatrix}\n",
    "    2 \\times 1 + 1 \\times 2 + 3 \\times 3 & 7 \\times 1 + 2 \\times 2 + 6 \\times 3 \\\\\\\\\n",
    "    2 \\times 4 + 1 \\times 5 + 3 \\times 6 & 7 \\times 4 + 2 \\times 5 + 6 \\times 6 \\\\\\\\\n",
    "    2 \\times 7 + 1 \\times 8 + 3 \\times 9 & 7 \\times 7 + 2 \\times 8 + 6 \\times 9 \\\\\\\\\n",
    "    2 \\times 10 + 1 \\times 11 + 3 \\times 12 & 7 \\times 10 + 2 \\times 11 + 6 \\times 12 \\\\\\\\\n",
    "\\end{bmatrix}\\\\\\\\\n",
    "&=\n",
    "\\begin{bmatrix}\n",
    "    13 & 29 \\\\\\\\\n",
    "    31 & 74 \\\\\\\\\n",
    "    49 & 119 \\\\\\\\\n",
    "    67 & 164\n",
    "\\end{bmatrix}\n",
    "\\end{align*}\n",
    "$$"
   ]
  },
  {
   "cell_type": "code",
   "execution_count": 31,
   "metadata": {
    "hideCode": false,
    "hidePrompt": false
   },
   "outputs": [
    {
     "data": {
      "text/plain": [
       "array([[ 1,  2,  3],\n",
       "       [ 4,  5,  6],\n",
       "       [ 7,  8,  9],\n",
       "       [10, 11, 12]])"
      ]
     },
     "execution_count": 31,
     "metadata": {},
     "output_type": "execute_result"
    }
   ],
   "source": [
    "A = np.array([[1, 2, 3], [4, 5, 6], [7, 8, 9], [10, 11, 12]])\n",
    "A"
   ]
  },
  {
   "cell_type": "code",
   "execution_count": 32,
   "metadata": {},
   "outputs": [
    {
     "data": {
      "text/plain": [
       "array([[2, 7],\n",
       "       [1, 2],\n",
       "       [3, 6]])"
      ]
     },
     "execution_count": 32,
     "metadata": {},
     "output_type": "execute_result"
    }
   ],
   "source": [
    "B = np.array([[2, 7], [1, 2], [3, 6]])\n",
    "B"
   ]
  },
  {
   "cell_type": "code",
   "execution_count": 33,
   "metadata": {
    "hideCode": false,
    "hidePrompt": false
   },
   "outputs": [
    {
     "data": {
      "text/plain": [
       "array([[ 13,  29],\n",
       "       [ 31,  74],\n",
       "       [ 49, 119],\n",
       "       [ 67, 164]])"
      ]
     },
     "execution_count": 33,
     "metadata": {},
     "output_type": "execute_result"
    }
   ],
   "source": [
    "C = np.dot(A, B)\n",
    "C"
   ]
  },
  {
   "cell_type": "markdown",
   "metadata": {
    "hideCode": false,
    "hidePrompt": false
   },
   "source": [
    "It works!\n",
    "\n",
    "#### So the dot product can be formalized like that:\n",
    "\n",
    "$$\n",
    "C_{i,j} = A_{i,k}B_{k,j} = \\sum_{k}A_{i,k}B_{k,j}\n",
    "$$\n",
    "\n",
    "More detailed examples about the dot product can be found [here](https://www.mathsisfun.com/algebra/matrix-multiplying.html)."
   ]
  },
  {
   "cell_type": "markdown",
   "metadata": {
    "hideCode": false,
    "hidePrompt": false
   },
   "source": [
    "# Matrices mutliplication is distributive\n",
    "\n",
    "$$\\boldsymbol{A}(\\boldsymbol{B}+\\boldsymbol{C}) = \\boldsymbol{AB}+\\boldsymbol{AC}$$\n",
    "\n",
    "### Example 3.\n",
    "\n",
    "$$\n",
    "\\boldsymbol{A}=\\begin{bmatrix}\n",
    "    2 & 3 \\\\\\\\\n",
    "    1 & 4 \\\\\\\\\n",
    "    7 & 6\n",
    "\\end{bmatrix}, \n",
    "\\boldsymbol{B}=\\begin{bmatrix}\n",
    "    5 \\\\\\\\\n",
    "    2\n",
    "\\end{bmatrix}, \n",
    "\\boldsymbol{C}=\\begin{bmatrix}\n",
    "    4 \\\\\\\\\n",
    "    3\n",
    "\\end{bmatrix}\n",
    "$$\n",
    "\n",
    "\n",
    "$$\n",
    "\\begin{align*}\n",
    "\\boldsymbol{A}(\\boldsymbol{B}+\\boldsymbol{C})&=\\begin{bmatrix}\n",
    "    2 & 3 \\\\\\\\\n",
    "    1 & 4 \\\\\\\\\n",
    "    7 & 6\n",
    "\\end{bmatrix}\\times\n",
    "\\left(\\begin{bmatrix}\n",
    "    5 \\\\\\\\\n",
    "    2\n",
    "\\end{bmatrix}+\n",
    "\\begin{bmatrix}\n",
    "    4 \\\\\\\\\n",
    "    3\n",
    "\\end{bmatrix}\\right)=\n",
    "\\begin{bmatrix}\n",
    "    2 & 3 \\\\\\\\\n",
    "    1 & 4 \\\\\\\\\n",
    "    7 & 6\n",
    "\\end{bmatrix}\\times\n",
    "\\begin{bmatrix}\n",
    "    9 \\\\\\\\\n",
    "    5\n",
    "\\end{bmatrix}\\\\\\\\\n",
    "&=\n",
    "\\begin{bmatrix}\n",
    "    2 \\times 9 + 3 \\times 5 \\\\\\\\\n",
    "    1 \\times 9 + 4 \\times 5 \\\\\\\\\n",
    "    7 \\times 9 + 6 \\times 5\n",
    "\\end{bmatrix}=\n",
    "\\begin{bmatrix}\n",
    "    33 \\\\\\\\\n",
    "    29 \\\\\\\\\n",
    "    93\n",
    "\\end{bmatrix}\n",
    "\\end{align*}\n",
    "$$\n",
    "\n",
    "is equivalent to\n",
    "\n",
    "$$\n",
    "\\begin{align*}\n",
    "\\boldsymbol{A}\\boldsymbol{B}+\\boldsymbol{A}\\boldsymbol{C} &= \\begin{bmatrix}\n",
    "    2 & 3 \\\\\\\\\n",
    "    1 & 4 \\\\\\\\\n",
    "    7 & 6\n",
    "\\end{bmatrix}\\times\n",
    "\\begin{bmatrix}\n",
    "    5 \\\\\\\\\n",
    "    2\n",
    "\\end{bmatrix}+\n",
    "\\begin{bmatrix}\n",
    "    2 & 3 \\\\\\\\\n",
    "    1 & 4 \\\\\\\\\n",
    "    7 & 6\n",
    "\\end{bmatrix}\\times\n",
    "\\begin{bmatrix}\n",
    "    4 \\\\\\\\\n",
    "    3\n",
    "\\end{bmatrix}\\\\\\\\\n",
    "&=\n",
    "\\begin{bmatrix}\n",
    "    2 \\times 5 + 3 \\times 2 \\\\\\\\\n",
    "    1 \\times 5 + 4 \\times 2 \\\\\\\\\n",
    "    7 \\times 5 + 6 \\times 2\n",
    "\\end{bmatrix}+\n",
    "\\begin{bmatrix}\n",
    "    2 \\times 4 + 3 \\times 3 \\\\\\\\\n",
    "    1 \\times 4 + 4 \\times 3 \\\\\\\\\n",
    "    7 \\times 4 + 6 \\times 3\n",
    "\\end{bmatrix}\\\\\\\\\n",
    "&=\n",
    "\\begin{bmatrix}\n",
    "    16 \\\\\\\\\n",
    "    13 \\\\\\\\\n",
    "    47\n",
    "\\end{bmatrix}+\n",
    "\\begin{bmatrix}\n",
    "    17 \\\\\\\\\n",
    "    16 \\\\\\\\\n",
    "    46\n",
    "\\end{bmatrix}=\n",
    "\\begin{bmatrix}\n",
    "    33 \\\\\\\\\n",
    "    29 \\\\\\\\\n",
    "    93\n",
    "\\end{bmatrix}\n",
    "\\end{align*}\n",
    "$$"
   ]
  },
  {
   "cell_type": "code",
   "execution_count": 35,
   "metadata": {
    "hideCode": false,
    "hidePrompt": false
   },
   "outputs": [
    {
     "data": {
      "text/plain": [
       "array([[2, 3],\n",
       "       [1, 4],\n",
       "       [7, 6]])"
      ]
     },
     "execution_count": 35,
     "metadata": {},
     "output_type": "execute_result"
    }
   ],
   "source": [
    "A = np.array([[2, 3], [1, 4], [7, 6]])\n",
    "A"
   ]
  },
  {
   "cell_type": "code",
   "execution_count": 36,
   "metadata": {},
   "outputs": [
    {
     "data": {
      "text/plain": [
       "array([[5],\n",
       "       [2]])"
      ]
     },
     "execution_count": 36,
     "metadata": {},
     "output_type": "execute_result"
    }
   ],
   "source": [
    "B = np.array([[5], [2]])\n",
    "B"
   ]
  },
  {
   "cell_type": "code",
   "execution_count": 37,
   "metadata": {
    "hideCode": false,
    "hidePrompt": false
   },
   "outputs": [
    {
     "data": {
      "text/plain": [
       "array([[4],\n",
       "       [3]])"
      ]
     },
     "execution_count": 37,
     "metadata": {},
     "output_type": "execute_result"
    }
   ],
   "source": [
    "C = np.array([[4], [3]])\n",
    "C"
   ]
  },
  {
   "cell_type": "markdown",
   "metadata": {},
   "source": [
    "$\\boldsymbol{A}(\\boldsymbol{B}+\\boldsymbol{C})$:"
   ]
  },
  {
   "cell_type": "code",
   "execution_count": 39,
   "metadata": {
    "hideCode": false,
    "hidePrompt": false
   },
   "outputs": [
    {
     "data": {
      "text/plain": [
       "array([[33],\n",
       "       [29],\n",
       "       [93]])"
      ]
     },
     "execution_count": 39,
     "metadata": {},
     "output_type": "execute_result"
    }
   ],
   "source": [
    "D = np.dot(A, (B+C))\n",
    "D"
   ]
  },
  {
   "cell_type": "markdown",
   "metadata": {},
   "source": [
    "is equivalent to"
   ]
  },
  {
   "cell_type": "markdown",
   "metadata": {},
   "source": [
    "$\\boldsymbol{AB}+\\boldsymbol{AC}$:"
   ]
  },
  {
   "cell_type": "code",
   "execution_count": 40,
   "metadata": {
    "hideCode": false,
    "hidePrompt": false
   },
   "outputs": [
    {
     "data": {
      "text/plain": [
       "array([[33],\n",
       "       [29],\n",
       "       [93]])"
      ]
     },
     "execution_count": 40,
     "metadata": {},
     "output_type": "execute_result"
    }
   ],
   "source": [
    "D = np.dot(A, B) + np.dot(A, C)\n",
    "D"
   ]
  },
  {
   "cell_type": "markdown",
   "metadata": {
    "hideCode": false,
    "hidePrompt": false
   },
   "source": [
    "# Matrices mutliplication is associative\n",
    "\n",
    "$$\\boldsymbol{A}(\\boldsymbol{BC}) = \\boldsymbol{AB}(\\boldsymbol{C})$$\n"
   ]
  },
  {
   "cell_type": "code",
   "execution_count": 44,
   "metadata": {
    "hideCode": false,
    "hidePrompt": false
   },
   "outputs": [
    {
     "data": {
      "text/plain": [
       "array([[2, 3],\n",
       "       [1, 4],\n",
       "       [7, 6]])"
      ]
     },
     "execution_count": 44,
     "metadata": {},
     "output_type": "execute_result"
    }
   ],
   "source": [
    "A = np.array([[2, 3], [1, 4], [7, 6]])\n",
    "A"
   ]
  },
  {
   "cell_type": "code",
   "execution_count": 45,
   "metadata": {},
   "outputs": [
    {
     "data": {
      "text/plain": [
       "array([[5, 3],\n",
       "       [2, 2]])"
      ]
     },
     "execution_count": 45,
     "metadata": {},
     "output_type": "execute_result"
    }
   ],
   "source": [
    "B = np.array([[5, 3], [2, 2]])\n",
    "B"
   ]
  },
  {
   "cell_type": "markdown",
   "metadata": {},
   "source": [
    "$\\boldsymbol{A}(\\boldsymbol{BC})$:\n"
   ]
  },
  {
   "cell_type": "code",
   "execution_count": 48,
   "metadata": {
    "hideCode": false,
    "hidePrompt": false
   },
   "outputs": [
    {
     "data": {
      "text/plain": [
       "array([[100],\n",
       "       [ 85],\n",
       "       [287]])"
      ]
     },
     "execution_count": 48,
     "metadata": {},
     "output_type": "execute_result"
    }
   ],
   "source": [
    "D = A.dot(B.dot(C))\n",
    "D"
   ]
  },
  {
   "cell_type": "markdown",
   "metadata": {},
   "source": [
    "$\\boldsymbol{AB}(\\boldsymbol{C})$:"
   ]
  },
  {
   "cell_type": "code",
   "execution_count": 49,
   "metadata": {
    "hideCode": false,
    "hidePrompt": false
   },
   "outputs": [
    {
     "data": {
      "text/plain": [
       "array([[100],\n",
       "       [ 85],\n",
       "       [287]])"
      ]
     },
     "execution_count": 49,
     "metadata": {},
     "output_type": "execute_result"
    }
   ],
   "source": [
    "D = (A.dot(B)).dot(C)\n",
    "D"
   ]
  },
  {
   "cell_type": "markdown",
   "metadata": {
    "hideCode": false,
    "hidePrompt": false
   },
   "source": [
    "# Matrix multiplication is not commutative\n",
    "\n",
    "$$\\boldsymbol{AB} \\neq \\boldsymbol{BA}$$"
   ]
  },
  {
   "cell_type": "code",
   "execution_count": 50,
   "metadata": {
    "hideCode": false,
    "hidePrompt": false
   },
   "outputs": [
    {
     "data": {
      "text/plain": [
       "array([[2, 3],\n",
       "       [6, 5]])"
      ]
     },
     "execution_count": 50,
     "metadata": {},
     "output_type": "execute_result"
    }
   ],
   "source": [
    "A = np.array([[2, 3], [6, 5]])\n",
    "A"
   ]
  },
  {
   "cell_type": "code",
   "execution_count": 51,
   "metadata": {},
   "outputs": [
    {
     "data": {
      "text/plain": [
       "array([[5, 3],\n",
       "       [2, 2]])"
      ]
     },
     "execution_count": 51,
     "metadata": {},
     "output_type": "execute_result"
    }
   ],
   "source": [
    "B = np.array([[5, 3], [2, 2]])\n",
    "B"
   ]
  },
  {
   "cell_type": "markdown",
   "metadata": {},
   "source": [
    "$\\boldsymbol{AB}$:"
   ]
  },
  {
   "cell_type": "code",
   "execution_count": 52,
   "metadata": {
    "hideCode": false,
    "hidePrompt": false
   },
   "outputs": [
    {
     "data": {
      "text/plain": [
       "array([[16, 12],\n",
       "       [40, 28]])"
      ]
     },
     "execution_count": 52,
     "metadata": {},
     "output_type": "execute_result"
    }
   ],
   "source": [
    "AB = np.dot(A, B)\n",
    "AB"
   ]
  },
  {
   "cell_type": "markdown",
   "metadata": {},
   "source": [
    "$\\boldsymbol{BA}$:"
   ]
  },
  {
   "cell_type": "code",
   "execution_count": 53,
   "metadata": {
    "hideCode": false,
    "hidePrompt": false
   },
   "outputs": [
    {
     "data": {
      "text/plain": [
       "array([[28, 30],\n",
       "       [16, 16]])"
      ]
     },
     "execution_count": 53,
     "metadata": {},
     "output_type": "execute_result"
    }
   ],
   "source": [
    "BA = np.dot(B, A)\n",
    "BA"
   ]
  },
  {
   "cell_type": "markdown",
   "metadata": {
    "hideCode": false,
    "hidePrompt": false
   },
   "source": [
    "## However vector multiplication is commutative\n",
    "\n",
    "$$\\boldsymbol{x^{ \\text{T}}y} = \\boldsymbol{y^{\\text{T}}x} $$"
   ]
  },
  {
   "cell_type": "code",
   "execution_count": 54,
   "metadata": {
    "hideCode": false,
    "hidePrompt": false
   },
   "outputs": [
    {
     "data": {
      "text/plain": [
       "array([[2],\n",
       "       [6]])"
      ]
     },
     "execution_count": 54,
     "metadata": {},
     "output_type": "execute_result"
    }
   ],
   "source": [
    "x = np.array([[2], [6]])\n",
    "x"
   ]
  },
  {
   "cell_type": "code",
   "execution_count": 55,
   "metadata": {},
   "outputs": [
    {
     "data": {
      "text/plain": [
       "array([[5],\n",
       "       [2]])"
      ]
     },
     "execution_count": 55,
     "metadata": {},
     "output_type": "execute_result"
    }
   ],
   "source": [
    "y = np.array([[5], [2]])\n",
    "y"
   ]
  },
  {
   "cell_type": "markdown",
   "metadata": {},
   "source": [
    "$\\boldsymbol{x^\\text{T}y}$:"
   ]
  },
  {
   "cell_type": "code",
   "execution_count": 62,
   "metadata": {
    "hideCode": false,
    "hidePrompt": false
   },
   "outputs": [
    {
     "data": {
      "text/plain": [
       "array([[22]])"
      ]
     },
     "execution_count": 62,
     "metadata": {},
     "output_type": "execute_result"
    }
   ],
   "source": [
    "x_ty = np.dot(x.T, y)\n",
    "x_ty"
   ]
  },
  {
   "cell_type": "markdown",
   "metadata": {},
   "source": [
    "$\\boldsymbol{y^\\text{T}x}$:"
   ]
  },
  {
   "cell_type": "code",
   "execution_count": 57,
   "metadata": {
    "hideCode": false,
    "hidePrompt": false
   },
   "outputs": [
    {
     "data": {
      "text/plain": [
       "array([[22]])"
      ]
     },
     "execution_count": 57,
     "metadata": {},
     "output_type": "execute_result"
    }
   ],
   "source": [
    "y_tx = np.dot(y.T, x)\n",
    "y_tx"
   ]
  },
  {
   "cell_type": "markdown",
   "metadata": {
    "hideCode": false,
    "hidePrompt": false
   },
   "source": [
    "## Simplification of the matrix product\n",
    "\n",
    "$$(\\boldsymbol{AB})^{\\text{T}} = \\boldsymbol{B^{\\text{T}}A}^{\\text{T}}$$"
   ]
  },
  {
   "cell_type": "code",
   "execution_count": 58,
   "metadata": {
    "hideCode": false,
    "hidePrompt": false
   },
   "outputs": [
    {
     "data": {
      "text/plain": [
       "array([[2, 3],\n",
       "       [1, 4],\n",
       "       [7, 6]])"
      ]
     },
     "execution_count": 58,
     "metadata": {},
     "output_type": "execute_result"
    }
   ],
   "source": [
    "A = np.array([[2, 3], [1, 4], [7, 6]])\n",
    "A"
   ]
  },
  {
   "cell_type": "code",
   "execution_count": 59,
   "metadata": {},
   "outputs": [
    {
     "data": {
      "text/plain": [
       "array([[5, 3],\n",
       "       [2, 2]])"
      ]
     },
     "execution_count": 59,
     "metadata": {},
     "output_type": "execute_result"
    }
   ],
   "source": [
    "B = np.array([[5, 3], [2, 2]])\n",
    "B"
   ]
  },
  {
   "cell_type": "markdown",
   "metadata": {
    "hideCode": false,
    "hidePrompt": false
   },
   "source": [
    "$(\\boldsymbol{AB})^{\\text{T}}$:"
   ]
  },
  {
   "cell_type": "code",
   "execution_count": 60,
   "metadata": {
    "hideCode": false,
    "hidePrompt": false
   },
   "outputs": [
    {
     "data": {
      "text/plain": [
       "array([[16, 13, 47],\n",
       "       [12, 11, 33]])"
      ]
     },
     "execution_count": 60,
     "metadata": {},
     "output_type": "execute_result"
    }
   ],
   "source": [
    "AB_t = np.dot(A, B).T\n",
    "AB_t"
   ]
  },
  {
   "cell_type": "markdown",
   "metadata": {
    "hideCode": false,
    "hidePrompt": false
   },
   "source": [
    "$\\boldsymbol{B^{\\text{T}}A}^{\\text{T}}$:"
   ]
  },
  {
   "cell_type": "code",
   "execution_count": 61,
   "metadata": {
    "hideCode": false,
    "hidePrompt": false,
    "scrolled": true
   },
   "outputs": [
    {
     "data": {
      "text/plain": [
       "array([[16, 13, 47],\n",
       "       [12, 11, 33]])"
      ]
     },
     "execution_count": 61,
     "metadata": {},
     "output_type": "execute_result"
    }
   ],
   "source": [
    "B_tA = np.dot(B.T, A.T)\n",
    "B_tA"
   ]
  },
  {
   "cell_type": "markdown",
   "metadata": {
    "hideCode": false,
    "hidePrompt": false
   },
   "source": [
    "# System of linear equations\n",
    "\n",
    "Matrices can be used to describe a system of linear equations of the form $\\boldsymbol{Ax}=\\boldsymbol{b}$. Here is a set of linear equations:\n",
    "\n",
    "$$\n",
    "A_{1,1}x_1 + A_{1,2}x_2 + A_{1,n}x_n = b_1 \\\\\\\\\n",
    "A_{2,1}x_1 + A_{2,2}x_2 + A_{2,n}x_n = b_2 \\\\\\\\\n",
    "\\cdots \\\\\\\\\n",
    "A_{m,1}x_1 + A_{m,2}x_2 + A_{m,n}x_n = b_n\n",
    "$$\n",
    "\n",
    "The left hand term can considered as the product of a matrix $\\boldsymbol{A}$ containing weights for each variable ($n$ columns) and each equation ($m$ rows):\n",
    "\n",
    "$$\n",
    "\\boldsymbol{A}=\n",
    "\\begin{bmatrix}\n",
    "    A_{1,1} & A_{1,2} & \\cdots & A_{1,n} \\\\\\\\\n",
    "    A_{2,1} & A_{2,2} & \\cdots & A_{2,n} \\\\\\\\\n",
    "    \\cdots & \\cdots & \\cdots & \\cdots \\\\\\\\\n",
    "    A_{m,1} & A_{m,2} & \\cdots & A_{m,n}\n",
    "\\end{bmatrix}\n",
    "$$\n",
    "\n",
    "with a vector $\\boldsymbol{x}$ containing the $n$ unknowns\n",
    "\n",
    "$$\n",
    "\\boldsymbol{x}=\n",
    "\\begin{bmatrix}\n",
    "    x_1 \\\\\\\\\n",
    "    x_2 \\\\\\\\\n",
    "    \\cdots \\\\\\\\\n",
    "    x_n\n",
    "\\end{bmatrix}\n",
    "$$\n",
    "\n",
    "The dot product of $\\boldsymbol{A}$ and $\\boldsymbol{x}$ gives a set of equations. Here is a simple example:\n",
    "\n",
    "<img src=\"images/equationSystem.png\" width=\"400\" alt=\"equationSystem\">\n",
    "\n",
    "We have well a set of two equations with two unknowns. So the number of rows of $\\boldsymbol{A}$ gives the number of equations and the number of columns gives the number of unknowns.\n",
    "\n",
    "The equation system can be wrote like that:\n",
    "\n",
    "$$\n",
    "\\begin{bmatrix}\n",
    "    A_{1,1} & A_{1,2} & \\cdots & A_{1,n} \\\\\\\\\n",
    "    A_{2,1} & A_{2,2} & \\cdots & A_{2,n} \\\\\\\\\n",
    "    \\cdots & \\cdots & \\cdots & \\cdots \\\\\\\\\n",
    "    A_{m,1} & A_{m,2} & \\cdots & A_{m,n}\n",
    "\\end{bmatrix}\n",
    "\\times\n",
    "\\begin{bmatrix}\n",
    "    x_1 \\\\\\\\\n",
    "    x_2 \\\\\\\\\n",
    "    \\cdots \\\\\\\\\n",
    "    x_n\n",
    "\\end{bmatrix}\n",
    "=\n",
    "\\begin{bmatrix}\n",
    "    b_1 \\\\\\\\\n",
    "    b_2 \\\\\\\\\n",
    "    \\cdots \\\\\\\\\n",
    "    b_m\n",
    "\\end{bmatrix}\n",
    "$$\n",
    "\n",
    "Or simply:\n",
    "\n",
    "$$\\boldsymbol{Ax}=\\boldsymbol{b}$$\n"
   ]
  },
  {
   "cell_type": "markdown",
   "metadata": {},
   "source": [
    "### Example 4.\n",
    "\n",
    "We will try to convert the common form of a linear equation:\n",
    "\n",
    "$$y=ax+b$$\n",
    "\n",
    "to the matrix form. If we want to keep the previous notation:\n",
    "\n",
    "$$x_2=ax_1+b$$\n",
    "\n",
    "Don't confuse the variable $x_1$ and $x_2$ with the vector $\\boldsymbol{x}$. This vector contains actually all the variables of our equations. Here we have:\n",
    "\n",
    "$$\n",
    "\\boldsymbol{x} =\n",
    "\\begin{bmatrix}\n",
    "    x_1 \\\\\n",
    "    x_2\n",
    "\\end{bmatrix}\n",
    "$$\n",
    "\n",
    "In this example we will use the following equation:\n",
    "\n",
    "$$\n",
    "\\begin{align*}\n",
    "&x_2=2x_1+1\\\\\\\\\n",
    "\\Leftrightarrow& 2x_1-x_2=-1\n",
    "\\end{align*}\n",
    "$$\n",
    "\n",
    "If we want to end up with this system when we multiply $\\boldsymbol{A}$ and $\\boldsymbol{x}$ we need $\\boldsymbol{A}$ to be:\n",
    "\n",
    "$$\n",
    "\\boldsymbol{A}=\n",
    "\\begin{bmatrix}\n",
    "    2 & -1\n",
    "\\end{bmatrix}\n",
    "$$\n",
    "\n",
    "because\n",
    "\n",
    "$$\n",
    "\\begin{bmatrix}\n",
    "    2 & -1\n",
    "\\end{bmatrix}\n",
    "\\cdot\n",
    "\\begin{bmatrix}\n",
    "    x_1 \\\\\n",
    "    x_2\n",
    "\\end{bmatrix}\n",
    "=\n",
    "\\begin{bmatrix}\n",
    "2x_1-1x_2\n",
    "\\end{bmatrix}\n",
    "$$\n",
    "\n",
    "To complete the equation we have\n",
    "\n",
    "$$\n",
    "\\boldsymbol{b}=\n",
    "\\begin{bmatrix}\n",
    "    -1\n",
    "\\end{bmatrix}\n",
    "$$\n",
    "\n",
    "which gives\n",
    "\n",
    "$$\n",
    "\\begin{bmatrix}\n",
    "    2 & -1\n",
    "\\end{bmatrix}\n",
    "\\cdot\n",
    "\\begin{bmatrix}\n",
    "    x_1 \\\\\n",
    "    x_2\n",
    "\\end{bmatrix}\n",
    "=\n",
    "\\begin{bmatrix}\n",
    "    -1\n",
    "\\end{bmatrix}\n",
    "$$\n",
    "\n",
    "This system of equations is thus very simple and contains only 1 equation ($\\boldsymbol{A}$ has 1 row) and 2 variables ($\\boldsymbol{A}$ has 2 columns). \n",
    "\n",
    "To summarise $\\boldsymbol{A}$ will be the matrix of dimensions $m\\times n$ containing scalars multiplying these variables (here $x_1$ is multiplied by 2 and $x_2$ by -1). The vector $\\boldsymbol{x}$ contains the variables $x_1$ and $x_2$. And the right hand term is the constant $\\boldsymbol{b}$:\n",
    "\n",
    "$$\n",
    "\\boldsymbol{A}=\n",
    "\\begin{bmatrix}\n",
    "    2 & -1\n",
    "\\end{bmatrix}\n",
    "$$\n",
    "\n",
    "$$\n",
    "\\boldsymbol{x}=\n",
    "\\begin{bmatrix}\n",
    "    x_1\\\\\\\\\n",
    "    x_2\n",
    "\\end{bmatrix}\n",
    "$$\n",
    "\n",
    "$$\n",
    "\\boldsymbol{b}=\n",
    "\\begin{bmatrix}\n",
    "    -1\n",
    "\\end{bmatrix}\n",
    "$$\n",
    "\n",
    "We can write this system\n",
    "\n",
    "$$\n",
    "\\boldsymbol{Ax}=\\boldsymbol{b}\n",
    "$$\n",
    "\n",
    "We will see in [the next chapter]() that this compact way of writing set of linear equations can be very usefull. It provide actually a way to solve the equations."
   ]
  },
  {
   "cell_type": "markdown",
   "metadata": {},
   "source": [
    "# References\n",
    "\n",
    "[1] [Math is fun - Multiplying matrices](https://www.mathsisfun.com/algebra/matrix-multiplying.html)"
   ]
  }
 ],
 "metadata": {
  "hide_code_all_hidden": false,
  "kernelspec": {
   "display_name": "Python 2",
   "language": "python",
   "name": "python2"
  },
  "language_info": {
   "codemirror_mode": {
    "name": "ipython",
    "version": 2
   },
   "file_extension": ".py",
   "mimetype": "text/x-python",
   "name": "python",
   "nbconvert_exporter": "python",
   "pygments_lexer": "ipython2",
   "version": "2.7.10"
  }
 },
 "nbformat": 4,
 "nbformat_minor": 2
}

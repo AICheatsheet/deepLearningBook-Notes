{
 "cells": [
  {
   "cell_type": "code",
   "execution_count": 2,
   "metadata": {
    "collapsed": true
   },
   "outputs": [],
   "source": [
    "import numpy as np"
   ]
  },
  {
   "cell_type": "markdown",
   "metadata": {},
   "source": [
    "# Introduction\n",
    "\n",
    "This is the first post/notebook of a series following the syllabus of the [linear algebra chapter from the Deep Learning Book](http://www.deeplearningbook.org/contents/linear_algebra.html) by Goodfellow et al.. This work is a collection of thoughts/details/developements/examples made while reading the Deep Learning Book. It is designed to help you go through their introduction to linear algebra. For more details about this series, please see the [introduction post]().\n",
    "\n",
    "This first chapter is quiet light and concerns the basic elements used in linear algebra and their definitions. It also introduces important functions in Python/Numpy that we will use all along this series. It will explain through examples how to create and use vectors and matrices."
   ]
  },
  {
   "cell_type": "markdown",
   "metadata": {},
   "source": [
    "# 2.1 Scalars, Vectors, Matrices and Tensors\n",
    "\n",
    "First of all, some definitions:\n",
    "\n",
    "<img src=\"images/scalar-tensor.png\" width=\"400\" alt=\"scalar-tensor\">\n",
    "\n",
    "- A scalar is a single number\n",
    "- A vector is an array of numbers.\n",
    "\n",
    "$$\n",
    "\\boldsymbol{x} =\\begin{bmatrix}\n",
    "    x_1 \\\\\\\\\n",
    "    x_2 \\\\\\\\\n",
    "    \\cdots \\\\\\\\\n",
    "    x_n\n",
    "\\end{bmatrix}\n",
    "$$\n",
    "\n",
    "- A matrix is a 2-D array\n",
    "\n",
    "$$\n",
    "\\boldsymbol{A}=\n",
    "\\begin{bmatrix}\n",
    "    A_{1,1} & A_{1,2} & \\cdots & A_{1,n} \\\\\\\\\n",
    "    A_{2,1} & A_{2,2} & \\cdots & A_{2,n} \\\\\\\\\n",
    "    \\cdots & \\cdots & \\cdots & \\cdots \\\\\\\\\n",
    "    A_{m,1} & A_{m,2} & \\cdots & A_{m,n}\n",
    "\\end{bmatrix}\n",
    "$$\n",
    "\n",
    "- A tensor is a $n$-D array with $n>2$\n",
    "\n",
    "We will follow the conventions used in the Deep Learning Book: scalars are written in lowercase and italics ; vectors are written in lowercase, italics and bold type ; matrices are written in uppercase, italics and bold."
   ]
  },
  {
   "cell_type": "markdown",
   "metadata": {},
   "source": [
    "### Example 1.\n",
    "\n",
    "#### Create a vector with Python and Numpy\n",
    "\n",
    "We will start by creating a vector with the `array()` function from Numpy. Unlike the function `matrix()` which necessarily creates 2D arrays, you can create n-dimensionnal arrays with the function `array()`. The main advantage to use `matrix()` is the useful methods (conjugate transpose, inverse, matrix operations...). In the case of a vector, this is a 1D array:"
   ]
  },
  {
   "cell_type": "code",
   "execution_count": 21,
   "metadata": {},
   "outputs": [
    {
     "data": {
      "text/plain": [
       "array([1, 2, 3, 4])"
      ]
     },
     "execution_count": 21,
     "metadata": {},
     "output_type": "execute_result"
    }
   ],
   "source": [
    "x = np.array([1, 2, 3, 4])\n",
    "x"
   ]
  },
  {
   "cell_type": "markdown",
   "metadata": {},
   "source": [
    "### Example 2.\n",
    "\n",
    "#### Create a (3x2) matrix with nested brackets\n",
    "\n",
    "The `array()` function can create 2D array with nested brackets:"
   ]
  },
  {
   "cell_type": "code",
   "execution_count": 23,
   "metadata": {},
   "outputs": [
    {
     "data": {
      "text/plain": [
       "array([[1, 2],\n",
       "       [3, 4],\n",
       "       [5, 6]])"
      ]
     },
     "execution_count": 23,
     "metadata": {},
     "output_type": "execute_result"
    }
   ],
   "source": [
    "A = np.array([[1, 2], [3, 4], [5, 6]])\n",
    "A"
   ]
  },
  {
   "cell_type": "markdown",
   "metadata": {},
   "source": [
    "### Shape\n",
    "\n",
    "The shape of an array (that is to say its dimensions) tells you the number of value for each dimension. For a 2-D array it will give you the number of rows and the number of columns. Let's find the shape of our preceding 2-D array `A`. Since `A` is a Numpy array (it was created with the command `np.array`) you can access its shape with:"
   ]
  },
  {
   "cell_type": "code",
   "execution_count": 7,
   "metadata": {},
   "outputs": [
    {
     "data": {
      "text/plain": [
       "(3, 2)"
      ]
     },
     "execution_count": 7,
     "metadata": {},
     "output_type": "execute_result"
    }
   ],
   "source": [
    "A.shape"
   ]
  },
  {
   "cell_type": "markdown",
   "metadata": {},
   "source": [
    "We can see that $\\boldsymbol{A}$ has indeed 3 rows and 2 columns.\n",
    "\n",
    "In the case of our first vector, the shape can be retrieved the same way:"
   ]
  },
  {
   "cell_type": "code",
   "execution_count": 19,
   "metadata": {},
   "outputs": [
    {
     "data": {
      "text/plain": [
       "(4,)"
      ]
     },
     "execution_count": 19,
     "metadata": {},
     "output_type": "execute_result"
    }
   ],
   "source": [
    "x.shape"
   ]
  },
  {
   "cell_type": "markdown",
   "metadata": {},
   "source": [
    "You can see that there is only one dimension as expected and thus that number corresponds to the length of the array:"
   ]
  },
  {
   "cell_type": "code",
   "execution_count": 20,
   "metadata": {},
   "outputs": [
    {
     "data": {
      "text/plain": [
       "4"
      ]
     },
     "execution_count": 20,
     "metadata": {},
     "output_type": "execute_result"
    }
   ],
   "source": [
    "len(x)"
   ]
  },
  {
   "cell_type": "markdown",
   "metadata": {},
   "source": [
    "# Transposition\n",
    "\n",
    "With transposition you can convert a row vector to a column vector and vice versa:\n",
    "\n",
    "<img src=\"images/transposeVector.png\" alt=\"transposeVector\" width=\"200\">\n",
    "\n",
    "The transpose $\\boldsymbol{A}^{\\text{T}}$ of the matrix $\\boldsymbol{A}$ corresponds to the mirrored axes. If the matrix is a square matrix (same number of columns and rows):\n",
    "\n",
    "<img src=\"images/transposeMatrixSquare.png\" alt=\"transposeMatrixSquare\" width=\"300\">\n",
    "\n",
    "If the matrix is not square the idea is the same:\n",
    "\n",
    "<img src=\"images/transposeMatrix.png\" alt=\"transposeMatrix\" width=\"300\">\n",
    "\n",
    "\n",
    "The superscript $^\\text{T}$ is used for transposed matrices.\n",
    "\n",
    "$$\n",
    "\\boldsymbol{A}=\n",
    "\\begin{bmatrix}\n",
    "    A_{1,1} & A_{1,2} \\\\\\\\\n",
    "    A_{2,1} & A_{2,2} \\\\\\\\\n",
    "    A_{3,1} & A_{3,2}\n",
    "\\end{bmatrix}\n",
    "$$\n",
    "\n",
    "$$\n",
    "\\boldsymbol{A}^{\\text{T}}=\n",
    "\\begin{bmatrix}\n",
    "    A_{1,1} & A_{2,1} & A_{3,1} \\\\\\\\\n",
    "    A_{1,2} & A_{2,2} & A_{3,2}\n",
    "\\end{bmatrix}\n",
    "$$\n",
    "\n",
    "The shape ($m \\times n$) is inverted and becomes ($n \\times m$).\n",
    "\n",
    "<img src=\"images/transposeMatrixDim.png\" alt=\"transposeMatrixDim\" width=\"300\">"
   ]
  },
  {
   "cell_type": "markdown",
   "metadata": {},
   "source": [
    "### Example 3.\n",
    "\n",
    "#### Create a matrix A and transpose it"
   ]
  },
  {
   "cell_type": "code",
   "execution_count": 8,
   "metadata": {
    "collapsed": true
   },
   "outputs": [],
   "source": [
    "A = np.array([[1, 2], [3, 4], [5, 6]])\n",
    "A_t = A.T"
   ]
  },
  {
   "cell_type": "markdown",
   "metadata": {},
   "source": [
    "We can check the result of the transposition and the dimensions of the matrices:"
   ]
  },
  {
   "cell_type": "code",
   "execution_count": 9,
   "metadata": {},
   "outputs": [
    {
     "name": "stdout",
     "output_type": "stream",
     "text": [
      "A.shape: (3, 2)\n",
      "[[1 2]\n",
      " [3 4]\n",
      " [5 6]]\n",
      "\n",
      "A_t.shape: (2, 3)\n",
      "[[1 3 5]\n",
      " [2 4 6]]\n",
      "\n"
     ]
    }
   ],
   "source": [
    "print(\"A.shape: %s\\n%s\" %(A.shape, A))\n",
    "print(\"\\nA_t.shape: %s\\n%s\\n\" %(A_t.shape, A_t))"
   ]
  },
  {
   "cell_type": "markdown",
   "metadata": {},
   "source": [
    "We can see that the number of columns becomes the number of rows with transposition and vice versa."
   ]
  },
  {
   "cell_type": "markdown",
   "metadata": {},
   "source": [
    "# Addition\n",
    "\n",
    "<img src=\"images/additionMatrix.png\" alt=\"additionMatrix\" width=\"300\">\n",
    "\n",
    "Matrices can be added if they have the same shape:\n",
    "\n",
    "$$\\boldsymbol{A} + \\boldsymbol{B} = \\boldsymbol{C}$$\n",
    "\n",
    "Each cell of $\\boldsymbol{A}$ is added to the corresponding cell of $\\boldsymbol{B}$:\n",
    "\n",
    "$$\\boldsymbol{A}_{i,j} + \\boldsymbol{B}_{i,j} = \\boldsymbol{C}_{i,j}$$\n",
    "\n",
    "$i$ is the row index and $j$ the column index.\n",
    "\n",
    "$$\n",
    "\\begin{bmatrix}\n",
    "    A_{1,1} & A_{1,2} \\\\\\\\\n",
    "    A_{2,1} & A_{2,2} \\\\\\\\\n",
    "    A_{3,1} & A_{3,2}\n",
    "\\end{bmatrix}+\n",
    "\\begin{bmatrix}\n",
    "    B_{1,1} & B_{1,2} \\\\\\\\\n",
    "    B_{2,1} & B_{2,2} \\\\\\\\\n",
    "    B_{3,1} & B_{3,2}\n",
    "\\end{bmatrix}=\n",
    "\\begin{bmatrix}\n",
    "    A_{1,1} + B_{1,1} & A_{1,2} + B_{1,2} \\\\\\\\\n",
    "    A_{2,1} + B_{2,1} & A_{2,2} + B_{2,2} \\\\\\\\\n",
    "    A_{3,1} + B_{3,1} & A_{3,2} + B_{3,2}\n",
    "\\end{bmatrix}\n",
    "$$\n",
    "\n",
    "The shape of $\\boldsymbol{A}$, $\\boldsymbol{B}$ and $\\boldsymbol{C}$ are identical. Let's check that in an example:"
   ]
  },
  {
   "cell_type": "markdown",
   "metadata": {},
   "source": [
    "### Example 4.\n",
    "\n",
    "#### Create two matrices A and B and add them\n",
    "\n",
    "With Numpy you can add matrices just as you would add vectors or scalars."
   ]
  },
  {
   "cell_type": "code",
   "execution_count": 10,
   "metadata": {
    "collapsed": true
   },
   "outputs": [],
   "source": [
    "A = np.array([[1, 2], [3, 4], [5, 6]])\n",
    "B = np.array([[2, 5], [7, 4], [4, 3]])\n",
    "# Add matrices A and B\n",
    "C = A + B"
   ]
  },
  {
   "cell_type": "code",
   "execution_count": 11,
   "metadata": {},
   "outputs": [
    {
     "name": "stdout",
     "output_type": "stream",
     "text": [
      "A \n",
      "[[1 2]\n",
      " [3 4]\n",
      " [5 6]]\n",
      "\n",
      "B \n",
      "[[2 5]\n",
      " [7 4]\n",
      " [4 3]]\n",
      "\n",
      "C \n",
      "[[ 3  7]\n",
      " [10  8]\n",
      " [ 9  9]]\n"
     ]
    }
   ],
   "source": [
    "print(\"A \\n%s\\n\" %A)\n",
    "print(\"B \\n%s\\n\" %B)\n",
    "print(\"C \\n%s\" %C)"
   ]
  },
  {
   "cell_type": "markdown",
   "metadata": {},
   "source": [
    "It is also possible to add a scalar to a matrix. This means adding this scalar to each cell of the matrix.\n",
    "\n",
    "$$\n",
    "\\alpha+ \\begin{bmatrix}\n",
    "    A_{1,1} & A_{1,2} \\\\\\\\\n",
    "    A_{2,1} & A_{2,2} \\\\\\\\\n",
    "    A_{3,1} & A_{3,2}\n",
    "\\end{bmatrix}=\n",
    "\\begin{bmatrix}\n",
    "    \\alpha + A_{1,1} & \\alpha + A_{1,2} \\\\\\\\\n",
    "    \\alpha + A_{2,1} & \\alpha + A_{2,2} \\\\\\\\\n",
    "    \\alpha + A_{3,1} & \\alpha + A_{3,2}\n",
    "\\end{bmatrix}\n",
    "$$"
   ]
  },
  {
   "cell_type": "markdown",
   "metadata": {},
   "source": [
    "### Example 5.\n",
    "\n",
    "#### Add a scalar to a matrix\n",
    "\n",
    "It is also possible to add a scalar to a matrix. In that case, the scalar will be added to each element of the matrix."
   ]
  },
  {
   "cell_type": "code",
   "execution_count": 12,
   "metadata": {
    "collapsed": true
   },
   "outputs": [],
   "source": [
    "# Exemple: Add 4 to the matrix A\n",
    "C = A+4"
   ]
  },
  {
   "cell_type": "code",
   "execution_count": 13,
   "metadata": {},
   "outputs": [
    {
     "name": "stdout",
     "output_type": "stream",
     "text": [
      "A \n",
      "[[1 2]\n",
      " [3 4]\n",
      " [5 6]]\n",
      "\n",
      "C \n",
      "[[ 5  6]\n",
      " [ 7  8]\n",
      " [ 9 10]]\n"
     ]
    }
   ],
   "source": [
    "print(\"A \\n%s\\n\" %A)\n",
    "print(\"C \\n%s\" %C)"
   ]
  },
  {
   "cell_type": "markdown",
   "metadata": {},
   "source": [
    "# Broadcasting\n",
    "\n",
    "Numpy can handle operations on arrays of different shapes. The smaller array will be extended to match the shape of the bigger one. The advantage is that this is done in `C` under the hood (like any vectorized operations in Numpy). Actually we used broadcasting in the example 5. The scalar was converted in an array of same shape as $\\boldsymbol{A}$.\n",
    "\n",
    "Here is another generic example:\n",
    "\n",
    "$$\n",
    "\\begin{bmatrix}\n",
    "    A_{1,1} & A_{1,2} \\\\\\\\\n",
    "    A_{2,1} & A_{2,2} \\\\\\\\\n",
    "    A_{3,1} & A_{3,2}\n",
    "\\end{bmatrix}+\n",
    "\\begin{bmatrix}\n",
    "    B_{1,1} \\\\\\\\\n",
    "    B_{2,1} \\\\\\\\\n",
    "    B_{3,1}\n",
    "\\end{bmatrix}\n",
    "$$\n",
    "\n",
    "is equivalent to\n",
    "\n",
    "$$\n",
    "\\begin{bmatrix}\n",
    "    A_{1,1} & A_{1,2} \\\\\\\\\n",
    "    A_{2,1} & A_{2,2} \\\\\\\\\n",
    "    A_{3,1} & A_{3,2}\n",
    "\\end{bmatrix}+\n",
    "\\begin{bmatrix}\n",
    "    B_{1,1} & B_{1,1} \\\\\\\\\n",
    "    B_{2,1} & B_{2,1} \\\\\\\\\n",
    "    B_{3,1} & B_{3,1}\n",
    "\\end{bmatrix}=\n",
    "\\begin{bmatrix}\n",
    "    A_{1,1} + B_{1,1} & A_{1,2} + B_{1,1} \\\\\\\\\n",
    "    A_{2,1} + B_{2,1} & A_{2,2} + B_{2,1} \\\\\\\\\n",
    "    A_{3,1} + B_{3,1} & A_{3,2} + B_{3,1}\n",
    "\\end{bmatrix}\n",
    "$$\n",
    "\n",
    "where the ($3 \\times 1$) matrix is converted to the right shape ($3 \\times 2$) by copying the first column. Numpy will do that automatically if the shapes can match."
   ]
  },
  {
   "cell_type": "markdown",
   "metadata": {},
   "source": [
    "### Example 6.\n",
    "\n",
    "#### Add two matrices of different shapes"
   ]
  },
  {
   "cell_type": "code",
   "execution_count": 14,
   "metadata": {
    "collapsed": true
   },
   "outputs": [],
   "source": [
    "A = np.array([[1, 2], [3, 4], [5, 6]])\n",
    "B = np.array([[2], [4], [6]])\n",
    "# Broadcasting\n",
    "C=A+B"
   ]
  },
  {
   "cell_type": "code",
   "execution_count": 15,
   "metadata": {},
   "outputs": [
    {
     "name": "stdout",
     "output_type": "stream",
     "text": [
      "C \n",
      "[[ 3  4]\n",
      " [ 7  8]\n",
      " [11 12]]\n",
      "\n",
      "A \n",
      "[[1 2]\n",
      " [3 4]\n",
      " [5 6]]\n",
      "\n",
      "B \n",
      "[[2]\n",
      " [4]\n",
      " [6]]\n",
      "\n"
     ]
    }
   ],
   "source": [
    "print(\"C \\n%s\\n\" %C)\n",
    "print(\"A \\n%s\\n\" %A)\n",
    "print(\"B \\n%s\\n\" %B)"
   ]
  },
  {
   "cell_type": "markdown",
   "metadata": {},
   "source": [
    "You can find basics operations on matrices simply explained [here](https://www.mathsisfun.com/algebra/matrix-introduction.html)."
   ]
  },
  {
   "cell_type": "markdown",
   "metadata": {},
   "source": [
    "# References\n",
    "\n",
    "[1] [Broadcasting in Numpy](https://docs.scipy.org/doc/numpy-1.13.0/user/basics.broadcasting.html)\n",
    "\n",
    "[2] [Discussion on Arrays and matrices](https://stackoverflow.com/questions/4151128/what-are-the-differences-between-numpy-arrays-and-matrices-which-one-should-i-u)\n",
    "\n",
    "[3] [Math is fun - Matrix introduction](https://www.mathsisfun.com/algebra/matrix-introduction.html)"
   ]
  },
  {
   "cell_type": "code",
   "execution_count": null,
   "metadata": {
    "collapsed": true
   },
   "outputs": [],
   "source": []
  }
 ],
 "metadata": {
  "kernelspec": {
   "display_name": "Python 2",
   "language": "python",
   "name": "python2"
  },
  "language_info": {
   "codemirror_mode": {
    "name": "ipython",
    "version": 2
   },
   "file_extension": ".py",
   "mimetype": "text/x-python",
   "name": "python",
   "nbconvert_exporter": "python",
   "pygments_lexer": "ipython2",
   "version": "2.7.10"
  }
 },
 "nbformat": 4,
 "nbformat_minor": 2
}

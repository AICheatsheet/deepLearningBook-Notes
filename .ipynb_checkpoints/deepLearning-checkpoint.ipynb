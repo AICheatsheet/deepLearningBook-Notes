{
 "cells": [
  {
   "cell_type": "code",
   "execution_count": 2,
   "metadata": {},
   "outputs": [
    {
     "name": "stderr",
     "output_type": "stream",
     "text": [
      "/Users/lsp/.virtualenvs/kaggle/lib/python2.7/site-packages/matplotlib/font_manager.py:273: UserWarning: Matplotlib is building the font cache using fc-list. This may take a moment.\n",
      "  warnings.warn('Matplotlib is building the font cache using fc-list. This may take a moment.')\n"
     ]
    }
   ],
   "source": [
    "import numpy as np\n",
    "import matplotlib.pyplot as plt"
   ]
  },
  {
   "cell_type": "code",
   "execution_count": 7,
   "metadata": {},
   "outputs": [
    {
     "name": "stdout",
     "output_type": "stream",
     "text": [
      "Populating the interactive namespace from numpy and matplotlib\n"
     ]
    }
   ],
   "source": [
    "# Plot parameters\n",
    "plt.style.use('ggplot')\n",
    "plt.rcParams['axes.facecolor']='w'\n",
    "\n",
    "%pylab inline\n",
    "pylab.rcParams['figure.figsize'] = (2,2)"
   ]
  },
  {
   "cell_type": "code",
   "execution_count": 136,
   "metadata": {
    "collapsed": true
   },
   "outputs": [],
   "source": [
    "# Avoid inaccurate floating values (for inverse matrices in dot product for instance)\n",
    "# See https://stackoverflow.com/questions/24537791/numpy-matrix-inversion-rounding-errors\n",
    "np.set_printoptions(suppress=True)"
   ]
  },
  {
   "cell_type": "markdown",
   "metadata": {},
   "source": [
    "# 2.1 Scalars, Vectors, Matrices and Tensors\n",
    "\n",
    "- A scalar is a single number\n",
    "- A vector is an array of numbers. Geometrically, each value can be thought of a different axis.\n",
    "\n",
    "$$\n",
    "\\boldsymbol{x} =\\begin{bmatrix}\n",
    "    x_1 \\\\\\\\\n",
    "    x_2 \\\\\\\\\n",
    "    \\cdots \\\\\\\\\n",
    "    x_n\n",
    "\\end{bmatrix}\n",
    "$$\n",
    "\n",
    "- A matrix is a 2-D array\n",
    "\n",
    "$$\n",
    "\\boldsymbol{A}=\n",
    "\\begin{bmatrix}\n",
    "    A_{1,1} & A_{1,2} & A_{1,m} \\\\\\\\\n",
    "    A_{2,1} & A_{2,2} & A_{2,m} \\\\\\\\\n",
    "    \\cdots & \\cdots \\\\\\\\\n",
    "    A_{n,1} & A_{n,2} & A_{n,m}\n",
    "\\end{bmatrix}\n",
    "$$\n",
    "\n",
    "- A tensor is a n-D array with n>2"
   ]
  },
  {
   "cell_type": "code",
   "execution_count": 5,
   "metadata": {},
   "outputs": [
    {
     "name": "stdout",
     "output_type": "stream",
     "text": [
      "[1 2 3 4]\n"
     ]
    }
   ],
   "source": [
    "# Create a vector\n",
    "x = np.array([1, 2, 3, 4])\n",
    "print(x)"
   ]
  },
  {
   "cell_type": "code",
   "execution_count": 35,
   "metadata": {},
   "outputs": [
    {
     "name": "stdout",
     "output_type": "stream",
     "text": [
      "[[1 2]\n",
      " [3 4]\n",
      " [5 6]]\n"
     ]
    }
   ],
   "source": [
    "# Create a (3x2) matrix (nested brackets)\n",
    "A = np.array([[1, 2], [3, 4], [5, 6]])\n",
    "print(A)"
   ]
  },
  {
   "cell_type": "markdown",
   "metadata": {},
   "source": [
    "#### The shape (number of rows x number of columns) of a numpy matrix can be get with"
   ]
  },
  {
   "cell_type": "code",
   "execution_count": 36,
   "metadata": {},
   "outputs": [
    {
     "data": {
      "text/plain": [
       "(3, 2)"
      ]
     },
     "execution_count": 36,
     "metadata": {},
     "output_type": "execute_result"
    }
   ],
   "source": [
    "A.shape"
   ]
  },
  {
   "cell_type": "code",
   "execution_count": 37,
   "metadata": {},
   "outputs": [
    {
     "name": "stdout",
     "output_type": "stream",
     "text": [
      "A has 3 rows and 2 columns\n"
     ]
    }
   ],
   "source": [
    "print(\"A has %s rows and %s columns\" %(A.shape[0], A.shape[1]))"
   ]
  },
  {
   "cell_type": "markdown",
   "metadata": {},
   "source": [
    "### Transpose\n",
    "\n",
    "The transpose $A^{\\text{T}}$ of the matrix A corresponds to the mirrored axes.\n",
    "\n",
    "$$\n",
    "\\boldsymbol{A}=\n",
    "\\begin{bmatrix}\n",
    "    A_{1,1} & A_{1,2} \\\\\\\\\n",
    "    A_{2,1} & A_{2,2} \\\\\\\\\n",
    "    A_{3,1} & A_{3,2}\n",
    "\\end{bmatrix}\n",
    "$$\n",
    "\n",
    "$$\n",
    "\\boldsymbol{A}^{\\text{T}}=\n",
    "\\begin{bmatrix}\n",
    "    A_{1,1} & A_{2,1} & A_{3,1} \\\\\\\\\n",
    "    A_{1,2} & A_{2,2} & A_{3,2} \\\\\\\\\n",
    "\\end{bmatrix}\n",
    "$$\n",
    "\n",
    "The shape ($m \\times n$) is inverted and becomes ($n \\times m$)."
   ]
  },
  {
   "cell_type": "code",
   "execution_count": 73,
   "metadata": {},
   "outputs": [
    {
     "name": "stdout",
     "output_type": "stream",
     "text": [
      "A.shape: (3, 2)\n",
      "\n",
      "[[1 2]\n",
      " [3 4]\n",
      " [5 6]]\n"
     ]
    }
   ],
   "source": [
    "# Create a matrix A and transpose it\n",
    "A = np.array([[1, 2], [3, 4], [5, 6]])\n",
    "print(\"A.shape: %s\\n\\n%s\" %(A.shape, A))"
   ]
  },
  {
   "cell_type": "code",
   "execution_count": 74,
   "metadata": {},
   "outputs": [
    {
     "name": "stdout",
     "output_type": "stream",
     "text": [
      "A_t.shape: (2, 3)\n",
      "\n",
      "[[1 3 5]\n",
      " [2 4 6]]\n"
     ]
    }
   ],
   "source": [
    "A_t = A.T\n",
    "print(\"A_t.shape: %s\\n\\n%s\" %(A_t.shape, A_t))"
   ]
  },
  {
   "cell_type": "code",
   "execution_count": 39,
   "metadata": {},
   "outputs": [
    {
     "name": "stdout",
     "output_type": "stream",
     "text": [
      "The shape of A is (3, 2). The shape of the transpose of A is (2, 3)\n"
     ]
    }
   ],
   "source": [
    "print(\"The shape of A is %s. The shape of the transpose of A is %s\" %(A.shape, A_t.shape))"
   ]
  },
  {
   "cell_type": "markdown",
   "metadata": {},
   "source": [
    "### Addition\n",
    "\n",
    "Matrices can be added if they have the same shape\n",
    "\n",
    "$$\n",
    "\\begin{bmatrix}\n",
    "    A_{1,1} & A_{1,2} \\\\\\\\\n",
    "    A_{2,1} & A_{2,2} \\\\\\\\\n",
    "    A_{3,1} & A_{3,2}\n",
    "\\end{bmatrix}+\n",
    "\\begin{bmatrix}\n",
    "    B_{1,1} & B_{1,2} \\\\\\\\\n",
    "    B_{2,1} & B_{2,2} \\\\\\\\\n",
    "    B_{3,1} & B_{3,2}\n",
    "\\end{bmatrix}=\n",
    "\\begin{bmatrix}\n",
    "    A_{1,1} + B_{1,1} & A_{1,2} + B_{1,2} \\\\\\\\\n",
    "    A_{2,1} + B_{2,1} & A_{2,2} + B_{2,2} \\\\\\\\\n",
    "    A_{3,1} + B_{3,1} & A_{3,2} + B_{3,2}\n",
    "\\end{bmatrix}\n",
    "$$\n",
    "\n",
    "$$\\boldsymbol{A}_{i,j} + \\boldsymbol{B}_{i,j} = \\boldsymbol{C}_{i,j}$$"
   ]
  },
  {
   "cell_type": "code",
   "execution_count": 72,
   "metadata": {},
   "outputs": [
    {
     "name": "stdout",
     "output_type": "stream",
     "text": [
      "A.shape: (3, 2)\n",
      "\n",
      "[[1 2]\n",
      " [3 4]\n",
      " [5 6]]\n"
     ]
    }
   ],
   "source": [
    "A = np.array([[1, 2], [3, 4], [5, 6]])\n",
    "print(\"A.shape: %s\\n\\n%s\" %(A.shape, A))"
   ]
  },
  {
   "cell_type": "code",
   "execution_count": 71,
   "metadata": {},
   "outputs": [
    {
     "name": "stdout",
     "output_type": "stream",
     "text": [
      "B.shape: (3, 2)\n",
      "\n",
      "[[2 5]\n",
      " [7 4]\n",
      " [4 3]]\n"
     ]
    }
   ],
   "source": [
    "B = np.array([[2, 5], [7, 4], [4, 3]])\n",
    "print(\"B.shape: %s\\n\\n%s\" %(B.shape, B))"
   ]
  },
  {
   "cell_type": "code",
   "execution_count": 44,
   "metadata": {},
   "outputs": [
    {
     "name": "stdout",
     "output_type": "stream",
     "text": [
      "[[ 3  7]\n",
      " [10  8]\n",
      " [ 9  9]]\n"
     ]
    }
   ],
   "source": [
    "# Add matrices A and B\n",
    "C = A + B\n",
    "print(\"C.shape: %s\\n\\n%s\" %(C.shape, C))"
   ]
  },
  {
   "cell_type": "markdown",
   "metadata": {},
   "source": [
    "#### The shape of C is the same as the shape of A and B."
   ]
  },
  {
   "cell_type": "code",
   "execution_count": 52,
   "metadata": {},
   "outputs": [
    {
     "name": "stdout",
     "output_type": "stream",
     "text": [
      "A: (3, 2)\n",
      "B: (3, 2)\n",
      "C: (3, 2)\n"
     ]
    }
   ],
   "source": [
    "print(\"A: %s\\nB: %s\\nC: %s\" %(A.shape, B.shape, C.shape))"
   ]
  },
  {
   "cell_type": "markdown",
   "metadata": {},
   "source": [
    "It is also possible to add a scalar to a matrix\n",
    "\n",
    "$$\n",
    "\\alpha+ \\begin{bmatrix}\n",
    "    A_{1,1} & A_{1,2} \\\\\\\\\n",
    "    A_{2,1} & A_{2,2} \\\\\\\\\n",
    "    A_{3,1} & A_{3,2}\n",
    "\\end{bmatrix}=\n",
    "\\begin{bmatrix}\n",
    "    \\alpha + A_{1,1} & \\alpha + A_{1,2} \\\\\\\\\n",
    "    \\alpha + A_{2,1} & \\alpha + A_{2,2} \\\\\\\\\n",
    "    \\alpha + A_{3,1} & \\alpha + A_{3,2}\n",
    "\\end{bmatrix}\n",
    "$$"
   ]
  },
  {
   "cell_type": "code",
   "execution_count": 70,
   "metadata": {},
   "outputs": [
    {
     "name": "stdout",
     "output_type": "stream",
     "text": [
      "C.shape: (3, 2)\n",
      "\n",
      "[[ 4  8]\n",
      " [12 16]\n",
      " [20 24]]\n"
     ]
    }
   ],
   "source": [
    "# Add 4 to the matrix A\n",
    "C = 4*A\n",
    "print(\"C.shape: %s\\n\\n%s\" %(C.shape, C))"
   ]
  },
  {
   "cell_type": "markdown",
   "metadata": {},
   "source": [
    "### Broadcasting\n",
    "\n",
    "$$\n",
    "\\begin{bmatrix}\n",
    "    A_{1,1} & A_{1,2} \\\\\\\\\n",
    "    A_{2,1} & A_{2,2} \\\\\\\\\n",
    "    A_{3,1} & A_{3,2}\n",
    "\\end{bmatrix}+\n",
    "\\begin{bmatrix}\n",
    "    B_{1,1} \\\\\\\\\n",
    "    B_{2,1} \\\\\\\\\n",
    "    B_{3,1}\n",
    "\\end{bmatrix}=\n",
    "\\begin{bmatrix}\n",
    "    A_{1,1} + B_{1,1} & A_{1,2} + B_{1,1} \\\\\\\\\n",
    "    A_{2,1} + B_{2,1} & A_{2,2} + B_{2,1} \\\\\\\\\n",
    "    A_{3,1} + B_{3,1} & A_{3,2} + B_{3,1}\n",
    "\\end{bmatrix}\n",
    "$$\n",
    "\n",
    "is equivalent to\n",
    "\n",
    "$$\n",
    "\\begin{bmatrix}\n",
    "    A_{1,1} & A_{1,2} \\\\\\\\\n",
    "    A_{2,1} & A_{2,2} \\\\\\\\\n",
    "    A_{3,1} & A_{3,2}\n",
    "\\end{bmatrix}+\n",
    "\\begin{bmatrix}\n",
    "    B_{1,1} & B_{1,1} \\\\\\\\\n",
    "    B_{2,1} & B_{2,1} \\\\\\\\\n",
    "    B_{3,1} & B_{3,1}\n",
    "\\end{bmatrix}=\n",
    "\\begin{bmatrix}\n",
    "    A_{1,1} + B_{1,1} & A_{1,2} + B_{1,1} \\\\\\\\\n",
    "    A_{2,1} + B_{2,1} & A_{2,2} + B_{2,1} \\\\\\\\\n",
    "    A_{3,1} + B_{3,1} & A_{3,2} + B_{3,1}\n",
    "\\end{bmatrix}\n",
    "$$\n",
    "\n",
    "where the ($3 \\times 1$) matrix is converted to the right shape ($3 \\times 2$) by copying the first column. Numpy will do that automatically if the shapes can match."
   ]
  },
  {
   "cell_type": "code",
   "execution_count": 67,
   "metadata": {},
   "outputs": [
    {
     "name": "stdout",
     "output_type": "stream",
     "text": [
      "A.shape: (3, 2)\n",
      "\n",
      "[[1 2]\n",
      " [3 4]\n",
      " [5 6]]\n"
     ]
    }
   ],
   "source": [
    "A = np.array([[1, 2], [3, 4], [5, 6]])\n",
    "print(\"A.shape: %s\\n\\n%s\" %(A.shape, A))"
   ]
  },
  {
   "cell_type": "code",
   "execution_count": 68,
   "metadata": {},
   "outputs": [
    {
     "name": "stdout",
     "output_type": "stream",
     "text": [
      "B.shape: (3, 1)\n",
      "\n",
      "[[2]\n",
      " [4]\n",
      " [6]]\n"
     ]
    }
   ],
   "source": [
    "B = np.array([[2], [4], [6]])\n",
    "print(\"B.shape: %s\\n\\n%s\" %(B.shape, B))"
   ]
  },
  {
   "cell_type": "code",
   "execution_count": 69,
   "metadata": {},
   "outputs": [
    {
     "name": "stdout",
     "output_type": "stream",
     "text": [
      "C.shape: (3, 2)\n",
      "\n",
      "[[ 3  4]\n",
      " [ 7  8]\n",
      " [11 12]]\n"
     ]
    }
   ],
   "source": [
    "# Broadcasting\n",
    "C=A+B\n",
    "print(\"C.shape: %s\\n\\n%s\" %(C.shape, C))"
   ]
  },
  {
   "cell_type": "markdown",
   "metadata": {},
   "source": [
    "# 2.2 Multiplying Matrices and Vectors\n",
    "\n",
    "The matrix product is the sum of the rows of the first matrix and the columns of the second one. Thus, if the shape of the first matrix is ($m \\times n$) the second matrix need to be of shape ($n \\times x$).\n",
    "\n",
    "### Example 1. $\\boldsymbol{A} _{3,2} \\times \\boldsymbol{B} _{2, 1} = \\boldsymbol{C} _{3, 1}$\n",
    "\n",
    "$$\n",
    "\\begin{bmatrix}\n",
    "    A_{1,1} & A_{1,2} \\\\\\\\\n",
    "    A_{2,1} & A_{2,2} \\\\\\\\\n",
    "    A_{3,1} & A_{3,2}\n",
    "\\end{bmatrix}\\times\n",
    "\\begin{bmatrix}\n",
    "    B_{1,1} \\\\\\\\\n",
    "    B_{2,1}\n",
    "\\end{bmatrix}=\n",
    "\\begin{bmatrix}\n",
    "    A_{1,1} \\times B_{1,1} + A_{1,2} \\times B_{2,1} \\\\\\\\\n",
    "    A_{2,1} \\times B_{1,1} + A_{2,2} \\times B_{2,1} \\\\\\\\\n",
    "    A_{3,1} \\times B_{1,1} + A_{3,2} \\times B_{2,1}\n",
    "\\end{bmatrix}\n",
    "$$"
   ]
  },
  {
   "cell_type": "code",
   "execution_count": 60,
   "metadata": {},
   "outputs": [
    {
     "name": "stdout",
     "output_type": "stream",
     "text": [
      "A.shape: (3, 2)\n",
      "\n",
      "[[1 2]\n",
      " [3 4]\n",
      " [5 6]]\n"
     ]
    }
   ],
   "source": [
    "A = np.array([[1, 2], [3, 4], [5, 6]])\n",
    "print(\"A.shape: %s\\n\\n%s\" %(A.shape, A))"
   ]
  },
  {
   "cell_type": "code",
   "execution_count": 61,
   "metadata": {},
   "outputs": [
    {
     "name": "stdout",
     "output_type": "stream",
     "text": [
      "B.shape: (2, 1)\n",
      "\n",
      "[[2]\n",
      " [4]]\n"
     ]
    }
   ],
   "source": [
    "B = np.array([[2], [4]])\n",
    "print(\"B.shape: %s\\n\\n%s\" %(B.shape, B))"
   ]
  },
  {
   "cell_type": "markdown",
   "metadata": {},
   "source": [
    "#### The numpy command 'dot' can be used to compute the matrix (or dot) product"
   ]
  },
  {
   "cell_type": "code",
   "execution_count": 62,
   "metadata": {},
   "outputs": [
    {
     "name": "stdout",
     "output_type": "stream",
     "text": [
      "C.shape: (3, 1)\n",
      "\n",
      "[[10]\n",
      " [22]\n",
      " [34]]\n"
     ]
    }
   ],
   "source": [
    "C = np.dot(A, B)\n",
    "print(\"C.shape: %s\\n\\n%s\" %(C.shape, C))"
   ]
  },
  {
   "cell_type": "markdown",
   "metadata": {},
   "source": [
    "### Example 2. $\\boldsymbol{A} _{4,3} \\times \\boldsymbol{B} _{3, 2} = \\boldsymbol{C} _{4, 2}$\n",
    "\n",
    "$$\n",
    "\\begin{bmatrix}\n",
    "    A_{1,1} & A_{1,2} & A_{1,3} \\\\\\\\\n",
    "    A_{2,1} & A_{2,2} & A_{2,3} \\\\\\\\\n",
    "    A_{3,1} & A_{3,2} & A_{3,3} \\\\\\\\\n",
    "    A_{4,1} & A_{4,2} & A_{4,3}\n",
    "\\end{bmatrix}\\times\n",
    "\\begin{bmatrix}\n",
    "    B_{1,1} & B_{1,2} \\\\\\\\\n",
    "    B_{2,1} & B_{2,2} \\\\\\\\\n",
    "    B_{3,1} & B_{3,2}\n",
    "\\end{bmatrix}=\n",
    "\\begin{bmatrix}\n",
    "    A_{1,1} \\times B_{1,1} + A_{1,2} \\times B_{2,1} + A_{1,3} \\times B_{3,1} & A_{1,1} \\times B_{1,2} + A_{1,2} \\times B_{2,2} + A_{1,3} \\times B_{3,2} \\\\\\\\\n",
    "    A_{2,1} \\times B_{1,1} + A_{2,2} \\times B_{2,1} + A_{2,3} \\times B_{3,1} & A_{2,1} \\times B_{1,2} + A_{2,2} \\times B_{2,2} + A_{2,3} \\times B_{3,2} \\\\\\\\\n",
    "    A_{3,1} \\times B_{1,1} + A_{3,2} \\times B_{2,1} + A_{3,3} \\times B_{3,1} & A_{3,1} \\times B_{1,2} + A_{3,2} \\times B_{2,2} + A_{3,3} \\times B_{3,2} \\\\\\\\\n",
    "    A_{4,1} \\times B_{1,1} + A_{4,2} \\times B_{2,1} + A_{4,3} \\times B_{3,1} & A_{4,1} \\times B_{1,2} + A_{4,2} \\times B_{2,2} + A_{4,3} \\times B_{3,2} \\\\\\\\\n",
    "\\end{bmatrix}\n",
    "$$"
   ]
  },
  {
   "cell_type": "code",
   "execution_count": 63,
   "metadata": {},
   "outputs": [
    {
     "name": "stdout",
     "output_type": "stream",
     "text": [
      "A.shape: (4, 3)\n",
      "\n",
      "[[ 1  2  3]\n",
      " [ 4  5  6]\n",
      " [ 7  8  9]\n",
      " [10 11 12]]\n"
     ]
    }
   ],
   "source": [
    "A = np.array([[1, 2, 3], [4, 5, 6], [7, 8, 9], [10, 11, 12]])\n",
    "print(\"A.shape: %s\\n\\n%s\" %(A.shape, A))"
   ]
  },
  {
   "cell_type": "code",
   "execution_count": 64,
   "metadata": {},
   "outputs": [
    {
     "name": "stdout",
     "output_type": "stream",
     "text": [
      "B.shape: (3, 2)\n",
      "\n",
      "[[2 7]\n",
      " [1 2]\n",
      " [3 6]]\n"
     ]
    }
   ],
   "source": [
    "B = np.array([[2, 7], [1, 2], [3, 6]])\n",
    "print(\"B.shape: %s\\n\\n%s\" %(B.shape, B))"
   ]
  },
  {
   "cell_type": "code",
   "execution_count": 65,
   "metadata": {},
   "outputs": [
    {
     "name": "stdout",
     "output_type": "stream",
     "text": [
      "C.shape: (4, 2)\n",
      "\n",
      "[[ 13  29]\n",
      " [ 31  74]\n",
      " [ 49 119]\n",
      " [ 67 164]]\n"
     ]
    }
   ],
   "source": [
    "C = np.dot(A, B)\n",
    "print(\"C.shape: %s\\n\\n%s\" %(C.shape, C))"
   ]
  },
  {
   "cell_type": "markdown",
   "metadata": {},
   "source": [
    "#### So the dot product can be formalized like that:\n",
    "\n",
    "$$\n",
    "C_{i,j} = A_{i,k}B_{k,j} = \\sum\\limits_{k}A_{i,k}B_{k,i}\n",
    "$$\n",
    "\n",
    "More detailed examples about the dot product can be found [here](https://www.mathsisfun.com/algebra/matrix-multiplying.html)."
   ]
  },
  {
   "cell_type": "markdown",
   "metadata": {},
   "source": [
    "## Matrices mutliplication is distributive\n",
    "\n",
    "$\\boldsymbol{A}(\\boldsymbol{B}+\\boldsymbol{C}) = \\boldsymbol{AB}+\\boldsymbol{AC}$\n",
    "\n",
    "#### Example 1.\n",
    "\n",
    "$\n",
    "\\boldsymbol{A}=\\begin{bmatrix}\n",
    "    2 & 3 \\\\\\\\\n",
    "    1 & 4 \\\\\\\\\n",
    "    7 & 6\n",
    "\\end{bmatrix}, \n",
    "\\boldsymbol{B}=\\begin{bmatrix}\n",
    "    5 \\\\\\\\\n",
    "    2\n",
    "\\end{bmatrix}, \n",
    "\\boldsymbol{C}=\\begin{bmatrix}\n",
    "    4 \\\\\\\\\n",
    "    3\n",
    "\\end{bmatrix}\n",
    "$\n",
    "\n",
    "\n",
    "$\n",
    "\\boldsymbol{A}(\\boldsymbol{B}+\\boldsymbol{C})=\\begin{bmatrix}\n",
    "    2 & 3 \\\\\\\\\n",
    "    1 & 4 \\\\\\\\\n",
    "    7 & 6\n",
    "\\end{bmatrix}\\times\n",
    "\\left(\\begin{bmatrix}\n",
    "    5 \\\\\\\\\n",
    "    2\n",
    "\\end{bmatrix}+\n",
    "\\begin{bmatrix}\n",
    "    4 \\\\\\\\\n",
    "    3\n",
    "\\end{bmatrix}\\right)=\n",
    "\\begin{bmatrix}\n",
    "    2 & 3 \\\\\\\\\n",
    "    1 & 4 \\\\\\\\\n",
    "    7 & 6\n",
    "\\end{bmatrix}\\times\n",
    "\\begin{bmatrix}\n",
    "    9 \\\\\\\\\n",
    "    5\n",
    "\\end{bmatrix}=\n",
    "\\begin{bmatrix}\n",
    "    2 \\times 9 + 3 \\times 5 \\\\\\\\\n",
    "    1 \\times 9 + 4 \\times 5 \\\\\\\\\n",
    "    7 \\times 9 + 6 \\times 5\n",
    "\\end{bmatrix}=\n",
    "\\begin{bmatrix}\n",
    "    33 \\\\\\\\\n",
    "    29 \\\\\\\\\n",
    "    93\n",
    "\\end{bmatrix}\n",
    "$\n",
    "\n",
    "is equivalent to\n",
    "\n",
    "$\n",
    "\\boldsymbol{A}\\boldsymbol{B}+\\boldsymbol{A}\\boldsymbol{C} = \\begin{bmatrix}\n",
    "    2 & 3 \\\\\\\\\n",
    "    1 & 4 \\\\\\\\\n",
    "    7 & 6\n",
    "\\end{bmatrix}\\times\n",
    "\\begin{bmatrix}\n",
    "    5 \\\\\\\\\n",
    "    2\n",
    "\\end{bmatrix}+\n",
    "\\begin{bmatrix}\n",
    "    2 & 3 \\\\\\\\\n",
    "    1 & 4 \\\\\\\\\n",
    "    7 & 6\n",
    "\\end{bmatrix}\\times\n",
    "\\begin{bmatrix}\n",
    "    4 \\\\\\\\\n",
    "    3\n",
    "\\end{bmatrix}=\n",
    "\\begin{bmatrix}\n",
    "    2 \\times 5 + 3 \\times 2 \\\\\\\\\n",
    "    1 \\times 5 + 4 \\times 2 \\\\\\\\\n",
    "    7 \\times 5 + 6 \\times 2\n",
    "\\end{bmatrix}+\n",
    "\\begin{bmatrix}\n",
    "    2 \\times 4 + 3 \\times 3 \\\\\\\\\n",
    "    1 \\times 4 + 4 \\times 3 \\\\\\\\\n",
    "    7 \\times 4 + 6 \\times 3\n",
    "\\end{bmatrix}=\n",
    "\\begin{bmatrix}\n",
    "    16 \\\\\\\\\n",
    "    13 \\\\\\\\\n",
    "    47\n",
    "\\end{bmatrix}+\n",
    "\\begin{bmatrix}\n",
    "    17 \\\\\\\\\n",
    "    16 \\\\\\\\\n",
    "    46\n",
    "\\end{bmatrix}=\n",
    "\\begin{bmatrix}\n",
    "    33 \\\\\\\\\n",
    "    29 \\\\\\\\\n",
    "    93\n",
    "\\end{bmatrix}\n",
    "$"
   ]
  },
  {
   "cell_type": "code",
   "execution_count": 89,
   "metadata": {},
   "outputs": [
    {
     "name": "stdout",
     "output_type": "stream",
     "text": [
      "A.shape: (3, 2)\n",
      "\n",
      "[[2 3]\n",
      " [1 4]\n",
      " [7 6]]\n",
      "\n",
      "B.shape: (2, 1)\n",
      "\n",
      "[[5]\n",
      " [2]]\n"
     ]
    }
   ],
   "source": [
    "A = np.array([[2, 3], [1, 4], [7, 6]])\n",
    "print(\"A.shape: %s\\n\\n%s\" %(A.shape, A))\n",
    "B = np.array([[5], [2]])\n",
    "print(\"\\nB.shape: %s\\n\\n%s\" %(B.shape, B))"
   ]
  },
  {
   "cell_type": "code",
   "execution_count": 80,
   "metadata": {},
   "outputs": [
    {
     "name": "stdout",
     "output_type": "stream",
     "text": [
      "C.shape: (2, 1)\n",
      "\n",
      "[[4]\n",
      " [3]]\n"
     ]
    }
   ],
   "source": [
    "C = np.array([[4], [3]])\n",
    "print(\"C.shape: %s\\n\\n%s\" %(C.shape, C))"
   ]
  },
  {
   "cell_type": "code",
   "execution_count": 81,
   "metadata": {},
   "outputs": [
    {
     "name": "stdout",
     "output_type": "stream",
     "text": [
      "D.shape: (3, 1)\n",
      "\n",
      "[[33]\n",
      " [29]\n",
      " [93]]\n"
     ]
    }
   ],
   "source": [
    "# A(B + C)\n",
    "D = np.dot(A, (B+C))\n",
    "print(\"D.shape: %s\\n\\n%s\" %(D.shape, D))"
   ]
  },
  {
   "cell_type": "code",
   "execution_count": 83,
   "metadata": {},
   "outputs": [
    {
     "name": "stdout",
     "output_type": "stream",
     "text": [
      "D.shape: (3, 1)\n",
      "\n",
      "[[33]\n",
      " [29]\n",
      " [93]]\n"
     ]
    }
   ],
   "source": [
    "# AB + AC\n",
    "D = np.dot(A, B) + np.dot(A, C)\n",
    "print(\"D.shape: %s\\n\\n%s\" %(D.shape, D))"
   ]
  },
  {
   "cell_type": "markdown",
   "metadata": {},
   "source": [
    "## Matrices mutliplication is associative\n",
    "\n",
    "$\\boldsymbol{A}(\\boldsymbol{BC}) = \\boldsymbol{AB}(\\boldsymbol{C})$\n"
   ]
  },
  {
   "cell_type": "code",
   "execution_count": 92,
   "metadata": {},
   "outputs": [
    {
     "name": "stdout",
     "output_type": "stream",
     "text": [
      "A.shape: (3, 2)\n",
      "\n",
      "[[2 3]\n",
      " [1 4]\n",
      " [7 6]]\n",
      "\n",
      "B.shape: (2, 2)\n",
      "\n",
      "[[5 3]\n",
      " [2 2]]\n"
     ]
    }
   ],
   "source": [
    "A = np.array([[2, 3], [1, 4], [7, 6]])\n",
    "print(\"A.shape: %s\\n\\n%s\" %(A.shape, A))\n",
    "B = np.array([[5, 3], [2, 2]])\n",
    "print(\"\\nB.shape: %s\\n\\n%s\" %(B.shape, B))"
   ]
  },
  {
   "cell_type": "code",
   "execution_count": 93,
   "metadata": {},
   "outputs": [
    {
     "name": "stdout",
     "output_type": "stream",
     "text": [
      "D.shape: (3, 1)\n",
      "\n",
      "[[100]\n",
      " [ 85]\n",
      " [287]]\n"
     ]
    }
   ],
   "source": [
    "# A(BC)\n",
    "D = np.dot(A, np.dot(B, C))\n",
    "print(\"D.shape: %s\\n\\n%s\" %(D.shape, D))"
   ]
  },
  {
   "cell_type": "code",
   "execution_count": 94,
   "metadata": {},
   "outputs": [
    {
     "name": "stdout",
     "output_type": "stream",
     "text": [
      "D.shape: (3, 1)\n",
      "\n",
      "[[100]\n",
      " [ 85]\n",
      " [287]]\n"
     ]
    }
   ],
   "source": [
    "# AB(C)\n",
    "D = np.dot(np.dot(A, B), C)\n",
    "print(\"D.shape: %s\\n\\n%s\" %(D.shape, D))"
   ]
  },
  {
   "cell_type": "markdown",
   "metadata": {},
   "source": [
    "## Matrix multiplication is not commutative\n",
    "\n",
    "$\\boldsymbol{AB} \\neq \\boldsymbol{BA}$"
   ]
  },
  {
   "cell_type": "code",
   "execution_count": 112,
   "metadata": {},
   "outputs": [
    {
     "name": "stdout",
     "output_type": "stream",
     "text": [
      "\n",
      "A.shape: (2, 2)\n",
      "\n",
      "[[2 3]\n",
      " [6 5]]\n",
      "\n",
      "B.shape: (2, 2)\n",
      "\n",
      "[[5 3]\n",
      " [2 2]]\n"
     ]
    }
   ],
   "source": [
    "A = np.array([[2, 3], [6, 5]])\n",
    "print(\"\\nA.shape: %s\\n\\n%s\" %(A.shape, A))\n",
    "\n",
    "B = np.array([[5, 3], [2, 2]])\n",
    "print(\"\\nB.shape: %s\\n\\n%s\" %(B.shape, B))"
   ]
  },
  {
   "cell_type": "code",
   "execution_count": 97,
   "metadata": {},
   "outputs": [
    {
     "name": "stdout",
     "output_type": "stream",
     "text": [
      "AB.shape: (2, 2)\n",
      "\n",
      "[[16 12]\n",
      " [40 28]]\n"
     ]
    }
   ],
   "source": [
    "AB = np.dot(A, B)\n",
    "print(\"AB.shape: %s\\n\\n%s\" %(AB.shape, AB))"
   ]
  },
  {
   "cell_type": "code",
   "execution_count": 98,
   "metadata": {},
   "outputs": [
    {
     "name": "stdout",
     "output_type": "stream",
     "text": [
      "BA.shape: (2, 2)\n",
      "\n",
      "[[28 30]\n",
      " [16 16]]\n"
     ]
    }
   ],
   "source": [
    "BA = np.dot(B, A)\n",
    "print(\"BA.shape: %s\\n\\n%s\" %(BA.shape, BA))"
   ]
  },
  {
   "cell_type": "markdown",
   "metadata": {},
   "source": [
    "### However vector multiplication is commutative\n",
    "\n",
    "$x^{ \\text{T}}y = y^{\\text{T}}x $"
   ]
  },
  {
   "cell_type": "code",
   "execution_count": 111,
   "metadata": {},
   "outputs": [
    {
     "name": "stdout",
     "output_type": "stream",
     "text": [
      "\n",
      "x.shape: (2, 1)\n",
      "\n",
      "[[2]\n",
      " [6]]\n",
      "\n",
      "y.shape: (2, 1)\n",
      "\n",
      "[[5]\n",
      " [2]]\n"
     ]
    }
   ],
   "source": [
    "x = np.array([[2], [6]])\n",
    "print(\"\\nx.shape: %s\\n\\n%s\" %(x.shape, x))\n",
    "\n",
    "y = np.array([[5], [2]])\n",
    "print(\"\\ny.shape: %s\\n\\n%s\" %(y.shape, y))"
   ]
  },
  {
   "cell_type": "code",
   "execution_count": 113,
   "metadata": {},
   "outputs": [
    {
     "name": "stdout",
     "output_type": "stream",
     "text": [
      "x_ty.shape: (1, 1)\n",
      "\n",
      "[[22]]\n"
     ]
    }
   ],
   "source": [
    "x_ty = np.dot(x.T, y)\n",
    "print(\"x_ty.shape: %s\\n\\n%s\" %(x_ty.shape, x_ty))"
   ]
  },
  {
   "cell_type": "code",
   "execution_count": 114,
   "metadata": {},
   "outputs": [
    {
     "name": "stdout",
     "output_type": "stream",
     "text": [
      "y_tx.shape: (1, 1)\n",
      "\n",
      "[[22]]\n"
     ]
    }
   ],
   "source": [
    "y_tx = np.dot(y.T, x)\n",
    "print(\"y_tx.shape: %s\\n\\n%s\" %(y_tx.shape, y_tx))"
   ]
  },
  {
   "cell_type": "markdown",
   "metadata": {},
   "source": [
    "### Simplification of the matrix product\n",
    "\n",
    "$(AB)^{\\text{T}} = B^{\\text{T}}A^{\\text{T}}$"
   ]
  },
  {
   "cell_type": "code",
   "execution_count": 115,
   "metadata": {},
   "outputs": [
    {
     "name": "stdout",
     "output_type": "stream",
     "text": [
      "A.shape: (3, 2)\n",
      "\n",
      "[[2 3]\n",
      " [1 4]\n",
      " [7 6]]\n",
      "\n",
      "B.shape: (2, 2)\n",
      "\n",
      "[[5 3]\n",
      " [2 2]]\n"
     ]
    }
   ],
   "source": [
    "A = np.array([[2, 3], [1, 4], [7, 6]])\n",
    "print(\"A.shape: %s\\n\\n%s\" %(A.shape, A))\n",
    "B = np.array([[5, 3], [2, 2]])\n",
    "print(\"\\nB.shape: %s\\n\\n%s\" %(B.shape, B))"
   ]
  },
  {
   "cell_type": "markdown",
   "metadata": {},
   "source": [
    "$(AB)^{\\text{T}}$:"
   ]
  },
  {
   "cell_type": "code",
   "execution_count": 116,
   "metadata": {},
   "outputs": [
    {
     "name": "stdout",
     "output_type": "stream",
     "text": [
      "AB_t.shape: (2, 3)\n",
      "\n",
      "[[16 13 47]\n",
      " [12 11 33]]\n"
     ]
    }
   ],
   "source": [
    "AB_t = np.dot(A, B).T\n",
    "print(\"AB_t.shape: %s\\n\\n%s\" %(AB_t.shape, AB_t))"
   ]
  },
  {
   "cell_type": "markdown",
   "metadata": {},
   "source": [
    "$B^{\\text{T}}A^{\\text{T}}$:"
   ]
  },
  {
   "cell_type": "code",
   "execution_count": 118,
   "metadata": {},
   "outputs": [
    {
     "name": "stdout",
     "output_type": "stream",
     "text": [
      "B_tA.shape: (2, 3)\n",
      "\n",
      "[[16 13 47]\n",
      " [12 11 33]]\n"
     ]
    }
   ],
   "source": [
    "B_tA = np.dot(B.T, A.T)\n",
    "print(\"B_tA.shape: %s\\n\\n%s\" %(B_tA.shape, B_tA))"
   ]
  },
  {
   "cell_type": "markdown",
   "metadata": {},
   "source": [
    "# 2.3 Identity and Inverse Matrices\n",
    "\n",
    "### Identity matrices\n",
    "\n",
    "The identity matrix $\\boldsymbol{I}_n$ is a matrix of shape ($n \\times n$) that has all 0 except the diagonal filled with 1.\n",
    "\n",
    "$\n",
    "\\boldsymbol{I}_3=\n",
    "\\begin{bmatrix}\n",
    "    1 & 0 & 0 \\\\\\\\\n",
    "    0 & 1 & 0 \\\\\\\\\n",
    "    0 & 0 & 1 \\\\\\\\\n",
    "\\end{bmatrix}\n",
    "$"
   ]
  },
  {
   "cell_type": "markdown",
   "metadata": {},
   "source": [
    "An identity matrix can be created with the numpy command 'eye':"
   ]
  },
  {
   "cell_type": "code",
   "execution_count": 120,
   "metadata": {},
   "outputs": [
    {
     "data": {
      "text/plain": [
       "array([[ 1.,  0.,  0.],\n",
       "       [ 0.,  1.,  0.],\n",
       "       [ 0.,  0.,  1.]])"
      ]
     },
     "execution_count": 120,
     "metadata": {},
     "output_type": "execute_result"
    }
   ],
   "source": [
    "np.eye(3)"
   ]
  },
  {
   "cell_type": "markdown",
   "metadata": {},
   "source": [
    "When multiplied with a vector the result is this same vector:\n",
    "\n",
    "$\\boldsymbol{I}_n\\boldsymbol{x} = \\boldsymbol{x}$\n",
    "\n",
    "### Example\n",
    "\n",
    "$\n",
    "\\begin{bmatrix}\n",
    "    1 & 0 & 0 \\\\\\\\\n",
    "    0 & 1 & 0 \\\\\\\\\n",
    "    0 & 0 & 1 \\\\\\\\\n",
    "\\end{bmatrix}\n",
    "\\times\n",
    "\\begin{bmatrix}\n",
    "    x_{1} \\\\\\\\\n",
    "    x_{2} \\\\\\\\\n",
    "    x_{3}\n",
    "\\end{bmatrix}=\n",
    "\\begin{bmatrix}\n",
    "    1 \\times x_1 + 0 \\times x_2 + 0\\times x_3 \\\\\\\\\n",
    "    0 \\times x_1 + 1 \\times x_2 + 0\\times x_3 \\\\\\\\\n",
    "    0 \\times x_1 + 0 \\times x_2 + 1\\times x_3 \\\\\\\\\n",
    "\\end{bmatrix}=\n",
    "\\begin{bmatrix}\n",
    "    x_{1} \\\\\\\\\n",
    "    x_{2} \\\\\\\\\n",
    "    x_{3}\n",
    "\\end{bmatrix}\n",
    "$"
   ]
  },
  {
   "cell_type": "code",
   "execution_count": 124,
   "metadata": {},
   "outputs": [
    {
     "name": "stdout",
     "output_type": "stream",
     "text": [
      "\n",
      "x.shape: (3, 1)\n",
      "\n",
      "[[2]\n",
      " [6]\n",
      " [3]]\n",
      "\n",
      "xid.shape: (3, 1)\n",
      "\n",
      "[[ 2.]\n",
      " [ 6.]\n",
      " [ 3.]]\n"
     ]
    }
   ],
   "source": [
    "x = np.array([[2], [6], [3]])\n",
    "print(\"\\nx.shape: %s\\n\\n%s\" %(x.shape, x))\n",
    "\n",
    "xid = np.dot(np.eye(x.shape[0]), x)\n",
    "print(\"\\nxid.shape: %s\\n\\n%s\" %(xid.shape, xid))"
   ]
  },
  {
   "cell_type": "markdown",
   "metadata": {},
   "source": [
    "### Inverse Matrices\n",
    "\n",
    "The matrix inverse of $\\boldsymbol{A}$ is denoted $\\boldsymbol{A}^{-1}$ and correspond to the matrix that result in the identity matrix when it is multiplied by $\\boldsymbol{A}$:\n",
    "\n",
    "$\\boldsymbol{A}^{-1}\\boldsymbol{A}=\\boldsymbol{I}_n$\n",
    "\n",
    "### Example"
   ]
  },
  {
   "cell_type": "code",
   "execution_count": 128,
   "metadata": {},
   "outputs": [
    {
     "name": "stdout",
     "output_type": "stream",
     "text": [
      "\n",
      "A.shape: (3, 3)\n",
      "\n",
      "[[ 3  0  2]\n",
      " [ 2  0 -2]\n",
      " [ 0  1  1]]\n",
      "\n",
      "A_inv.shape: (3, 3)\n",
      "\n",
      "[[ 0.2  0.2  0. ]\n",
      " [-0.2  0.3  1. ]\n",
      " [ 0.2 -0.3 -0. ]]\n"
     ]
    }
   ],
   "source": [
    "A = np.array([[3, 0, 2], [2, 0, -2], [0, 1, 1]])\n",
    "print(\"\\nA.shape: %s\\n\\n%s\" %(A.shape, A))\n",
    "\n",
    "A_inv = np.linalg.inv(A)\n",
    "print(\"\\nA_inv.shape: %s\\n\\n%s\" %(A_inv.shape, A_inv))"
   ]
  },
  {
   "cell_type": "markdown",
   "metadata": {},
   "source": [
    "We can check that $\\boldsymbol{A_inv} is well the inverse of \\boldsymbol{A}:\n",
    "\n",
    "$\n",
    "\\begin{align*}\n",
    "\\boldsymbol{A}^{-1}\\boldsymbol{A} &=\n",
    "\\begin{bmatrix}\n",
    "    3 & 0 & 2 \\\\\\\\\n",
    "    2 & 0 & -2 \\\\\\\\\n",
    "    0 & 1 & 1 \\\\\\\\\n",
    "\\end{bmatrix} \\times\n",
    "\\begin{bmatrix}\n",
    "    0.2 & 0.2 & 0 \\\\\\\\\n",
    "    -0.2 & 0.3 & 1 \\\\\\\\\n",
    "    0.2 & -0.3 & 0 \\\\\\\\\n",
    "\\end{bmatrix}\\\\\\\\\n",
    "&= \\begin{bmatrix}\n",
    "    3\\times0.2 + 0\\times-0.2 + 2\\times0.2 & 3\\times0.2 + 0\\times0.3 + 2\\times-0.3  & 3\\times0 + 0\\times1 + 2\\times0  \\\\\\\\\n",
    "    2\\times0.2 + 0\\times-0.2 + -2\\times0.2 & 2\\times0.2 + 0\\times0.3 + -2\\times-0.3  & 2\\times0 + 0\\times1 + -2\\times0  \\\\\\\\\n",
    "    0\\times0.2 + 1\\times-0.2 + 1\\times0.2 & 0\\times0.2 + 1\\times0.3 + 1\\times-0.3  & 0\\times0 + 1\\times1 + 1\\times0  \\\\\\\\\n",
    "\\end{bmatrix}\\\\\\\\\n",
    "&= \\begin{bmatrix}\n",
    "    1 & 0 & 0 \\\\\\\\\n",
    "    0 & 1 & 0 \\\\\\\\\n",
    "    0 & 0 & 1 \\\\\\\\\n",
    "\\end{bmatrix}\n",
    "\\end{align*}\n",
    "$"
   ]
  },
  {
   "cell_type": "code",
   "execution_count": 137,
   "metadata": {},
   "outputs": [
    {
     "name": "stdout",
     "output_type": "stream",
     "text": [
      "\n",
      "A_bis.shape: (3, 3)\n",
      "\n",
      "[[ 1.  0. -0.]\n",
      " [ 0.  1. -0.]\n",
      " [ 0.  0.  1.]]\n"
     ]
    }
   ],
   "source": [
    "A_bis = np.dot(A_inv, A)\n",
    "print(\"\\nA_bis.shape: %s\\n\\n%s\" %(A_bis.shape, A_bis))"
   ]
  },
  {
   "cell_type": "markdown",
   "metadata": {},
   "source": [
    "### Sovling the system of linear equations\n",
    "\n",
    "The inverse matrix can be used to solve the equation $\\boldsymbol{Ax}=\\boldsymbol{b}$ by adding it to each term:\n",
    "\n",
    "$\\boldsymbol{A}^{-1}\\boldsymbol{Ax}=\\boldsymbol{A}^{-1}\\boldsymbol{b}$\n",
    "\n",
    "$\\boldsymbol{I}_n\\boldsymbol{x}=\\boldsymbol{A}^{-1}\\boldsymbol{b}$\n",
    "\n",
    "$\\boldsymbol{x}=\\boldsymbol{A}^{-1}\\boldsymbol{b}$\n",
    "\n",
    "This introduces different cases according to the linear system because $\\boldsymbol{A}^{-1}$ exists only if the equation $\\boldsymbol{Ax}=\\boldsymbol{b}$ has one and only one solution."
   ]
  },
  {
   "cell_type": "markdown",
   "metadata": {},
   "source": [
    "# 2.4 Linear Dependence and Span\n",
    "\n",
    "To find the solution of the equation $\\boldsymbol{Ax}=\\boldsymbol{b}$ corresponds to solve this linear system\n",
    "\n",
    "$$\n",
    "A_{1,1}x_1 + A_{1,2}x_2 + A_{1,n}x_n = b_1 \\\\\\\\\n",
    "A_{2,1}x_1 + A_{2,2}x_2 + A_{2,n}x_n = b_2 \\\\\\\\\n",
    "\\cdots \\\\\\\\\n",
    "A_{m,1}x_1 + A_{m,2}x_2 + A_{m,n}x_n = b_n\n",
    "$$\n",
    "\n",
    "Knowing $A_{1,1}...A_{m,n}$ and $b_1...b_n$ the system is solved when we find the value of the variables $x_1...x_n$ that satisfy each equation.\n",
    "\n",
    "Graphically, a linear system of equations can be viewed as a set m of m-D hyperplanes in a n-D space. The number of equations\n"
   ]
  },
  {
   "cell_type": "markdown",
   "metadata": {},
   "source": [
    "### Graphical view\n",
    "\n",
    "A linear system of equations can be viewed as a set of *m* *n-1*-dimensional hyperplanes in a *n*-dimensional space. So the linear system can be characterized with its number of equations (*m*) and the number of unknown variables (*n*). Let's see some examples to clarify this.\n",
    "\n",
    "#### Example 1. *m*=1, *n*=2: 1 equation and 2 variable\n",
    "\n",
    "$$\n",
    "A_{1,1}x_1 + A_{1,2}x_2 = b_1\n",
    "$$"
   ]
  },
  {
   "cell_type": "markdown",
   "metadata": {},
   "source": [
    "The graphical interpretation of *n*=2 is that we have a 2-D space. So we can represent it with 2 axes. Since our hyperplane is of *n-1*-dimensional, we have a 1-D hyperplane. This is simply a line. As *m*=1, we have only one equation. This means that we have only one line characterizing our linear system.\n",
    "\n",
    "Our equation can also be written like that\n",
    "\n",
    "$$\n",
    "y = ax + b\n",
    "$$"
   ]
  },
  {
   "cell_type": "code",
   "execution_count": 15,
   "metadata": {},
   "outputs": [
    {
     "data": {
      "image/png": "[encoded data removed]",
      "text/plain": [
       "<matplotlib.figure.Figure at 0x105b35510>"
      ]
     },
     "metadata": {},
     "output_type": "display_data"
    }
   ],
   "source": [
    "# y = 2x+1\n",
    "\n",
    "x = np.arange(-10, 10)\n",
    "y = 2*x + 1\n",
    "\n",
    "plt.figure()\n",
    "plt.plot(x, y)\n",
    "plt.xlim(-2, 10)\n",
    "plt.ylim(-2, 10)\n",
    "plt.axvline(x=0, color='black')\n",
    "plt.axhline(y=0, color='black')\n",
    "plt.show()\n",
    "plt.close()"
   ]
  },
  {
   "cell_type": "markdown",
   "metadata": {
    "collapsed": true
   },
   "source": [
    "The solutions of this linear system correspond to the value of x and y such as $y=ax+b$. In the above example, $y=2x+1$. One solution is $x=0$ and $y=1$, or $x=1$ and $y=3$ and so on. We can see that there is an infinite number of solutions (each point on the line)."
   ]
  },
  {
   "cell_type": "markdown",
   "metadata": {
    "collapsed": true
   },
   "source": [
    "#### Example 2. *m*=2, *n*=2: 2 equation and 2 variable\n",
    "\n",
    "$$\n",
    "A_{1,1}x_1 + A_{1,2}x_2 = b_1\\\\\\\\\n",
    "A_{2,1}x_1 + A_{2,2}x_2 = b_2\n",
    "$$"
   ]
  },
  {
   "cell_type": "markdown",
   "metadata": {
    "collapsed": true
   },
   "source": [
    "The graphical interpretation of this system is that we have still have lines in a 2-D space. However this time there is 2 lines since there is 2 equations."
   ]
  },
  {
   "cell_type": "code",
   "execution_count": 18,
   "metadata": {},
   "outputs": [
    {
     "data": {
      "image/png": "[encoded data removed]",
      "text/plain": [
       "<matplotlib.figure.Figure at 0x105899950>"
      ]
     },
     "metadata": {},
     "output_type": "display_data"
    }
   ],
   "source": [
    "# y = 2x+1\n",
    "\n",
    "x = np.arange(-10, 10)\n",
    "y = 2*x + 1\n",
    "\n",
    "y1 = 6*x - 2\n",
    "\n",
    "plt.figure()\n",
    "plt.plot(x, y)\n",
    "plt.plot(x, y1)\n",
    "plt.xlim(-2, 10)\n",
    "plt.ylim(-2, 10)\n",
    "plt.axvline(x=0, color='black')\n",
    "plt.axhline(y=0, color='black')\n",
    "plt.show()\n",
    "plt.close()"
   ]
  },
  {
   "cell_type": "code",
   "execution_count": null,
   "metadata": {
    "collapsed": true
   },
   "outputs": [],
   "source": []
  }
 ],
 "metadata": {
  "kernelspec": {
   "display_name": "Python 2",
   "language": "python",
   "name": "python2"
  },
  "language_info": {
   "codemirror_mode": {
    "name": "ipython",
    "version": 2
   },
   "file_extension": ".py",
   "mimetype": "text/x-python",
   "name": "python",
   "nbconvert_exporter": "python",
   "pygments_lexer": "ipython2",
   "version": "2.7.10"
  }
 },
 "nbformat": 4,
 "nbformat_minor": 2
}

{
 "cells": [
  {
   "cell_type": "code",
   "execution_count": 2,
   "metadata": {
    "collapsed": true,
    "scrolled": false
   },
   "outputs": [],
   "source": [
    "import numpy as np\n",
    "import matplotlib.pyplot as plt"
   ]
  },
  {
   "cell_type": "code",
   "execution_count": 3,
   "metadata": {},
   "outputs": [
    {
     "name": "stdout",
     "output_type": "stream",
     "text": [
      "Populating the interactive namespace from numpy and matplotlib\n"
     ]
    }
   ],
   "source": [
    "# Plot parameters\n",
    "plt.style.use('ggplot')\n",
    "# plt.rcParams['axes.facecolor']='w'\n",
    "\n",
    "%pylab inline\n",
    "pylab.rcParams['figure.figsize'] = (3, 3)\n",
    "plt.rcParams['xtick.major.size'] = 0\n",
    "plt.rcParams['ytick.major.size'] = 0\n",
    "# rcParams.keys()"
   ]
  },
  {
   "cell_type": "code",
   "execution_count": 4,
   "metadata": {
    "collapsed": true
   },
   "outputs": [],
   "source": [
    "# Avoid inaccurate floating values (for inverse matrices in dot product for instance)\n",
    "# See https://stackoverflow.com/questions/24537791/numpy-matrix-inversion-rounding-errors\n",
    "np.set_printoptions(suppress=True)"
   ]
  },
  {
   "cell_type": "markdown",
   "metadata": {},
   "source": [
    "# 2.4 Linear Dependence and Span"
   ]
  },
  {
   "cell_type": "markdown",
   "metadata": {},
   "source": [
    "\n",
    "To find the solution of the equation $\\boldsymbol{Ax}=\\boldsymbol{b}$ corresponds to solve this linear system\n",
    "\n",
    "$$\n",
    "A_{1,1}x_1 + A_{1,2}x_2 + A_{1,n}x_n = b_1 \\\\\\\\\n",
    "A_{2,1}x_1 + A_{2,2}x_2 + A_{2,n}x_n = b_2 \\\\\\\\\n",
    "\\cdots \\\\\\\\\n",
    "A_{m,1}x_1 + A_{m,2}x_2 + A_{m,n}x_n = b_n\n",
    "$$\n",
    "\n",
    "In this system we know $A_{1,1}...A_{m,n}$ and $b_1...b_n$. To solve the system we need to find the value of the variables $x_1...x_n$ that satisfy each equation.\n",
    "\n",
    "## Number of solutions\n",
    "\n",
    " Three cases can represent the number of solutions of the system of equations $\\boldsymbol{Ax}=\\boldsymbol{b}$.\n",
    " \n",
    " 1. No solution\n",
    " 2. 1 solution\n",
    " 3. An infinite number of solutions\n",
    " \n",
    "There can't be more than 1 and less than an infinite number of solutions. Let's imagine that x and y are two solutions of our system. This means that\n",
    "\n",
    "$$\n",
    "\\begin{cases}\n",
    "\\boldsymbol{Ax}=\\boldsymbol{b}\\\\\\\\\n",
    "\\boldsymbol{Ay}=\\boldsymbol{b}\n",
    "\\end{cases}\n",
    "$$\n",
    "\n",
    "In this case, $z=\\alpha x + (1-\\alpha y)$ is also a solution for any value of $\\alpha$. If z is a solution, we can say that $\\boldsymbol{Az}=\\boldsymbol{b}$. Indeed, if we plug $\\boldsymbol{z}$ into the equation we obtain\n",
    "\n",
    "$$\n",
    "\\begin{align*}\n",
    "\\boldsymbol{Az}&=\\boldsymbol{A}(\\alpha x + (1-\\alpha y))\\\\\\\\\n",
    "    &=\\boldsymbol{Ax}\\alpha + \\boldsymbol{A}(1-\\alpha y)\\\\\\\\\n",
    "    &=\\boldsymbol{Ax}\\alpha + \\boldsymbol{Ay}(1-\\alpha)\n",
    "\\end{align*}\n",
    "$$\n",
    "\n",
    "We saw that $\\boldsymbol{Ax}=\\boldsymbol{Ay}=\\boldsymbol{b}$. This leads to\n",
    "\n",
    "$$\n",
    "\\begin{align*}\n",
    "\\boldsymbol{Az}&=\\boldsymbol{b}\\alpha + \\boldsymbol{b}(1-\\alpha)\\\\\\\\\n",
    "    &=\\boldsymbol{b}\\alpha + \\boldsymbol{b}-\\boldsymbol{b}\\alpha\\\\\\\\\n",
    "    &=\\boldsymbol{b}\n",
    "\\end{align*}\n",
    "$$"
   ]
  },
  {
   "cell_type": "markdown",
   "metadata": {},
   "source": [
    "## Matrix representation of the system\n",
    "\n",
    "We saw that the equation $\\boldsymbol{Ax}=\\boldsymbol{b}$ can be represented by a matrix **A** containing the weigths of each variable and a vector **x** containing each variable. The product of **A** and **x** gives **b** that is another vector of size *m*:\n",
    "\n",
    "$$\n",
    "\\begin{bmatrix}\n",
    "    A_{1,1} & A_{1,2} & \\cdots & A_{1,n} \\\\\\\\\n",
    "    A_{2,1} & A_{2,2} & \\cdots & A_{2,n} \\\\\\\\\n",
    "    \\cdots & \\cdots & \\cdots & \\cdots \\\\\\\\\n",
    "    A_{m,1} & A_{m,2} & \\cdots & A_{m,n}\n",
    "\\end{bmatrix}\n",
    "\\times\n",
    "\\begin{bmatrix}\n",
    "    x_1 \\\\\\\\\n",
    "    x_2 \\\\\\\\\n",
    "    \\cdots \\\\\\\\\n",
    "    x_n\n",
    "\\end{bmatrix}\n",
    "=\n",
    "\\begin{bmatrix}\n",
    "    b_1 \\\\\\\\\n",
    "    b_2 \\\\\\\\\n",
    "    \\cdots \\\\\\\\\n",
    "    b_m\n",
    "\\end{bmatrix}\n",
    "$$\n",
    "\n",
    "Which corresponds to the set of linear equations\n",
    "\n",
    "$$\n",
    "A_{1,1}x_1 + A_{1,2}x_2 + A_{1,n}x_n = b_1 \\\\\\\\\n",
    "A_{2,1}x_1 + A_{2,2}x_2 + A_{2,n}x_n = b_2 \\\\\\\\\n",
    "\\cdots \\\\\\\\\n",
    "A_{m,1}x_1 + A_{m,2}x_2 + A_{m,n}x_n = b_n\n",
    "$$\n",
    "\n",
    "Here are some intuition about what is represented by these matrices. The number of columns of A is the number of dimensions of our vector space. It is the number *n* of directions we can travel by. The number of solutions of our linear system corresponds to the number of ways we can reach $b$ by travelling through our $n$ dimensions.\n",
    "\n",
    "But to understand this, we need to underline that two possibilities exist to represent the system of equations: **the 'row figure' and the 'column figure'**."
   ]
  },
  {
   "cell_type": "markdown",
   "metadata": {},
   "source": [
    "## Graphical views: Row and column figures\n",
    "\n",
    "When you are looking to the matrix **A**:\n",
    "\n",
    "$$\n",
    "\\begin{bmatrix}\n",
    "    A_{1,1} & A_{1,2} & \\cdots & A_{1,n} \\\\\\\\\n",
    "    A_{2,1} & A_{2,2} & \\cdots & A_{2,n} \\\\\\\\\n",
    "    \\cdots & \\cdots & \\cdots & \\cdots \\\\\\\\\n",
    "    A_{m,1} & A_{m,2} & \\cdots & A_{m,n}\n",
    "\\end{bmatrix}\n",
    "$$\n",
    "\n",
    "You can consider its rows or its columns separatly. Recall that the values are the weights given to each variable. Each row synthetize one equation. Each column correspond to the set of weights given to 1 variable.\n",
    "\n",
    "It is possible to represent the set of equations looking at the rows or at the columns.\n",
    "\n",
    "### Graphical view 1: the row figure\n",
    "\n",
    "The row figure is maybe more usual because it is the representation used when we have only one equation. It can now be extended to an infinite number of equations and unknowns (even if it would be hard to represent a 9-dimensional hyperplane in a 10-dimensional space for example).\n",
    "\n",
    "The solutions of the linear system of equations are the sets of values of $x_1...x_n$ that satisfy all equations, that is to say, the values taken by the unknowns. For instance, in the case of $n=2$, the equations correspond to lines in a 2-D space and the solution of the system is the intersection of these lines.\n",
    "\n",
    "A linear system of equations can be viewed as a set of $m$ $n-1$-dimensional hyperplanes in a *n*-dimensional space. So the linear system can be characterized with its number of equations ($m$) and the number of unknown variables ($n$). Let's see some examples to clarify this.\n",
    "\n",
    "#### Example 1. \n",
    "\n",
    "$m=1$, $n=2$: 1 equation and 2 variables\n",
    "\n",
    "$$\n",
    "A_{1,1}x_1 + A_{1,2}x_2 = b_1\n",
    "$$"
   ]
  },
  {
   "cell_type": "markdown",
   "metadata": {},
   "source": [
    "The graphical interpretation of $n=2$ is that we have a 2-D space. So we can represent it with 2 axes. Since our hyperplane is of $n-1$-dimensional, we have a 1-D hyperplane. This is simply a line. As $m=1$, we have only one equation. This means that we have only one line characterizing our linear system.\n",
    "\n",
    "Our equation can also be written like that\n",
    "\n",
    "$$\n",
    "y = ax + b\n",
    "$$"
   ]
  },
  {
   "cell_type": "code",
   "execution_count": 7,
   "metadata": {},
   "outputs": [
    {
     "data": {
      "image/png": "[encoded data removed]",
      "text/plain": [
       "<matplotlib.figure.Figure at 0x1057e6610>"
      ]
     },
     "metadata": {},
     "output_type": "display_data"
    }
   ],
   "source": [
    "# y = 2x+1\n",
    "\n",
    "x = np.arange(-10, 10)\n",
    "y = 2*x + 1\n",
    "\n",
    "plt.figure()\n",
    "plt.plot(x, y)\n",
    "plt.xlim(-2, 10)\n",
    "plt.ylim(-2, 10)\n",
    "plt.axvline(x=0, color='black')\n",
    "plt.axhline(y=0, color='black')\n",
    "plt.show()\n",
    "plt.close()"
   ]
  },
  {
   "cell_type": "markdown",
   "metadata": {
    "collapsed": true
   },
   "source": [
    "The solutions of this linear system correspond to the value of x and y such as $y=ax+b$. In the above example, $y=2x+1$. One solution is $x=0$ and $y=1$, or $x=1$ and $y=3$ and so on. We can see that there is an infinite number of solutions (each point on the line)."
   ]
  },
  {
   "cell_type": "markdown",
   "metadata": {
    "collapsed": true
   },
   "source": [
    "#### Example 2.\n",
    "\n",
    "*m*=2, *n*=2: 2 equations and 2 variables\n",
    "\n",
    "$$\n",
    "A_{1,1}x_1 + A_{1,2}x_2 = b_1\\\\\\\\\n",
    "A_{2,1}x_1 + A_{2,2}x_2 = b_2\n",
    "$$"
   ]
  },
  {
   "cell_type": "markdown",
   "metadata": {
    "collapsed": true
   },
   "source": [
    "The graphical interpretation of this system is that we have still have lines in a 2-D space. However this time there are 2 lines since there are 2 equations."
   ]
  },
  {
   "cell_type": "code",
   "execution_count": 8,
   "metadata": {},
   "outputs": [
    {
     "data": {
      "image/png": "[encoded data removed]",
      "text/plain": [
       "<matplotlib.figure.Figure at 0x105709c10>"
      ]
     },
     "metadata": {},
     "output_type": "display_data"
    }
   ],
   "source": [
    "# y = 2x+1\n",
    "\n",
    "x = np.arange(-10, 10)\n",
    "y = 2*x + 1\n",
    "\n",
    "y1 = 6*x - 2\n",
    "\n",
    "plt.figure()\n",
    "plt.plot(x, y)\n",
    "plt.plot(x, y1)\n",
    "plt.xlim(-2, 10)\n",
    "plt.ylim(-2, 10)\n",
    "plt.axvline(x=0, color='black')\n",
    "plt.axhline(y=0, color='black')\n",
    "plt.show()\n",
    "plt.close()"
   ]
  },
  {
   "cell_type": "markdown",
   "metadata": {},
   "source": [
    "With 2 lines in a 2-D space, there are multiple possible cases. On the above figure, the two lines are crossing so there is one unique solution. If they are superposed (same equation or equivalent, *cf*. linear dependance bellow) there are a infinite number of solution since each points of the lines corresponds to an intersection. If they are parallel, there is no solution since there is no intersection.\n",
    "\n",
    "This is an example of this general rule: we can't have more than 1 one solution but less than infinitely many solutions for a particular value of $b$. The same thing can be observed with other values of $m$ and $n$. For instance, two 2-D planes in a 3-D space can be superposed (infinitely many solutions), or crossed (infinitely many solutions since their crossing is a line), or parallel (no solution)."
   ]
  },
  {
   "cell_type": "code",
   "execution_count": 9,
   "metadata": {},
   "outputs": [
    {
     "data": {
      "image/png": "[encoded data removed]",
      "text/plain": [
       "<matplotlib.figure.Figure at 0x105b6e910>"
      ]
     },
     "metadata": {},
     "output_type": "display_data"
    }
   ],
   "source": [
    "# y = 2x+1\n",
    "\n",
    "x = np.arange(-10, 10)\n",
    "y = 2*x + 1\n",
    "\n",
    "y1 = 6*x - 2\n",
    "y2 = 0.1*x+6\n",
    "\n",
    "plt.figure()\n",
    "plt.plot(x, y)\n",
    "plt.plot(x, y1)\n",
    "plt.plot(x, y2)\n",
    "plt.xlim(-2, 10)\n",
    "plt.ylim(-2, 10)\n",
    "plt.axvline(x=0, color='black')\n",
    "plt.axhline(y=0, color='black')\n",
    "plt.show()\n",
    "plt.close()"
   ]
  },
  {
   "cell_type": "markdown",
   "metadata": {},
   "source": [
    "In the above case, there is 3 equations and no solution because there is no point in space that is on each of these lines.\n",
    "\n",
    "The general rule is that a system must have at least the same number number of variables than equations ($n \\geq m$) to have an unique solution. For example in the case of 2 2-D planes, *n*=2 and *m*=1 are"
   ]
  },
  {
   "cell_type": "markdown",
   "metadata": {},
   "source": [
    "### Graphical view 2: the column figure\n",
    "\n",
    "It is also possible to represent the set of equations by considering that the solution vector **b** correspond to a linear combination of each columns multiplied by its weight.\n",
    "\n",
    "From the set of equations\n",
    "\n",
    "$$\n",
    "A_{1,1}x_1 + A_{1,2}x_2 + A_{1,n}x_n = b_1 \\\\\\\\\n",
    "A_{2,1}x_1 + A_{2,2}x_2 + A_{2,n}x_n = b_2 \\\\\\\\\n",
    "\\cdots \\\\\\\\\n",
    "A_{m,1}x_1 + A_{m,2}x_2 + A_{m,n}x_n = b_m\n",
    "$$\n",
    "\n",
    "The column form is\n",
    "\n",
    "$$\n",
    "x_1\n",
    "\\begin{bmatrix}\n",
    "    A_{1,1}\\\\\\\\\n",
    "    A_{2,1}\\\\\\\\\n",
    "    A_{m,1}\n",
    "\\end{bmatrix}\n",
    "+\n",
    "x_2\n",
    "\\begin{bmatrix}\n",
    "    A_{1,2}\\\\\\\\\n",
    "    A_{2,2}\\\\\\\\\n",
    "    A_{m,2}\n",
    "\\end{bmatrix}\n",
    "+\n",
    "x_n\n",
    "\\begin{bmatrix}\n",
    "    A_{1,n}\\\\\\\\\n",
    "    A_{2,n}\\\\\\\\\n",
    "    A_{m,n}\n",
    "\\end{bmatrix}\n",
    "=\n",
    "\\begin{bmatrix}\n",
    "    b_1\\\\\\\\\n",
    "    b_2\\\\\\\\\n",
    "    b_m\n",
    "\\end{bmatrix}\n",
    "$$\n",
    "\n",
    "On a graphical point of view, we have to travel from the origin (zero on every dimensions) to the point of coordinate **b**. The columns of **A** give us the direction we can travel by and the weight is the lenght of the travel in that direction.\n",
    "\n",
    "#### Example 1. \n",
    "\n",
    "$m=1$, $n=2$: 1 equation and 2 variables\n",
    "\n",
    "$$\n",
    "A_{1,1}x_1 + A_{1,2}x_2 = b_1\n",
    "$$\n",
    "\n",
    "$y = 2x+1$"
   ]
  },
  {
   "cell_type": "markdown",
   "metadata": {},
   "source": [
    "#### Linear combination\n",
    "\n",
    "The linear combination of a set of vectors is the sum of each vector weigthed by a scalar.\n",
    "\n",
    "##### Basic vector operations\n",
    "\n",
    "Here is a graphical representation of the vector $\\vec{w}=(3,4)$ that corresponds to the linear combination of the vectors $\\vec{u}=(1, 3)$ and $\\vec{v}=(2, 1)$:"
   ]
  },
  {
   "cell_type": "code",
   "execution_count": 13,
   "metadata": {},
   "outputs": [
    {
     "data": {
      "image/png": "[encoded data removed]",
      "text/plain": [
       "<matplotlib.figure.Figure at 0x1062aa250>"
      ]
     },
     "metadata": {},
     "output_type": "display_data"
    }
   ],
   "source": [
    "u = [0,0,1,3]\n",
    "v = [0,0,2,1]\n",
    "u_bis = [1,3,2,1]\n",
    "w = [0,0,3,4]\n",
    "plt.quiver([u[0], v[0], u_bis[0], w[0]],\n",
    "           [u[1], v[1], u_bis[1], w[1]],\n",
    "           [u[2], v[2], u_bis[2], w[2]],\n",
    "           [u[3], v[3], u_bis[3], w[3]],\n",
    "           angles='xy', scale_units='xy', scale=1, color=['g', 'r', 'r', 'b'])\n",
    "# plt.rc('text', usetex=True)\n",
    "plt.xlim(-1, 10)\n",
    "plt.ylim(-1, 10)\n",
    "plt.axvline(x=0, color='grey')\n",
    "plt.axhline(y=0, color='grey')\n",
    "plt.scatter(3,4,marker='x',s=50)\n",
    "plt.text(0, 2, r'$\\vec{u}$', color='g', size=18)\n",
    "plt.text(1.2, 0, r'$\\vec{v}$', color='r', size=18)\n",
    "plt.text(1.5, 3.7, r'$\\vec{v}$', color='r', size=18)\n",
    "plt.text(2, 2, r'$\\vec{w}$', color='b', size=18)\n",
    "plt.show()\n",
    "plt.close()"
   ]
  },
  {
   "cell_type": "markdown",
   "metadata": {},
   "source": [
    "In this case, we have $\\vec{w}=a.\\vec{u}+b.\\vec{v}$ with $a=1$ and $b=1$. If for instance we have $a=2$, $\\vec{w}$ will be:"
   ]
  },
  {
   "cell_type": "code",
   "execution_count": 14,
   "metadata": {},
   "outputs": [
    {
     "data": {
      "image/png": "[encoded data removed]",
      "text/plain": [
       "<matplotlib.figure.Figure at 0x1062fb2d0>"
      ]
     },
     "metadata": {},
     "output_type": "display_data"
    }
   ],
   "source": [
    "a = 2\n",
    "\n",
    "u = [0,0,1,3]\n",
    "v = [0,0,2,1]\n",
    "u_bis = [2,6,2,1]\n",
    "w = [0,0,4,7]\n",
    "plt.quiver([u[0], a*u[0], v[0], u_bis[0], w[0]],\n",
    "           [u[1], a*u[1], v[1], u_bis[1], w[1]],\n",
    "           [u[2], a*u[2], v[2], u_bis[2], w[2]],\n",
    "           [u[3], a*u[3], v[3], u_bis[3], w[3]],\n",
    "           angles='xy', scale_units='xy', scale=1, color=['g', 'g', 'r', 'r', 'b'])\n",
    "# plt.rc('text', usetex=True)\n",
    "plt.xlim(-1, 10)\n",
    "plt.ylim(-1, 10)\n",
    "plt.axvline(x=0, color='grey')\n",
    "plt.axhline(y=0, color='grey')\n",
    "plt.scatter(4,7,marker='x',s=50)\n",
    "plt.text(-0.5, 2, r'$\\vec{u}$', color='g', size=18)\n",
    "plt.text(0.5, 4.5, r'$\\vec{u}$', color='g', size=18)\n",
    "plt.text(1.2, 0, r'$\\vec{v}$', color='r', size=18)\n",
    "plt.text(2.5, 7, r'$\\vec{v}$', color='r', size=18)\n",
    "plt.text(3, 4, r'$\\vec{w}$', color='b', size=18)\n",
    "plt.show()\n",
    "plt.close()"
   ]
  },
  {
   "cell_type": "markdown",
   "metadata": {},
   "source": [
    "For more details and great example about the row and the column figure, have a look at the book of Gilbert Strang [some ressources here](http://math.mit.edu/~gs/dela/dela_4-1.pdf)."
   ]
  },
  {
   "cell_type": "markdown",
   "metadata": {
    "collapsed": true
   },
   "source": [
    "# References\n",
    "\n",
    "- [The column space of a matrix. Video from Gilbert Strang](https://ocw.mit.edu/resources/res-18-009-learn-differential-equations-up-close-with-gilbert-strang-and-cleve-moler-fall-2015/differential-equations-and-linear-algebra/vector-spaces-and-subspaces/the-column-space-of-a-matrix/)\n",
    "- [Differential Equations and Linear Algebra. Gilbert Strang](https://www.amazon.com/Differential-Equations-Linear-Algebra-Gilbert/dp/0980232791)\n",
    "- [Wikipedia - System of linear equations](https://en.wikipedia.org/wiki/System_of_linear_equations)"
   ]
  },
  {
   "cell_type": "code",
   "execution_count": null,
   "metadata": {
    "collapsed": true
   },
   "outputs": [],
   "source": []
  }
 ],
 "metadata": {
  "kernelspec": {
   "display_name": "Python 2",
   "language": "python",
   "name": "python2"
  },
  "language_info": {
   "codemirror_mode": {
    "name": "ipython",
    "version": 2
   },
   "file_extension": ".py",
   "mimetype": "text/x-python",
   "name": "python",
   "nbconvert_exporter": "python",
   "pygments_lexer": "ipython2",
   "version": "2.7.10"
  }
 },
 "nbformat": 4,
 "nbformat_minor": 2
}

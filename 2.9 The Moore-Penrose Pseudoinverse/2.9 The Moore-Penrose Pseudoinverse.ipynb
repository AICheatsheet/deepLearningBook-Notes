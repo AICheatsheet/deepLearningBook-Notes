{
 "cells": [
  {
   "cell_type": "code",
   "execution_count": 1,
   "metadata": {
    "collapsed": true
   },
   "outputs": [],
   "source": [
    "import numpy as np\n",
    "import matplotlib.pyplot as plt\n",
    "import seaborn as sns"
   ]
  },
  {
   "cell_type": "code",
   "execution_count": 2,
   "metadata": {
    "collapsed": false
   },
   "outputs": [
    {
     "name": "stdout",
     "output_type": "stream",
     "text": [
      "Populating the interactive namespace from numpy and matplotlib\n"
     ]
    }
   ],
   "source": [
    "# Plot parameters\n",
    "sns.set()\n",
    "# Seven hls color palette\n",
    "current_palette_7 = sns.color_palette(\"hls\", 7)\n",
    "sns.set_palette(current_palette_7)\n",
    "\n",
    "%pylab inline\n",
    "pylab.rcParams['figure.figsize'] = (4, 4)\n",
    "plt.rcParams['xtick.major.size'] = 0\n",
    "plt.rcParams['ytick.major.size'] = 0\n",
    "# rcParams.keys()"
   ]
  },
  {
   "cell_type": "code",
   "execution_count": 3,
   "metadata": {
    "collapsed": true
   },
   "outputs": [],
   "source": [
    "# Avoid inaccurate floating values (for inverse matrices in dot product for instance)\n",
    "# See https://stackoverflow.com/questions/24537791/numpy-matrix-inversion-rounding-errors\n",
    "np.set_printoptions(suppress=True)"
   ]
  },
  {
   "cell_type": "markdown",
   "metadata": {},
   "source": [
    "# 2.9 The Moore-Penrose Pseudoinverse"
   ]
  },
  {
   "cell_type": "markdown",
   "metadata": {},
   "source": [
    "We will see here a direct application of the SVD (see [2.8]()).\n",
    "\n",
    "As we have seen in [2.3]() that the inverse of a matrix $\\boldsymbol{A}$ can be used to solve the equation $\\boldsymbol{Ax}=\\boldsymbol{b}$:\n",
    "\n",
    "$$\\boldsymbol{A}^{-1}\\boldsymbol{Ax}=\\boldsymbol{A}^{-1}\\boldsymbol{b}$$\n",
    "\n",
    "$$\\boldsymbol{I}_n\\boldsymbol{x}=\\boldsymbol{A}^{-1}\\boldsymbol{b}$$\n",
    "\n",
    "$$\\boldsymbol{x}=\\boldsymbol{A}^{-1}\\boldsymbol{b}$$\n",
    "\n",
    "But in the cases where the set of equation have 0 or many solutions the inverse cannot be found and the equation cannot be solved. The pseudoinverse is $\\boldsymbol{A}$ such as:\n",
    "\n",
    "$$\\boldsymbol{AB}\\approx\\boldsymbol{I_n}$$\n",
    "\n",
    "minimizing\n",
    "\n",
    "$$\\mid\\boldsymbol{AB}-\\boldsymbol{I_n}\\mid_2$$\n",
    "\n",
    "The following formula can be used to find the pseudoinverse:\n",
    "\n",
    "$$\\boldsymbol{A}^+= \\boldsymbol{Vs}^+\\boldsymbol{U}^T$$\n",
    "\n",
    "with $\\boldsymbol{U}$, $\\boldsymbol{s}$ and $\\boldsymbol{V}$ respectively the left singular vectors, the singular values and the right singular vectors of $\\boldsymbol{A}$ (see the SVD in [2.8]()). $\\boldsymbol{A}^+$ is the pseudoinverse of $\\boldsymbol{A}$ and $\\boldsymbol{s}^+$ the pseudoinverse of $\\boldsymbol{s}$. We saw that $\\boldsymbol{s}$ is a diagonal matrix and thus $\\boldsymbol{s}^+$ can be calculated by taking the reciprocal of the non zero values of $\\boldsymbol{s}$.\n",
    "\n",
    "### Example 1.\n",
    "\n",
    "Let's see how to implement that. We will create a non square matrix $\\boldsymbol{A}$, calculate its singular value decomposition and its pseudoinverse.\n",
    "\n",
    "$$\n",
    "\\boldsymbol{A}=\\begin{bmatrix}\n",
    "    7 & 2\\\\\\\\\n",
    "    3 & 4\\\\\\\\\n",
    "    5 & 3\n",
    "\\end{bmatrix}\n",
    "$$"
   ]
  },
  {
   "cell_type": "code",
   "execution_count": 4,
   "metadata": {
    "collapsed": false
   },
   "outputs": [
    {
     "data": {
      "text/plain": [
       "array([[ 0.16666667, -0.10606061,  0.03030303],\n",
       "       [-0.16666667,  0.28787879,  0.06060606]])"
      ]
     },
     "execution_count": 4,
     "metadata": {},
     "output_type": "execute_result"
    }
   ],
   "source": [
    "A = np.array([[7, 2], [3, 4], [5, 3]])\n",
    "U, s, V = np.linalg.svd(A)\n",
    "\n",
    "s_plus = np.zeros((A.shape[0], A.shape[1])).T\n",
    "s_plus[:s.shape[0], :s.shape[0]] = np.linalg.inv(np.diag(s))\n",
    "\n",
    "A_plus = V.T.dot(s_plus).dot(U.T)\n",
    "A_plus"
   ]
  },
  {
   "cell_type": "markdown",
   "metadata": {},
   "source": [
    "We can now check with the `pinv` function from Numpy that the pseudoinverse is correct:"
   ]
  },
  {
   "cell_type": "code",
   "execution_count": 5,
   "metadata": {
    "collapsed": false
   },
   "outputs": [
    {
     "data": {
      "text/plain": [
       "array([[ 0.16666667, -0.10606061,  0.03030303],\n",
       "       [-0.16666667,  0.28787879,  0.06060606]])"
      ]
     },
     "execution_count": 5,
     "metadata": {},
     "output_type": "execute_result"
    }
   ],
   "source": [
    "np.linalg.pinv(A)"
   ]
  },
  {
   "cell_type": "markdown",
   "metadata": {},
   "source": [
    "It looks good! We can now check that it is really the near inverse of $\\boldsymbol{A}$. Since we know that\n",
    "\n",
    "$$\\boldsymbol{A}^{-1}\\boldsymbol{A}=\\boldsymbol{I_n}$$\n",
    "\n",
    "with\n",
    "\n",
    "$$\\boldsymbol{I_2}=\\begin{bmatrix}\n",
    "    1 & 0 \\\\\\\\\n",
    "    0 & 1\n",
    "\\end{bmatrix}\n",
    "$$"
   ]
  },
  {
   "cell_type": "code",
   "execution_count": 6,
   "metadata": {
    "collapsed": false
   },
   "outputs": [
    {
     "data": {
      "text/plain": [
       "array([[ 1.,  0.],\n",
       "       [ 0.,  1.]])"
      ]
     },
     "execution_count": 6,
     "metadata": {},
     "output_type": "execute_result"
    }
   ],
   "source": [
    "A_plus.dot(A)"
   ]
  },
  {
   "cell_type": "markdown",
   "metadata": {},
   "source": [
    "This is not bad! This is almost the identity matrix!\n",
    "\n",
    "A difference with the real inverse is that $\\boldsymbol{A}^+\\boldsymbol{A}\\approx\\boldsymbol{I}$ but $\\boldsymbol{A}\\boldsymbol{A}^+\\neq\\boldsymbol{I}$.\n",
    "\n",
    "Another way of computing the pseudoinverse is to use this formula:\n",
    "\n",
    "$$\n",
    "(\\boldsymbol{A}^T\\boldsymbol{A})^{-1}\\boldsymbol{A}^T\n",
    "$$\n",
    "\n",
    "The result is less acurate than the SVD method and Numpy `pinv` uses the SVD [2]. Here is an example from the same matrix $\\boldsymbol{A}$:"
   ]
  },
  {
   "cell_type": "code",
   "execution_count": 7,
   "metadata": {
    "collapsed": false
   },
   "outputs": [
    {
     "data": {
      "text/plain": [
       "array([[ 0.16666667, -0.10606061,  0.03030303],\n",
       "       [-0.16666667,  0.28787879,  0.06060606]])"
      ]
     },
     "execution_count": 7,
     "metadata": {},
     "output_type": "execute_result"
    }
   ],
   "source": [
    "A_plus_1 = np.linalg.inv(A.T.dot(A)).dot(A.T)\n",
    "A_plus_1"
   ]
  },
  {
   "cell_type": "markdown",
   "metadata": {},
   "source": [
    "In this case the result is the same as with the SVD way."
   ]
  },
  {
   "cell_type": "markdown",
   "metadata": {},
   "source": [
    "## Using the pseudoinverse to solve a overdetermined system of linear equations\n",
    "\n",
    "In general there is no solution to overdetermined systems (see [2.4]() ; [4]). In the following picture, there is no point at the intersection of the three lines corresponding to three equations:\n",
    "\n",
    "<img src=\"images/overdeterminedSystem.png\" width=200 heigth=200>\n",
    "\n",
    "The pseudoinverse solve the system in the least square error perspective: it finds the solution that minimize the error. We will see this more explicitly with an example.\n",
    "\n",
    "### Example 2.\n",
    "\n",
    "For this example we will consider this set of three equation with two unknowns:\n",
    "\n",
    "$$\n",
    "\\begin{cases}\n",
    "-2x_1 + 2 = x_2 \\\\\\\\\n",
    "4x_1 + 8 = x_2 \\\\\\\\\n",
    "-1x_1 + 2 = x_2\n",
    "\\end{cases}\n",
    "\\Leftrightarrow\n",
    "\\begin{cases}\n",
    "-2x_1 - x_2 = -2 \\\\\\\\\n",
    "4x_1 - x_2 = -8 \\\\\\\\\n",
    "-1x_1 - x_2 = -2\n",
    "\\end{cases}\n",
    "$$\n",
    "\n",
    "Let's see their graphical representation:"
   ]
  },
  {
   "cell_type": "code",
   "execution_count": 8,
   "metadata": {
    "collapsed": false
   },
   "outputs": [
    {
     "data": {
      "image/png": "[encoded data removed]",
      "text/plain": [
       "<matplotlib.figure.Figure at 0x108a98b90>"
      ]
     },
     "metadata": {},
     "output_type": "display_data"
    }
   ],
   "source": [
    "x1 = np.linspace(-5, 5, 1000)\n",
    "x2_1 = -2*x1 + 2\n",
    "x2_2 = 4*x1 + 8\n",
    "x2_3 = -1*x1 + 2\n",
    "\n",
    "plt.plot(x1, x2_1, 'b')\n",
    "plt.plot(x1, x2_2, 'g')\n",
    "plt.plot(x1, x2_3, 'r')\n",
    "plt.xlim(-2., 1)\n",
    "plt.ylim(1, 5)\n",
    "plt.show()"
   ]
  },
  {
   "cell_type": "markdown",
   "metadata": {},
   "source": [
    "We actually see that there is no solution.\n",
    "\n",
    "Putting this into the matrix form we have:\n",
    "\n",
    "$\n",
    "\\boldsymbol{A}=\n",
    "\\begin{bmatrix}\n",
    "    -2 & -1 \\\\\\\\\n",
    "    4 & -1 \\\\\\\\\n",
    "    -1 & -1\n",
    "\\end{bmatrix}\n",
    "$, $\n",
    "\\boldsymbol{x}=\n",
    "\\begin{bmatrix}\n",
    "    x_1 \\\\\\\\\n",
    "    x_2\n",
    "\\end{bmatrix}\n",
    "$ and $\n",
    "\\boldsymbol{b}=\n",
    "\\begin{bmatrix}\n",
    "    -2 \\\\\\\\\n",
    "    -8 \\\\\\\\\n",
    "    -2\n",
    "\\end{bmatrix}\n",
    "$\n",
    "\n",
    "So we have:\n",
    "\n",
    "$$\n",
    "\\boldsymbol{Ax} = \\boldsymbol{b}\n",
    "\\Leftrightarrow\n",
    "\\begin{bmatrix}\n",
    "    -2 & -1 \\\\\\\\\n",
    "    4 & -1 \\\\\\\\\n",
    "    -1 & -1\n",
    "\\end{bmatrix}\n",
    "\\begin{bmatrix}\n",
    "    x_1 \\\\\\\\\n",
    "    x_2\n",
    "\\end{bmatrix}\n",
    "=\n",
    "\\begin{bmatrix}\n",
    "    -2 \\\\\\\\\n",
    "    -8 \\\\\\\\\n",
    "    -2\n",
    "\\end{bmatrix}\n",
    "$$\n",
    "\n",
    "We will now calculate the pseudoinverse of $\\boldsymbol{A}$:"
   ]
  },
  {
   "cell_type": "code",
   "execution_count": 9,
   "metadata": {
    "collapsed": false
   },
   "outputs": [
    {
     "data": {
      "text/plain": [
       "array([[-0.11290323,  0.17741935, -0.06451613],\n",
       "       [-0.37096774, -0.27419355, -0.35483871]])"
      ]
     },
     "execution_count": 9,
     "metadata": {},
     "output_type": "execute_result"
    }
   ],
   "source": [
    "A = np.array([[-2, -1], [4, -1], [-1, -1]])\n",
    "A_plus = np.linalg.pinv(A)\n",
    "A_plus"
   ]
  },
  {
   "cell_type": "markdown",
   "metadata": {},
   "source": [
    "Now that we have calculated the pseudoinverse of $\\boldsymbol{A}$:\n",
    "\n",
    "$$\n",
    "\\boldsymbol{A}^+=\n",
    "\\begin{bmatrix}\n",
    "    -0.11290323 &  0.17741935 & -0.06451613 \\\\\\\\\n",
    "    -0.37096774 & -0.27419355 & -0.35483871\n",
    "\\end{bmatrix}\n",
    "$$\n",
    "\n",
    "we can use it to find $\\boldsymbol{x}$:"
   ]
  },
  {
   "cell_type": "code",
   "execution_count": 10,
   "metadata": {
    "collapsed": false
   },
   "outputs": [
    {
     "data": {
      "text/plain": [
       "array([[-1.06451613],\n",
       "       [ 3.64516129]])"
      ]
     },
     "execution_count": 10,
     "metadata": {},
     "output_type": "execute_result"
    }
   ],
   "source": [
    "b = np.array([[-2], [-8], [-2]])\n",
    "res = A_plus.dot(b)\n",
    "res"
   ]
  },
  {
   "cell_type": "markdown",
   "metadata": {},
   "source": [
    "So we have\n",
    "\n",
    "$\n",
    "\\begin{align*}\n",
    "\\boldsymbol{A}^+\n",
    "\\boldsymbol{b}\n",
    "&=\n",
    "\\begin{bmatrix}\n",
    "    x1 \\\\\\\\\n",
    "    x2\n",
    "\\end{bmatrix}\\\\\\\\\n",
    "&=\n",
    "\\begin{bmatrix}\n",
    "    -0.11290323 &  0.17741935 & -0.06451613 \\\\\\\\\n",
    "    -0.37096774 & -0.27419355 & -0.35483871\n",
    "\\end{bmatrix}\n",
    "\\begin{bmatrix}\n",
    "    -2 \\\\\\\\\n",
    "    -8 \\\\\\\\\n",
    "    -2\n",
    "\\end{bmatrix}\\\\\\\\\n",
    "&=\n",
    "\\begin{bmatrix}\n",
    "    -1.06451613 \\\\\\\\\n",
    "    3.64516129\n",
    "\\end{bmatrix}\n",
    "\\end{align*}\n",
    "$\n",
    "\n",
    "In our two dimensions, the coordinate of $\\boldsymbol{x}$ are $\\begin{bmatrix}\n",
    "    -1.06451613 \\\\\\\\\n",
    "    3.64516129\n",
    "\\end{bmatrix}$. Let's plot this point along with the equations lines:"
   ]
  },
  {
   "cell_type": "code",
   "execution_count": 11,
   "metadata": {
    "collapsed": false
   },
   "outputs": [
    {
     "data": {
      "image/png": "[encoded data removed]",
      "text/plain": [
       "<matplotlib.figure.Figure at 0x108b3c8d0>"
      ]
     },
     "metadata": {},
     "output_type": "display_data"
    }
   ],
   "source": [
    "plt.plot(x1, x2_1, 'b')\n",
    "plt.plot(x1, x2_2, 'g')\n",
    "plt.plot(x1, x2_3, 'r')\n",
    "plt.xlim(-2., 1)\n",
    "plt.ylim(1, 5)\n",
    "\n",
    "plt.scatter(res[0], res[1])\n",
    "\n",
    "plt.show()"
   ]
  },
  {
   "cell_type": "markdown",
   "metadata": {},
   "source": [
    "Maybe you would have expected the point being at the barycenter of the triangle [5]. This is not the case becase the equations are not scaled the same way. Actually the point is at the intersection of the three [symmedians](https://en.wikipedia.org/wiki/Symmedian) of the triangle."
   ]
  },
  {
   "cell_type": "markdown",
   "metadata": {},
   "source": [
    "### Example 3.\n",
    "\n",
    "This method can also be used to fit a line to a set of points. Let's take the following data points:\n",
    "\n",
    "<img src=\"images/dataPoints.png\" width=300 heigth=300>\n",
    "\n",
    "We have this set of $\\boldsymbol{x}$ and $\\boldsymbol{y}$ and we are looking for the line $y=mx+b$ that minimize the error. We can represent the data points with a matrix equations:\n",
    "\n",
    "$$\n",
    "\\boldsymbol{Ax} = \\boldsymbol{b}\n",
    "\\Leftrightarrow\n",
    "\\begin{bmatrix}\n",
    "    0 & 1 \\\\\\\\\n",
    "    2 & 1 \\\\\\\\\n",
    "    3 & 1 \\\\\\\\\n",
    "    4 & 1\n",
    "\\end{bmatrix}\n",
    "\\begin{bmatrix}\n",
    "    m \\\\\\\\\n",
    "    b\n",
    "\\end{bmatrix}\n",
    "=\n",
    "\\begin{bmatrix}\n",
    "    2 \\\\\\\\\n",
    "    0 \\\\\\\\\n",
    "    5 \\\\\\\\\n",
    "    3\n",
    "\\end{bmatrix}\n",
    "$$\n",
    "\n",
    "Note that here the matrix $\\boldsymbol{A}$ represents the values of the coefficients. The column of 1 correspond to the intercepts (without it the fit would have the constraint to cross the origin). It gives the following set of equations:\n",
    "\n",
    "$$\n",
    "\\begin{cases}\n",
    "    m\\cdot 0 + 1\\cdot b = 2 \\\\\\\\\n",
    "    m\\cdot 2 + 1\\cdot b = 0 \\\\\\\\\n",
    "    m\\cdot 3 + 1\\cdot b = 5 \\\\\\\\\n",
    "    m\\cdot 4 + 1\\cdot b = 3\n",
    "\\end{cases}\n",
    "$$\n",
    "\n",
    "We have the set of equations $mx+b=y$. The ones are used to give back the intercept parameter. For instance, in the first equation corresponding to the first point we have well $x=0$ and $y=2$. This can be confusing because here the vector $\\boldsymbol{x}$ correspond to the coefficients. This is because the problem is different from the other examples: we are looking for the coefficients of a line and not for $x$ and $y$ features. We kept this notation to indicate the similarity with the last examples.\n",
    "\n",
    "So we will construct these matrix and try to use the pseudoinverse to find the equation of the line minimizing the error (difference between the line and the actual data points).\n",
    "\n",
    "Let's start with the creation of the matrix of $\\boldsymbol{A}$ and $\\boldsymbol{y}$:"
   ]
  },
  {
   "cell_type": "code",
   "execution_count": 25,
   "metadata": {
    "collapsed": true
   },
   "outputs": [],
   "source": [
    "A = np.array([[0, 1], [1, 1], [2, 1], [3, 1], [3, 1], [4, 1]])\n",
    "y = np.array([[2], [4], [0], [2], [5], [3]])"
   ]
  },
  {
   "cell_type": "markdown",
   "metadata": {},
   "source": [
    "We can now calculate the pseudoinverse of $\\boldsymbol{A}$:"
   ]
  },
  {
   "cell_type": "code",
   "execution_count": 26,
   "metadata": {
    "collapsed": true
   },
   "outputs": [],
   "source": [
    "A_plus = np.linalg.pinv(A)"
   ]
  },
  {
   "cell_type": "markdown",
   "metadata": {},
   "source": [
    "and apply it to the result to find the coefficients:"
   ]
  },
  {
   "cell_type": "code",
   "execution_count": 27,
   "metadata": {
    "collapsed": false
   },
   "outputs": [
    {
     "data": {
      "text/plain": [
       "array([[ 0.21538462],\n",
       "       [ 2.2       ]])"
      ]
     },
     "execution_count": 27,
     "metadata": {},
     "output_type": "execute_result"
    }
   ],
   "source": [
    "coefs = A_plus.dot(y)\n",
    "coefs"
   ]
  },
  {
   "cell_type": "markdown",
   "metadata": {},
   "source": [
    "These are the parameters of the fit. The slope is $m=0.21538462$ and the intercept is $b=2.2$. We will plot the data points and the regression line: "
   ]
  },
  {
   "cell_type": "code",
   "execution_count": 30,
   "metadata": {
    "collapsed": false
   },
   "outputs": [
    {
     "data": {
      "image/png": "[encoded data removed]",
      "text/plain": [
       "<matplotlib.figure.Figure at 0x108d7bbd0>"
      ]
     },
     "metadata": {},
     "output_type": "display_data"
    }
   ],
   "source": [
    "x = np.linspace(-1, 5, 1000)\n",
    "y = coefs[0]*x + coefs[1]\n",
    "\n",
    "plt.plot(A[:, 0], b, '*')\n",
    "plt.plot(x, y)\n",
    "plt.xlim(-1., 6)\n",
    "plt.ylim(-0.5, 5.5)\n",
    "\n",
    "plt.show()"
   ]
  },
  {
   "cell_type": "markdown",
   "metadata": {},
   "source": [
    "If you are not sure about the result. Just check it with another method. For instance, with R:\n",
    "\n",
    "```r\n",
    "a <- data.frame(x=c(0, 1, 2, 3, 3, 4),\n",
    "                y=c(2, 4, 0, 2, 5, 3))\n",
    "\n",
    "ggplot(data=a, aes(x=x, y=y)) +\n",
    "  geom_point() +\n",
    "  stat_smooth(method = \"lm\", col = \"red\") +\n",
    "  xlim(-1, 5) +\n",
    "  ylim(-1, 6)\n",
    "```\n",
    "\n",
    "outputs:\n",
    "\n",
    "<img src=\"images/rLinearFit.png\" width=400, height=400>\n",
    "\n",
    "You can also do the fit with the Numpy `polyfit` to check the parameters:"
   ]
  },
  {
   "cell_type": "code",
   "execution_count": 31,
   "metadata": {
    "collapsed": false
   },
   "outputs": [
    {
     "data": {
      "text/plain": [
       "array([[ 0.21538462],\n",
       "       [ 2.2       ]])"
      ]
     },
     "execution_count": 31,
     "metadata": {},
     "output_type": "execute_result"
    }
   ],
   "source": [
    "np.polyfit(A[:, 0], b, 1)"
   ]
  },
  {
   "cell_type": "markdown",
   "metadata": {},
   "source": [
    "That's good! We have seen how to use the pseudoinverse in order to solve a simple regression problem. Let's see with a more real case."
   ]
  },
  {
   "cell_type": "markdown",
   "metadata": {},
   "source": [
    "### Example 4.\n",
    "\n",
    "To see the effect with more data points we can generate data (see [this nice blog post](https://mec560sbu.github.io/2016/08/29/Least_SQ_Fitting/) for other methods of fitting).\n",
    "\n",
    "We will generate a column vector (see `reshape()` bellow) containing 100 points with random $x$ values and pseudo-random $y$ values. The function `seed()` from the [Numpy.random package](https://docs.scipy.org/doc/numpy/reference/generated/numpy.random.seed.html) is used to freeze the randomisation and be able to reproduce the results:"
   ]
  },
  {
   "cell_type": "code",
   "execution_count": 76,
   "metadata": {
    "collapsed": false
   },
   "outputs": [
    {
     "name": "stdout",
     "output_type": "stream",
     "text": [
      "(100, 1) (100, 1)\n",
      "[[ 3.48234593]\n",
      " [ 1.43069667]\n",
      " [ 1.13425727]\n",
      " [ 2.75657385]\n",
      " [ 3.59734485]\n",
      " [ 2.1155323 ]\n",
      " [ 4.90382099]\n",
      " [ 3.42414869]\n",
      " [ 2.40465951]\n",
      " [ 1.96058759]]\n"
     ]
    }
   ],
   "source": [
    "np.random.seed(123)\n",
    "x = 5*np.random.rand(100)\n",
    "y = 2*x + 1 + np.random.randn(100)\n",
    "\n",
    "x = x.reshape(100, 1)\n",
    "y = y.reshape(100, 1)\n",
    "\n",
    "print x.shape, y.shape\n",
    "print x[:10, :]"
   ]
  },
  {
   "cell_type": "markdown",
   "metadata": {
    "collapsed": true
   },
   "source": [
    "We will create the matrix $\\boldsymbol{A}$ from $\\boldsymbol{x}$ by adding a column of ones exactly like we did in the example 3."
   ]
  },
  {
   "cell_type": "code",
   "execution_count": 77,
   "metadata": {
    "collapsed": false
   },
   "outputs": [
    {
     "data": {
      "text/plain": [
       "array([[ 3.48234593,  1.        ],\n",
       "       [ 1.43069667,  1.        ],\n",
       "       [ 1.13425727,  1.        ],\n",
       "       [ 2.75657385,  1.        ],\n",
       "       [ 3.59734485,  1.        ],\n",
       "       [ 2.1155323 ,  1.        ],\n",
       "       [ 4.90382099,  1.        ],\n",
       "       [ 3.42414869,  1.        ],\n",
       "       [ 2.40465951,  1.        ],\n",
       "       [ 1.96058759,  1.        ]])"
      ]
     },
     "execution_count": 77,
     "metadata": {},
     "output_type": "execute_result"
    }
   ],
   "source": [
    "A = np.hstack((x,np.ones(np.shape(x))))\n",
    "A[:10]"
   ]
  },
  {
   "cell_type": "markdown",
   "metadata": {},
   "source": [
    "We can now find the pseudoinverse of $\\boldsymbol{A}$ and calculate the coefficients of the regression line:"
   ]
  },
  {
   "cell_type": "code",
   "execution_count": 79,
   "metadata": {
    "collapsed": false
   },
   "outputs": [
    {
     "data": {
      "text/plain": [
       "array([[ 1.9461907 ],\n",
       "       [ 1.16994745]])"
      ]
     },
     "execution_count": 79,
     "metadata": {},
     "output_type": "execute_result"
    }
   ],
   "source": [
    "A_plus = np.linalg.pinv(A)\n",
    "coefs = A_plus.dot(y)\n",
    "coefs"
   ]
  },
  {
   "cell_type": "markdown",
   "metadata": {
    "collapsed": true
   },
   "source": [
    "We can finally draw the point and the regression line:"
   ]
  },
  {
   "cell_type": "code",
   "execution_count": 80,
   "metadata": {
    "collapsed": false
   },
   "outputs": [
    {
     "data": {
      "text/plain": [
       "[<matplotlib.lines.Line2D at 0x10aa27490>]"
      ]
     },
     "execution_count": 80,
     "metadata": {},
     "output_type": "execute_result"
    },
    {
     "data": {
      "image/png": "[encoded data removed]",
      "text/plain": [
       "<matplotlib.figure.Figure at 0x10ad32890>"
      ]
     },
     "metadata": {},
     "output_type": "display_data"
    }
   ],
   "source": [
    "x_line = np.linspace(0, 5, 1000)\n",
    "y_line = coefs[0]*x_line + coefs[1]\n",
    "\n",
    "plt.plot(x, y, '*')\n",
    "plt.plot(x_line, y_line)"
   ]
  },
  {
   "cell_type": "markdown",
   "metadata": {},
   "source": [
    "This is working!"
   ]
  },
  {
   "cell_type": "markdown",
   "metadata": {
    "collapsed": true
   },
   "source": [
    "# References\n",
    "\n",
    "[1] [Sean Owen - Pseudoinverse intuition](https://www.quora.com/What-is-the-intuition-behind-pseudo-inverse-of-a-matrix)\n",
    "\n",
    "[2] [Numpy - linalg.pinv](https://docs.scipy.org/doc/numpy/reference/generated/numpy.linalg.pinv.html)\n",
    "\n",
    "[3] [Using the Moore-Penrose Pseudoinverse to Solve Linear Equations](https://www.youtube.com/watch?v=5bxsxM2UTb4)\n",
    "\n",
    "[4] [Overdetermined systems](https://en.wikipedia.org/wiki/Overdetermined_system)\n",
    "\n",
    "[5] [Least square solution in the triangle center](https://math.stackexchange.com/questions/471812/is-the-least-squares-solution-to-an-overdetermined-system-a-triangle-center)\n",
    "\n",
    "[6] [Symmedian](https://en.wikipedia.org/wiki/Symmedian)\n",
    "\n",
    "[7] [Least square fitting](https://mec560sbu.github.io/2016/08/29/Least_SQ_Fitting/)\n",
    "\n",
    "[8] [Numpy random seed](https://docs.scipy.org/doc/numpy/reference/generated/numpy.random.seed.html)"
   ]
  },
  {
   "cell_type": "code",
   "execution_count": null,
   "metadata": {
    "collapsed": true
   },
   "outputs": [],
   "source": []
  }
 ],
 "metadata": {
  "kernelspec": {
   "display_name": "Python 2",
   "language": "python",
   "name": "python2"
  },
  "language_info": {
   "codemirror_mode": {
    "name": "ipython",
    "version": 2
   },
   "file_extension": ".py",
   "mimetype": "text/x-python",
   "name": "python",
   "nbconvert_exporter": "python",
   "pygments_lexer": "ipython2",
   "version": "2.7.14"
  }
 },
 "nbformat": 4,
 "nbformat_minor": 2
}

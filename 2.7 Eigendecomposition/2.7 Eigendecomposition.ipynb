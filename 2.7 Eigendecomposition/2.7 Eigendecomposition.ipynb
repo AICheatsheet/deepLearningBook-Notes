{
 "cells": [
  {
   "cell_type": "code",
   "execution_count": 1,
   "metadata": {
    "collapsed": true,
    "scrolled": false
   },
   "outputs": [],
   "source": [
    "import numpy as np\n",
    "import matplotlib.pyplot as plt\n",
    "import seaborn as sns"
   ]
  },
  {
   "cell_type": "code",
   "execution_count": 2,
   "metadata": {},
   "outputs": [
    {
     "name": "stdout",
     "output_type": "stream",
     "text": [
      "Populating the interactive namespace from numpy and matplotlib\n"
     ]
    }
   ],
   "source": [
    "# Plot style\n",
    "sns.set()\n",
    "%pylab inline\n",
    "pylab.rcParams['figure.figsize'] = (4, 4)\n",
    "# Avoid inaccurate floating values (for inverse matrices in dot product for instance)\n",
    "# See https://stackoverflow.com/questions/24537791/numpy-matrix-inversion-rounding-errors\n",
    "np.set_printoptions(suppress=True)"
   ]
  },
  {
   "cell_type": "code",
   "execution_count": 3,
   "metadata": {},
   "outputs": [
    {
     "data": {
      "text/html": [
       "<style>\n",
       ".pquote {\n",
       "  text-align: left;\n",
       "  margin: 40px 0 40px auto;\n",
       "  width: 70%;\n",
       "  font-size: 1.5em;\n",
       "  font-style: italic;\n",
       "  display: block;\n",
       "  line-height: 1.3em;\n",
       "  color: #5a75a7;\n",
       "  font-weight: 600;\n",
       "  border-left: 5px solid rgba(90, 117, 167, .1);\n",
       "  padding-left: 6px;\n",
       "}\n",
       ".notes {\n",
       "  font-style: italic;\n",
       "  display: block;\n",
       "  margin: 40px 10%;\n",
       "}\n",
       "</style>"
      ],
      "text/plain": [
       "<IPython.core.display.HTML object>"
      ]
     },
     "metadata": {},
     "output_type": "display_data"
    }
   ],
   "source": [
    "%%html\n",
    "<style>\n",
    ".pquote {\n",
    "  text-align: left;\n",
    "  margin: 40px 0 40px auto;\n",
    "  width: 70%;\n",
    "  font-size: 1.5em;\n",
    "  font-style: italic;\n",
    "  display: block;\n",
    "  line-height: 1.3em;\n",
    "  color: #5a75a7;\n",
    "  font-weight: 600;\n",
    "  border-left: 5px solid rgba(90, 117, 167, .1);\n",
    "  padding-left: 6px;\n",
    "}\n",
    ".notes {\n",
    "  font-style: italic;\n",
    "  display: block;\n",
    "  margin: 40px 10%;\n",
    "}\n",
    "</style>"
   ]
  },
  {
   "cell_type": "code",
   "execution_count": 25,
   "metadata": {
    "collapsed": true
   },
   "outputs": [],
   "source": [
    "def plotVectors(vecs, cols, alpha=1):\n",
    "    \"\"\"\n",
    "    Plot set of vectors.\n",
    "\n",
    "    Parameters\n",
    "    ----------\n",
    "    vecs : array-like\n",
    "        Coordinates of the vectors to plot. Each vectors is in an array. For\n",
    "        instance: [[1, 3], [2, 2]] can be used to plot 2 vectors.\n",
    "    cols : array-like\n",
    "        Colors of the vectors. For instance: ['red', 'blue'] will display the\n",
    "        first vector in red and the second in blue.\n",
    "    alpha : float\n",
    "        Opacity of vectors\n",
    "\n",
    "    Returns:\n",
    "\n",
    "    fig : instance of matplotlib.figure.Figure\n",
    "        The figure of the vectors\n",
    "    \"\"\"\n",
    "    plt.figure()\n",
    "    plt.axvline(x=0, color='#A9A9A9', zorder=0)\n",
    "    plt.axhline(y=0, color='#A9A9A9', zorder=0)\n",
    "\n",
    "    for i in range(len(vecs)):\n",
    "        if (isinstance(alpha, list)):\n",
    "            alpha_i = alpha[i]\n",
    "        else:\n",
    "            alpha_i = alpha\n",
    "        x = np.concatenate([[0,0],vecs[i]])\n",
    "        plt.quiver([x[0]],\n",
    "                   [x[1]],\n",
    "                   [x[2]],\n",
    "                   [x[3]],\n",
    "                   angles='xy', scale_units='xy', scale=1, color=cols[i],\n",
    "                  alpha=alpha_i)"
   ]
  },
  {
   "cell_type": "markdown",
   "metadata": {},
   "source": [
    "$$\n",
    "\\newcommand\\bs[1]{\\boldsymbol{#1}}\n",
    "$$"
   ]
  },
  {
   "cell_type": "markdown",
   "metadata": {},
   "source": [
    "# Introduction\n",
    "\n",
    "We will see some major concepts of linear algebra in this chapter. It is also quite heavy so hang on! We will start with getting some ideas on eigenvectors and eigenvalues. We will see that a matrix can be seen as a linear transformation and that applying a matrix on its eigenvectors gives new vectors with same direction. Then we will see how to express quadratic equations into a matrix form. We will see that the eigendecomposition of the matrix corresponding to the quadratic equation can be used to find its minimum and maximum. As a bonus, we will also see how to visualize linear transformation in Python!\n",
    "\n",
    "<span class='notes'>\n",
    "    This content is part of a series following the chapter 2 on linear algebra from the [Deep Learning Book](http://www.deeplearningbook.org/) by Goodfellow, I., Bengio, Y., and Courville, A. (2016). It aims to provide intuitions/drawings/python code on mathematical theories and is constructed as my understanding of these concepts.\n",
    "</span>"
   ]
  },
  {
   "cell_type": "markdown",
   "metadata": {},
   "source": [
    "# 2.7 Eigendecomposition"
   ]
  },
  {
   "cell_type": "markdown",
   "metadata": {},
   "source": [
    "The eigendecomposition is one form of matrix decomposition. Decomposing a matrix means that we find a product of matrices that is equal to the initial matrix. In the case of the eigendecomposition, we decompose the initial matrix into the product of its eigenvectors and eigenvalues. Before all, let's see what are eigenvectors and eigenvalues.\n",
    "\n",
    "# Matrices as linear transformations\n",
    "\n",
    "As we have seen in [2.3]() with the example of the identity matrix, you can think of matrices as linear transformations. Some matrices will rotate your space, others will rescale it etc. So when we apply a matrix to a vector, we end up with a transformed version of the vector. When we say that we 'apply' the matrix to the vector it means that we calculate the dot product of the matrix with the vector. We will start with a basic example of this kind of transformation.\n",
    "\n",
    "### Example 1."
   ]
  },
  {
   "cell_type": "code",
   "execution_count": 171,
   "metadata": {},
   "outputs": [
    {
     "data": {
      "text/plain": [
       "array([[-1,  3],\n",
       "       [ 2, -2]])"
      ]
     },
     "execution_count": 171,
     "metadata": {},
     "output_type": "execute_result"
    }
   ],
   "source": [
    "A = np.array([[-1, 3], [2, -2]])\n",
    "A"
   ]
  },
  {
   "cell_type": "code",
   "execution_count": 172,
   "metadata": {},
   "outputs": [
    {
     "data": {
      "text/plain": [
       "array([[2],\n",
       "       [1]])"
      ]
     },
     "execution_count": 172,
     "metadata": {},
     "output_type": "execute_result"
    }
   ],
   "source": [
    "v = np.array([[2], [1]])\n",
    "v"
   ]
  },
  {
   "cell_type": "markdown",
   "metadata": {},
   "source": [
    "Let's plot this vector:"
   ]
  },
  {
   "cell_type": "code",
   "execution_count": 173,
   "metadata": {},
   "outputs": [
    {
     "data": {
      "text/plain": [
       "(-1, 4)"
      ]
     },
     "execution_count": 173,
     "metadata": {},
     "output_type": "execute_result"
    },
    {
     "data": {
      "image/png": "[encoded data removed]",
      "text/plain": [
       "<matplotlib.figure.Figure at 0x10aa50f50>"
      ]
     },
     "metadata": {},
     "output_type": "display_data"
    }
   ],
   "source": [
    "plotVectors([v.flatten()], cols=['#1190FF'])\n",
    "plt.ylim(-1, 4)\n",
    "plt.xlim(-1, 4)"
   ]
  },
  {
   "cell_type": "markdown",
   "metadata": {},
   "source": [
    "Now, we will apply the matrix $\\bs{A}$ to this vector and plot the old vector (light blue) and the new one (orange):"
   ]
  },
  {
   "cell_type": "code",
   "execution_count": 174,
   "metadata": {},
   "outputs": [
    {
     "name": "stdout",
     "output_type": "stream",
     "text": [
      "[[1]\n",
      " [2]]\n"
     ]
    },
    {
     "data": {
      "text/plain": [
       "(-1, 4)"
      ]
     },
     "execution_count": 174,
     "metadata": {},
     "output_type": "execute_result"
    },
    {
     "data": {
      "image/png": "[encoded data removed]",
      "text/plain": [
       "<matplotlib.figure.Figure at 0x109638990>"
      ]
     },
     "metadata": {},
     "output_type": "display_data"
    }
   ],
   "source": [
    "Av = A.dot(v)\n",
    "print Av\n",
    "plotVectors([v.flatten(), Av.flatten()], cols=['#1190FF', '#FF9A13'])\n",
    "plt.ylim(-1, 4)\n",
    "plt.xlim(-1, 4)"
   ]
  },
  {
   "cell_type": "markdown",
   "metadata": {},
   "source": [
    "We can see that applying the matrix $\\bs{A}$ has the effect of modifying the vector.\n",
    "\n",
    "Now that you can think of matrices as linear transformation recipes, let's see the case of a very special type of vectors: the eigenvectors."
   ]
  },
  {
   "cell_type": "markdown",
   "metadata": {},
   "source": [
    "# Eigenvectors and eigenvalues\n",
    "\n",
    "We have seen an example of a vector transformed by a matrix. Now imagine that the transformation of the initial vector gives us a new vector that has the exact same direction. The scale can be different but the direction is the same. Applying the matrix didn't change the direction of the vector. This special vector is called one eigenvector of the matrix. We will see that finding the eigenvectors of a matrix can be very useful.\n",
    "\n",
    "<span class='pquote'>\n",
    "    Imagine that the transformation of the initial vector by the matrix gives a new vector with the exact same direction. This vector is called one eigenvector of $\\bs{A}$.\n",
    "</span>\n",
    "\n",
    "This means that $\\bs{v}$ is a eigenvector of $\\bs{A}$ if $\\bs{v}$ and $\\bs{Av}$ are in the same direction or to rephrase it if the vectors $\\bs{Av}$ and $\\bs{v}$ are parallel. The output vector is just a scaled version of the input vector. This scalling factor is $\\lambda$ and is called the **eigenvalue** of $\\bs{A}$.\n",
    "\n",
    "$$\n",
    "\\bs{Av} = \\lambda\\bs{v}\n",
    "$$"
   ]
  },
  {
   "cell_type": "markdown",
   "metadata": {},
   "source": [
    "### Example 2 (from [1])\n",
    "\n",
    "Let's $\\bs{A}$ be the following matrix:\n",
    "\n",
    "$$\n",
    "\\bs{A}=\n",
    "\\begin{bmatrix}\n",
    "    5 & 1\\\\\\\\\n",
    "    3 & 3\n",
    "\\end{bmatrix}\n",
    "$$\n",
    "\n",
    "We know that one eigenvector of A is:\n",
    "\n",
    "$$\n",
    "\\bs{v}=\n",
    "\\begin{bmatrix}\n",
    "    1\\\\\\\\\n",
    "    1\n",
    "\\end{bmatrix}\n",
    "$$\n",
    "\n",
    "We can check that $\\bs{Av} = \\lambda\\bs{v}$:\n",
    "\n",
    "$$\n",
    "\\begin{bmatrix}\n",
    "    5 & 1\\\\\\\\\n",
    "    3 & 3\n",
    "\\end{bmatrix}\n",
    "\\begin{bmatrix}\n",
    "    1\\\\\\\\\n",
    "    1\n",
    "\\end{bmatrix}=\\begin{bmatrix}\n",
    "    6\\\\\\\\\n",
    "    6\n",
    "\\end{bmatrix}\n",
    "$$\n",
    "\n",
    "We can see that:\n",
    "\n",
    "$$\n",
    "6\\times \\begin{bmatrix}\n",
    "    1\\\\\\\\\n",
    "    1\n",
    "\\end{bmatrix} = \\begin{bmatrix}\n",
    "    6\\\\\\\\\n",
    "    6\n",
    "\\end{bmatrix}\n",
    "$$\n",
    "\n",
    "which means that $\\bs{v}$ is well an eigenvector of $\\bs{A}$. Also, the corresponding eigenvalue is $\\lambda=6$."
   ]
  },
  {
   "cell_type": "markdown",
   "metadata": {},
   "source": [
    "We can represent $\\bs{v}$ and $\\bs{Av}$ to check if their directions are the same:"
   ]
  },
  {
   "cell_type": "code",
   "execution_count": 175,
   "metadata": {},
   "outputs": [
    {
     "data": {
      "text/plain": [
       "array([[5, 1],\n",
       "       [3, 3]])"
      ]
     },
     "execution_count": 175,
     "metadata": {},
     "output_type": "execute_result"
    }
   ],
   "source": [
    "A = np.array([[5, 1], [3, 3]])\n",
    "A"
   ]
  },
  {
   "cell_type": "code",
   "execution_count": 176,
   "metadata": {},
   "outputs": [
    {
     "data": {
      "text/plain": [
       "array([[1],\n",
       "       [1]])"
      ]
     },
     "execution_count": 176,
     "metadata": {},
     "output_type": "execute_result"
    }
   ],
   "source": [
    "v = np.array([[1], [1]])\n",
    "v"
   ]
  },
  {
   "cell_type": "code",
   "execution_count": 177,
   "metadata": {},
   "outputs": [
    {
     "data": {
      "text/plain": [
       "(-1, 7)"
      ]
     },
     "execution_count": 177,
     "metadata": {},
     "output_type": "execute_result"
    },
    {
     "data": {
      "image/png": "[encoded data removed]",
      "text/plain": [
       "<matplotlib.figure.Figure at 0x109a4b250>"
      ]
     },
     "metadata": {},
     "output_type": "display_data"
    }
   ],
   "source": [
    "Av = A.dot(v)\n",
    "\n",
    "plotVectors([v.flatten(), Av.flatten()], cols=['red', 'blue'])\n",
    "plt.ylim(-1, 7)\n",
    "plt.xlim(-1, 7)"
   ]
  },
  {
   "cell_type": "markdown",
   "metadata": {},
   "source": [
    "We can see that their directions are the same!"
   ]
  },
  {
   "cell_type": "markdown",
   "metadata": {},
   "source": [
    "Another eigenvector of $\\bs{A}$ is\n",
    "\n",
    "$$\n",
    "\\bs{v}=\n",
    "\\begin{bmatrix}\n",
    "    1\\\\\\\\\n",
    "    -3\n",
    "\\end{bmatrix}\n",
    "$$\n",
    "\n",
    "because\n",
    "\n",
    "$$\n",
    "\\begin{bmatrix}\n",
    "    5 & 1\\\\\\\\\n",
    "    3 & 3\n",
    "\\end{bmatrix}\\begin{bmatrix}\n",
    "    1\\\\\\\\\n",
    "    -3\n",
    "\\end{bmatrix} = \\begin{bmatrix}\n",
    "    2\\\\\\\\\n",
    "    -6\n",
    "\\end{bmatrix}\n",
    "$$\n",
    "\n",
    "and\n",
    "\n",
    "$$\n",
    "2 \\times \\begin{bmatrix}\n",
    "    1\\\\\\\\\n",
    "    -3\n",
    "\\end{bmatrix} =\n",
    "\\begin{bmatrix}\n",
    "    2\\\\\\\\\n",
    "    -6\n",
    "\\end{bmatrix}\n",
    "$$\n",
    "\n",
    "So the corresponding eigenvalue is $\\lambda=2$."
   ]
  },
  {
   "cell_type": "code",
   "execution_count": 178,
   "metadata": {},
   "outputs": [
    {
     "data": {
      "text/plain": [
       "array([[ 1],\n",
       "       [-3]])"
      ]
     },
     "execution_count": 178,
     "metadata": {},
     "output_type": "execute_result"
    }
   ],
   "source": [
    "v = np.array([[1], [-3]])\n",
    "v"
   ]
  },
  {
   "cell_type": "code",
   "execution_count": 179,
   "metadata": {},
   "outputs": [
    {
     "data": {
      "text/plain": [
       "(-1, 3)"
      ]
     },
     "execution_count": 179,
     "metadata": {},
     "output_type": "execute_result"
    },
    {
     "data": {
      "image/png": "[encoded data removed]",
      "text/plain": [
       "<matplotlib.figure.Figure at 0x10a2f68d0>"
      ]
     },
     "metadata": {},
     "output_type": "display_data"
    }
   ],
   "source": [
    "Av = A.dot(v)\n",
    "\n",
    "plotVectors([v.flatten(), Av.flatten()], cols=['red', 'blue'])\n",
    "plt.ylim(-7, 1)\n",
    "plt.xlim(-1, 3)"
   ]
  },
  {
   "cell_type": "markdown",
   "metadata": {},
   "source": [
    "This example shows that the eigenvectors $\\bs{v}$ are vectors that change only in scale when we apply the matrix $\\bs{A}$ to them. Here the scales were 6 for the first eigenvector and 2 to the second but $\\lambda$ can take any real or even complex value."
   ]
  },
  {
   "cell_type": "markdown",
   "metadata": {},
   "source": [
    "## Find eigenvalues and eigenvectors in Python\n",
    "\n",
    "Numpy provides a function returning eigenvectors and eigenvalues (the first array corresponds to the eigenvalues and the second to the eigenvectors concatenated in columns):\n",
    "\n",
    "```python\n",
    "(array([ 6.,  2.]), array([[ 0.70710678, -0.31622777],\n",
    "       [ 0.70710678,  0.9486833 ]]))\n",
    "```\n",
    "\n",
    "Here a demonstration with the preceding example."
   ]
  },
  {
   "cell_type": "code",
   "execution_count": 180,
   "metadata": {},
   "outputs": [
    {
     "data": {
      "text/plain": [
       "array([[5, 1],\n",
       "       [3, 3]])"
      ]
     },
     "execution_count": 180,
     "metadata": {},
     "output_type": "execute_result"
    }
   ],
   "source": [
    "A = np.array([[5, 1], [3, 3]])\n",
    "A"
   ]
  },
  {
   "cell_type": "code",
   "execution_count": 181,
   "metadata": {},
   "outputs": [
    {
     "data": {
      "text/plain": [
       "(array([ 6.,  2.]), array([[ 0.70710678, -0.31622777],\n",
       "        [ 0.70710678,  0.9486833 ]]))"
      ]
     },
     "execution_count": 181,
     "metadata": {},
     "output_type": "execute_result"
    }
   ],
   "source": [
    "np.linalg.eig(A)"
   ]
  },
  {
   "cell_type": "markdown",
   "metadata": {},
   "source": [
    "We can see that the eigenvalues are the same than the ones we used before: 6 and 2 (first array).\n",
    "\n",
    "The eigenvectors correspond to the columns of the second array. This means that the eigenvector corresponding to $\\lambda=6$ is:\n",
    "\n",
    "$$\n",
    "\\begin{bmatrix}\n",
    "    0.70710678\\\\\\\\\n",
    "    0.70710678\n",
    "\\end{bmatrix}\n",
    "$$\n",
    "\n",
    "The eigenvector corresponding to $\\lambda=2$ is:\n",
    "\n",
    "$$\n",
    "\\begin{bmatrix}\n",
    "    -0.31622777\\\\\\\\\n",
    "    0.9486833\n",
    "\\end{bmatrix}\n",
    "$$\n",
    "\n",
    "The eigenvectors look different because they have not necessarly the same scaling than the ones we gave in the example. We can easily see that the first corresponds to a scaled version of our $\\begin{bmatrix}\n",
    "    1\\\\\\\\\n",
    "    1\n",
    "\\end{bmatrix}$. But the same property stands. We have still $\\bs{Av} = \\lambda\\bs{v}$:\n",
    "\n",
    "$$\n",
    "\\begin{bmatrix}\n",
    "    5 & 1\\\\\\\\\n",
    "    3 & 3\n",
    "\\end{bmatrix}\n",
    "\\begin{bmatrix}\n",
    "    0.70710678\\\\\\\\\n",
    "    0.70710678\n",
    "\\end{bmatrix}=\n",
    "\\begin{bmatrix}\n",
    "    4.24264069\\\\\\\\\n",
    "    4.24264069\n",
    "\\end{bmatrix}\n",
    "$$\n",
    "\n",
    "With $0.70710678 \\times 6 = 4.24264069$. So there are an infinite number of eigenvectors corresponding to the eigenvalue $6$. They are equivalent because we are interested by their directions.\n",
    "\n",
    "For the second eigenvector we can check that it corresponds to a scaled version of $\\begin{bmatrix}\n",
    "    1\\\\\\\\\n",
    "    -3\n",
    "\\end{bmatrix}$. We can draw these vectors and see if they are parallel."
   ]
  },
  {
   "cell_type": "code",
   "execution_count": 182,
   "metadata": {},
   "outputs": [
    {
     "data": {
      "text/plain": [
       "(-1, 3)"
      ]
     },
     "execution_count": 182,
     "metadata": {},
     "output_type": "execute_result"
    },
    {
     "data": {
      "image/png": "[encoded data removed]",
      "text/plain": [
       "<matplotlib.figure.Figure at 0x109dbef50>"
      ]
     },
     "metadata": {},
     "output_type": "display_data"
    }
   ],
   "source": [
    "v = np.array([[1], [-3]])\n",
    "Av = A.dot(v)\n",
    "v_np = [-0.31622777, 0.9486833]\n",
    "\n",
    "plotVectors([v.flatten(), Av.flatten(), v_np], cols=['red', 'blue', 'green'])\n",
    "plt.ylim(-7, 1)\n",
    "plt.xlim(-1, 3)"
   ]
  },
  {
   "cell_type": "markdown",
   "metadata": {},
   "source": [
    "We can see that the vector found with numpy (in green) is a scaled version of our preceding $\\begin{bmatrix}\n",
    "    1\\\\\\\\\n",
    "    -3\n",
    "\\end{bmatrix}$."
   ]
  },
  {
   "cell_type": "markdown",
   "metadata": {},
   "source": [
    "## Rescaled vectors\n",
    "\n",
    "As we saw it with numpy, if $\\bs{v}$ is an eigenvector of $\\bs{A}$, then any rescaled vector $s\\bs{v}$ is also an eigenvector of $\\bs{A}$. The eigenvalue of the rescaled vector is the same.\n",
    "\n",
    "Let's try to rescale $\n",
    "\\bs{v}=\n",
    "\\begin{bmatrix}\n",
    "    1\\\\\\\\\n",
    "    -3\n",
    "\\end{bmatrix}\n",
    "$ from our preceding example. \n",
    "\n",
    "For instance,\n",
    "\n",
    "$$\n",
    "\\bs{3v}=\n",
    "\\begin{bmatrix}\n",
    "    3\\\\\\\\\n",
    "    -9\n",
    "\\end{bmatrix}\n",
    "$$\n",
    "\n",
    "$$\n",
    "\\begin{bmatrix}\n",
    "    5 & 1\\\\\\\\\n",
    "    3 & 3\n",
    "\\end{bmatrix} \\times\n",
    "\\begin{bmatrix}\n",
    "    3\\\\\\\\\n",
    "    -9\n",
    "\\end{bmatrix} =\n",
    "\\begin{bmatrix}\n",
    "    6\\\\\\\\\n",
    "    18\n",
    "\\end{bmatrix} = 2 \\times\n",
    "\\begin{bmatrix}\n",
    "    3\\\\\\\\\n",
    "    -9\n",
    "\\end{bmatrix}\n",
    "$$\n",
    "\n",
    "We have well $\\bs{A}\\times 3\\bs{v} = \\lambda\\bs{v}$ and the eigenvalue is still $\\lambda=2$."
   ]
  },
  {
   "cell_type": "markdown",
   "metadata": {},
   "source": [
    "## Concatenating eigenvalues and eigenvectors\n",
    "\n",
    "Now that we have an idea of what eigenvectors and eigenvalues are we can see how it can be used to decompose a matrix. All eigenvectors of a matrix $\\bs{A}$ can be concatenated in a matrix with each column corresponding to each eigenvector (like in the second array return by `np.linalg.eig(A)`):\n",
    "\n",
    "$$\n",
    "\\bs{V}=\n",
    "\\begin{bmatrix}\n",
    "    1 & 1\\\\\\\\\n",
    "    1 & -3\n",
    "\\end{bmatrix}\n",
    "$$\n",
    "\n",
    "The first column $\n",
    "\\begin{bmatrix}\n",
    "    1\\\\\\\\\n",
    "    1\n",
    "\\end{bmatrix}\n",
    "$ corresponds to $\\lambda=6$ and the second $\n",
    "\\begin{bmatrix}\n",
    "    1\\\\\\\\\n",
    "    -3\n",
    "\\end{bmatrix}\n",
    "$ to $\\lambda=2$.\n",
    "\n",
    "The vector $\\bs{\\lambda}$ can be created from all eigenvalues:\n",
    "\n",
    "$$\n",
    "\\bs{\\lambda}=\n",
    "\\begin{bmatrix}\n",
    "    6\\\\\\\\\n",
    "    2\n",
    "\\end{bmatrix}\n",
    "$$\n",
    "\n",
    "Then the eigendecomposition is given by\n",
    "\n",
    "$$\n",
    "\\bs{A}=\\bs{V}\\cdot diag(\\bs{\\lambda}) \\cdot \\bs{V}^{-1}\n",
    "$$\n",
    "\n",
    "<span class='pquote'>\n",
    "    We can decompose the matrix $\\bs{A}$ with eigenvectors and eigenvalues. It is done with: $\\bs{A}=\\bs{V}\\cdot diag(\\bs{\\lambda}) \\cdot \\bs{V}^{-1}$\n",
    "</span>\n",
    "\n",
    "$diag(\\bs{v})$ is a diagonal matrix (see [2.6]()) containing all the eigenvalues. Continuing with our example we have\n",
    "\n",
    "$$\n",
    "\\bs{V}=\\begin{bmatrix}\n",
    "    1 & 1\\\\\\\\\n",
    "    1 & -3\n",
    "\\end{bmatrix}\n",
    "$$\n",
    "\n",
    "The diagonal matrix is all zeros except the diagonal that is our vector $\\bs{\\lambda}$.\n",
    "\n",
    "$$\n",
    "diag(\\bs{v})=\n",
    "\\begin{bmatrix}\n",
    "    6 & 0\\\\\\\\\n",
    "    0 & 2\n",
    "\\end{bmatrix}\n",
    "$$\n",
    "\n",
    "The inverse matrix of $\\bs{V}$ can be calculated with numpy:"
   ]
  },
  {
   "cell_type": "code",
   "execution_count": 183,
   "metadata": {},
   "outputs": [
    {
     "data": {
      "text/plain": [
       "array([[ 1,  1],\n",
       "       [ 1, -3]])"
      ]
     },
     "execution_count": 183,
     "metadata": {},
     "output_type": "execute_result"
    }
   ],
   "source": [
    "V = np.array([[1, 1], [1, -3]])\n",
    "V"
   ]
  },
  {
   "cell_type": "code",
   "execution_count": 184,
   "metadata": {},
   "outputs": [
    {
     "data": {
      "text/plain": [
       "array([[ 0.75,  0.25],\n",
       "       [ 0.25, -0.25]])"
      ]
     },
     "execution_count": 184,
     "metadata": {},
     "output_type": "execute_result"
    }
   ],
   "source": [
    "V_inv = np.linalg.inv(V)\n",
    "V_inv"
   ]
  },
  {
   "cell_type": "markdown",
   "metadata": {},
   "source": [
    "So let's plug\n",
    "\n",
    "$$\n",
    "\\bs{V}^{-1}=\\begin{bmatrix}\n",
    "    0.75 & 0.25\\\\\\\\\n",
    "    0.25 & -0.25\n",
    "\\end{bmatrix}\n",
    "$$\n",
    "\n",
    "into our equation:\n",
    "\n",
    "$$\n",
    "\\begin{align*}\n",
    "&\\bs{V}\\cdot diag(\\bs{\\lambda}) \\cdot \\bs{V}^{-1}\\\\\\\\\n",
    "&=\n",
    "\\begin{bmatrix}\n",
    "    1 & 1\\\\\\\\\n",
    "    1 & -3\n",
    "\\end{bmatrix} \\cdot\n",
    "\\begin{bmatrix}\n",
    "    6 & 0\\\\\\\\\n",
    "    0 & 2\n",
    "\\end{bmatrix} \\cdot\n",
    "\\begin{bmatrix}\n",
    "    0.75 & 0.25\\\\\\\\\n",
    "    0.25 & -0.25\n",
    "\\end{bmatrix}\n",
    "\\end{align*}\n",
    "$$\n",
    "\n",
    "If we do the dot product of the first two matrices we have:\n",
    "\n",
    "$$\n",
    "\\begin{bmatrix}\n",
    "    1 & 1\\\\\\\\\n",
    "    1 & -3\n",
    "\\end{bmatrix} \\cdot\n",
    "\\begin{bmatrix}\n",
    "    6 & 0\\\\\\\\\n",
    "    0 & 2\n",
    "\\end{bmatrix} =\n",
    "\\begin{bmatrix}\n",
    "    6 & 2\\\\\\\\\n",
    "    6 & -6\n",
    "\\end{bmatrix}\n",
    "$$\n",
    "\n",
    "So with replacing into the equation:\n",
    "\n",
    "$$\n",
    "\\begin{bmatrix}\n",
    "    6 & 2\\\\\\\\\n",
    "    6 & -6\n",
    "\\end{bmatrix} \\cdot\n",
    "\\begin{bmatrix}\n",
    "    0.75 & 0.25\\\\\\\\\n",
    "    0.25 & -0.25\n",
    "\\end{bmatrix} =\n",
    "\\begin{bmatrix}\n",
    "    6\\times0.75 + (2\\times0.25) & 6\\times0.25 + (2\\times-0.25)\\\\\\\\\n",
    "    6\\times0.75 + (-6\\times0.25) & 6\\times0.25 + (-6\\times-0.25)\n",
    "\\end{bmatrix} =\n",
    "\\begin{bmatrix}\n",
    "    5 & 1\\\\\\\\\n",
    "    3 & 3\n",
    "\\end{bmatrix} =\n",
    "\\bs{A}\n",
    "$$\n",
    "\n",
    "Let's check our result with Python:"
   ]
  },
  {
   "cell_type": "code",
   "execution_count": 185,
   "metadata": {},
   "outputs": [
    {
     "data": {
      "text/plain": [
       "array([[6, 0],\n",
       "       [0, 2]])"
      ]
     },
     "execution_count": 185,
     "metadata": {},
     "output_type": "execute_result"
    }
   ],
   "source": [
    "lambdas = np.diag([6,2])\n",
    "lambdas"
   ]
  },
  {
   "cell_type": "code",
   "execution_count": 186,
   "metadata": {},
   "outputs": [
    {
     "data": {
      "text/plain": [
       "array([[ 5.,  1.],\n",
       "       [ 3.,  3.]])"
      ]
     },
     "execution_count": 186,
     "metadata": {},
     "output_type": "execute_result"
    }
   ],
   "source": [
    "V.dot(lambdas).dot(V_inv)"
   ]
  },
  {
   "cell_type": "markdown",
   "metadata": {},
   "source": [
    "That confirms our previous calculation. "
   ]
  },
  {
   "cell_type": "markdown",
   "metadata": {},
   "source": [
    "## Real symmetric matrix\n",
    "\n",
    "In the case of real symmetric matrices (more details about symmetric matrices in [2.6]()), the eigendecomposition can be expressed as\n",
    "\n",
    "$$\n",
    "\\bs{A} = \\bs{Q}\\Lambda \\bs{Q}^\\text{T}\n",
    "$$\n",
    "\n",
    "where $\\bs{Q}$ is the matrix with eigenvectors as columns and $\\Lambda$ is $diag(\\lambda)$.\n",
    "\n",
    "### Example 3.\n",
    "\n",
    "$$\n",
    "\\bs{A}=\\begin{bmatrix}\n",
    "    6 & 2\\\\\\\\\n",
    "    2 & 3\n",
    "\\end{bmatrix}\n",
    "$$\n",
    "\n",
    "This matrix is symmetric because $\\bs{A}=\\bs{A}^\\text{T}$. Its eigenvectors are:\n",
    "\n",
    "$$\n",
    "\\bs{Q}=\n",
    "\\begin{bmatrix}\n",
    "    0.89442719 & -0.4472136\\\\\\\\\n",
    "    0.4472136 & 0.89442719\n",
    "\\end{bmatrix}\n",
    "$$\n",
    "\n",
    "and its eigenvalues put in a diagonal matrix gives:\n",
    "\n",
    "$$\n",
    "\\bs{\\Lambda}=\n",
    "\\begin{bmatrix}\n",
    "    7 & 0\\\\\\\\\n",
    "    0 & 2\n",
    "\\end{bmatrix}\n",
    "$$\n",
    "\n",
    "So let's begin to calculate $\\bs{Q\\Lambda}$:\n",
    "\n",
    "$$\n",
    "\\begin{align*}\n",
    "\\bs{Q\\Lambda}&=\n",
    "\\begin{bmatrix}\n",
    "    0.89442719 & -0.4472136\\\\\\\\\n",
    "    0.4472136 & 0.89442719\n",
    "\\end{bmatrix} \\cdot\n",
    "\\begin{bmatrix}\n",
    "    7 & 0\\\\\\\\\n",
    "    0 & 2\n",
    "\\end{bmatrix}\\\\\\\\\n",
    "&=\n",
    "\\begin{bmatrix}\n",
    "    0.89442719 \\times 7 & -0.4472136\\times 2\\\\\\\\\n",
    "    0.4472136 \\times 7 & 0.89442719\\times 2\n",
    "\\end{bmatrix}\\\\\\\\\n",
    "&=\n",
    "\\begin{bmatrix}\n",
    "    6.26099033 & -0.8944272\\\\\\\\\n",
    "    3.1304952 & 1.78885438\n",
    "\\end{bmatrix}\n",
    "\\end{align*}\n",
    "$$\n",
    "\n",
    "with:\n",
    "\n",
    "$$\n",
    "\\bs{Q}^\\text{T}=\n",
    "\\begin{bmatrix}\n",
    "    0.89442719 & 0.4472136\\\\\\\\\n",
    "    -0.4472136 & 0.89442719\n",
    "\\end{bmatrix}\n",
    "$$\n",
    "\n",
    "So we have:\n",
    "\n",
    "$$\n",
    "\\begin{align*}\n",
    "\\bs{Q\\Lambda} \\bs{Q}^\\text{T}&=\n",
    "\\begin{bmatrix}\n",
    "    6.26099033 & -0.8944272\\\\\\\\\n",
    "    3.1304952 & 1.78885438\n",
    "\\end{bmatrix} \\cdot\n",
    "\\begin{bmatrix}\n",
    "    0.89442719 & 0.4472136\\\\\\\\\n",
    "    -0.4472136 & 0.89442719\n",
    "\\end{bmatrix}\\\\\\\\\n",
    "&=\n",
    "\\begin{bmatrix}\n",
    "    6 & 2\\\\\\\\\n",
    "    2 & 3\n",
    "\\end{bmatrix}\n",
    "\\end{align*}\n",
    "$$\n",
    "\n",
    "It works! For that reason, it can useful to use symmetric matrices! Let's do the same things easily with `linalg` from numpy:"
   ]
  },
  {
   "cell_type": "code",
   "execution_count": 187,
   "metadata": {},
   "outputs": [
    {
     "data": {
      "text/plain": [
       "array([[6, 2],\n",
       "       [2, 3]])"
      ]
     },
     "execution_count": 187,
     "metadata": {},
     "output_type": "execute_result"
    }
   ],
   "source": [
    "A = np.array([[6, 2], [2, 3]])\n",
    "A"
   ]
  },
  {
   "cell_type": "code",
   "execution_count": 188,
   "metadata": {},
   "outputs": [
    {
     "data": {
      "text/plain": [
       "array([[ 0.89442719, -0.4472136 ],\n",
       "       [ 0.4472136 ,  0.89442719]])"
      ]
     },
     "execution_count": 188,
     "metadata": {},
     "output_type": "execute_result"
    }
   ],
   "source": [
    "eigVals, eigVecs = np.linalg.eig(A)\n",
    "eigVecs"
   ]
  },
  {
   "cell_type": "code",
   "execution_count": 189,
   "metadata": {},
   "outputs": [
    {
     "data": {
      "text/plain": [
       "array([[ 7.,  0.],\n",
       "       [ 0.,  2.]])"
      ]
     },
     "execution_count": 189,
     "metadata": {},
     "output_type": "execute_result"
    }
   ],
   "source": [
    "eigVals = np.diag(eigVals)\n",
    "eigVals"
   ]
  },
  {
   "cell_type": "code",
   "execution_count": 190,
   "metadata": {},
   "outputs": [
    {
     "data": {
      "text/plain": [
       "array([[ 6.,  2.],\n",
       "       [ 2.,  3.]])"
      ]
     },
     "execution_count": 190,
     "metadata": {},
     "output_type": "execute_result"
    }
   ],
   "source": [
    "eigVecs.dot(eigVals).dot(eigVecs.T)"
   ]
  },
  {
   "cell_type": "markdown",
   "metadata": {},
   "source": [
    "We can see that the result corresponds to our initial matrix."
   ]
  },
  {
   "cell_type": "markdown",
   "metadata": {},
   "source": [
    "# Quadratic form to matrix form\n",
    "\n",
    "Eigendecomposition can be used to optimize quadratic functions. We will see that when $\\bs{x}$ takes the values of an eigenvector, $f(\\bs{x})$ takes the value of its corresponding eigenvalue.\n",
    "\n",
    "<span class='pquote'>\n",
    "    When $\\bs{x}$ takes the values of an eigenvector, $f(\\bs{x})$ takes the value of its corresponding eigenvalue.\n",
    "</span>\n",
    "\n",
    "We will see in the following points how we can show that with different methods.\n",
    "\n",
    "Let's have the following quadratic equation:\n",
    "\n",
    "$$\n",
    "f(\\bs{x}) = ax_1^2 +(b+c)x_1x_2 + dx_2^2\n",
    "$$\n",
    "\n",
    "These quadratic forms can be generated by matrices:\n",
    "\n",
    "$$\n",
    "f(\\bs{x})= \\begin{bmatrix}\n",
    "    x_1 & x_2\n",
    "\\end{bmatrix}\\begin{bmatrix}\n",
    "    a & b\\\\\\\\\n",
    "    c & d\n",
    "\\end{bmatrix}\\begin{bmatrix}\n",
    "    x_1\\\\\\\\\n",
    "    x_2\n",
    "\\end{bmatrix} = \\bs{x^\\text{T}Ax}\n",
    "$$\n",
    "\n",
    "with $\\bs{x} = \\begin{bmatrix}\n",
    "    x_1\\\\\\\\\n",
    "    x_2\n",
    "\\end{bmatrix}$ and $\\bs{A}=\\begin{bmatrix}\n",
    "    a & b\\\\\\\\\n",
    "    c & d\n",
    "\\end{bmatrix}$.\n",
    "\n",
    "We call them matrix forms. This form is useful to do various things on the quadratic equation like constrained optimization (see bellow).\n",
    "\n",
    "<span class='pquote'>\n",
    "    Quadratic equations can be expressed under matrix form\n",
    "</span>\n",
    "\n",
    "If you look at the relation between these forms you can see that $a$ gives you the number of $x_1^2$, $(b + c)$ the number of $x_1x_2$ and $d$ the number of $x_2^2$. This means that the same quadratic form can be obtained from infinite number of matrices $\\bs{A}$ by changing $b$ and $c$ while preserving their sum.\n",
    "\n",
    "### Example 4.\n",
    "\n",
    "$\\bs{x} = \\begin{bmatrix}\n",
    "    x_1\\\\\\\\\n",
    "    x_2\n",
    "\\end{bmatrix}$ and $\\bs{A}=\\begin{bmatrix}\n",
    "    2 & 4\\\\\\\\\n",
    "    2 & 5\n",
    "\\end{bmatrix}$\n",
    "\n",
    "gives the following quadratic form:\n",
    "\n",
    "$$\n",
    "2x_1^2 + (4+2)x_1x_2 + 5x_2^2\\\\\\\\=2x_1^2 + 6x_1x_2 + 5x_2^2\n",
    "$$\n",
    "\n",
    "but if $\\bs{A}=\\begin{bmatrix}\n",
    "    2 & -3\\\\\\\\\n",
    "    9 & 5\n",
    "\\end{bmatrix}$ we still have the quadratic same form:\n",
    "\n",
    "$$\n",
    "2x_1^2 + (-3+9)x_1x_2 + 5x_2^2\\\\\\\\=2x_1^2 + 6x_1x_2 + 5x_2^2\n",
    "$$"
   ]
  },
  {
   "cell_type": "markdown",
   "metadata": {},
   "source": [
    "### Example 5\n",
    "\n",
    "For this example, we will go from the matrix form to the quadratic form using a symmetric matrix $\\bs{A}$. Let's use the matrix of the example 3.\n",
    "\n",
    "$\\bs{x} = \\begin{bmatrix}\n",
    "    x_1\\\\\\\\\n",
    "    x_2\n",
    "\\end{bmatrix}$ and $\\bs{A}=\\begin{bmatrix}\n",
    "    6 & 2\\\\\\\\\n",
    "    2 & 3\n",
    "\\end{bmatrix}$\n",
    "\n",
    "$\n",
    "\\begin{align*}\n",
    "\\bs{x^\\text{T}Ax}&=\n",
    "\\begin{bmatrix}\n",
    "    x_1 & x_2\n",
    "\\end{bmatrix}\n",
    "\\cdot\n",
    "\\begin{bmatrix}\n",
    "    6 & 2\\\\\\\\\n",
    "    2 & 3\n",
    "\\end{bmatrix}\n",
    "\\cdot\n",
    "\\begin{bmatrix}\n",
    "    x_1\\\\\\\\\n",
    "    x_2\n",
    "\\end{bmatrix}\\\\\\\\\n",
    "&=\n",
    "\\begin{bmatrix}\n",
    "    x_1 & x_2\n",
    "\\end{bmatrix}\n",
    "\\cdot\n",
    "\\begin{bmatrix}\n",
    "    6 x_1 + 2 x_2\\\\\\\\\n",
    "    2 x_1 + 3 x_2\n",
    "\\end{bmatrix}\\\\\\\\\n",
    "&=\n",
    "x_1(6 x_1 + 2 x_2) + x_2(2 x_1 + 3 x_2)\\\\\\\\\n",
    "&=\n",
    "6 x_1^2 + 4 x_1x_2 + 3 x_2^2\n",
    "\\end{align*}\n",
    "$\n",
    "\n",
    "Our quadratic equation is thus $6 x_1^2 + 4 x_1x_2 + 3 x_2^2$.\n",
    "\n",
    "### Note\n",
    "\n",
    "If $\\bs{A}$ is a diagonal matrix (all 0 except the diagonal), the quadratic form of $\\bs{x^\\text{T}Ax}$ will have no cross term. Take the following matrix form:\n",
    "\n",
    "$$\n",
    "\\bs{A}=\\begin{bmatrix}\n",
    "    a & b\\\\\\\\\n",
    "    c & d\n",
    "\\end{bmatrix}\n",
    "$$\n",
    "\n",
    "If $\\bs{A}$ is diagonal, then $b$ and $c$ are 0 and since $f(\\bs{x}) = ax_1^2 +(b+c)x_1x_2 + dx_2^2$ there is no cross term. A quadratic form without cross term is called diagonal form since it comes from a diagonal matrix."
   ]
  },
  {
   "cell_type": "markdown",
   "metadata": {},
   "source": [
    "# Change of variable \n",
    "\n",
    "A change of variable (or linear substitution) simply means that we replace a variable by another one. We will see that it can be used to remove the cross terms in our quadratic equation. Without the cross term, it will then be easier to characterize the function and eventually optimize it (i.e finding its maximum or minimum).\n",
    "\n",
    "## With the quadratic form\n",
    "\n",
    "### Example 6.\n",
    "\n",
    "Let's take again our previous quadratic form:\n",
    "\n",
    "$\n",
    "\\bs{x^\\text{T}Ax} = 6 x_1^2 + 4 x_1x_2 + 3 x_2^2\n",
    "$\n",
    "\n",
    "The change of variable will concern $x_1$ and $x_2$. We can replace $x_1$ with any combination of $y_1$ and $y_2$ and $x_2$ with any combination $y_1$ and $y_2$. We will of course end up with a new equation. The nice thing is that we can find a specific substitution that will lead to a simplification of our statement. Specifically, it can be used to get rid of the cross term (in our example: $4 x_1x_2$). We will see later why it is interesting.\n",
    "\n",
    "Actually, the right substitution is given by the eigenvectors of the matrix used to generate the quadratic form. Let's recall that the matrix form of our equation is:\n",
    "\n",
    "$\n",
    "\\bs{x} = \\begin{bmatrix}\n",
    "    x_1\\\\\\\\\n",
    "    x_2\n",
    "\\end{bmatrix}$ and $\\bs{A}=\\begin{bmatrix}\n",
    "    6 & 2\\\\\\\\\n",
    "    2 & 3\n",
    "\\end{bmatrix}\n",
    "$\n",
    "\n",
    "and that the eigenvectors of $\\bs{A}$ are:\n",
    "\n",
    "$$\n",
    "\\begin{bmatrix}\n",
    "    0.89442719 & -0.4472136\\\\\\\\\n",
    "    0.4472136 & 0.89442719\n",
    "\\end{bmatrix}\n",
    "$$\n",
    "\n",
    "With the purpose of simplification, we can replace these values with:\n",
    "\n",
    "$$\n",
    "\\begin{bmatrix}\n",
    "    \\frac{2}{\\sqrt{5}} & -\\frac{1}{\\sqrt{5}}\\\\\\\\\n",
    "    \\frac{1}{\\sqrt{5}} & \\frac{2}{\\sqrt{5}}\n",
    "\\end{bmatrix} =\n",
    "\\frac{1}{\\sqrt{5}}\n",
    "\\begin{bmatrix}\n",
    "    2 & -1\\\\\\\\\n",
    "    1 & 2\n",
    "\\end{bmatrix}\n",
    "$$\n",
    "\n",
    "So our first eigenvector is $\n",
    "\\frac{1}{\\sqrt{5}}\n",
    "\\begin{bmatrix}\n",
    "    2\\\\\\\\\n",
    "    1\n",
    "\\end{bmatrix}\n",
    "$ and our second eigenvector is $\n",
    "\\frac{1}{\\sqrt{5}}\n",
    "\\begin{bmatrix}\n",
    "    -1\\\\\\\\\n",
    "    2\n",
    "\\end{bmatrix}\n",
    "$.\n",
    "\n",
    "The change of variable will lead to\n",
    "\n",
    "$$\n",
    "\\begin{bmatrix}\n",
    "    x_1\\\\\\\\\n",
    "    x_2\n",
    "\\end{bmatrix} =\n",
    "\\frac{1}{\\sqrt{5}}\n",
    "\\begin{bmatrix}\n",
    "    2 & -1\\\\\\\\\n",
    "    1 & 2\n",
    "\\end{bmatrix}\n",
    "\\begin{bmatrix}\n",
    "    y_1\\\\\\\\\n",
    "    y_2\n",
    "\\end{bmatrix} =\n",
    "\\frac{1}{\\sqrt{5}}\n",
    "\\begin{bmatrix}\n",
    "    2y_1 - y_2\\\\\\\\\n",
    "    y_1 + 2y_2\n",
    "\\end{bmatrix}\n",
    "$$\n",
    "\n",
    "so we have\n",
    "\n",
    "$$\n",
    "\\begin{cases}\n",
    "x_1 = \\frac{1}{\\sqrt{5}}(2y_1 - y_2)\\\\\\\\\n",
    "x_2 = \\frac{1}{\\sqrt{5}}(y_1 + 2y_2)\n",
    "\\end{cases}\n",
    "$$\n",
    "\n",
    "\n",
    "So far so good! Let's replace that in our example:\n",
    "\n",
    "$$\n",
    "\\begin{align*}\n",
    "\\bs{x^\\text{T}Ax}\n",
    "&=\n",
    "6 x_1^2 + 4 x_1x_2 + 3 x_2^2\\\\\\\\\n",
    "&=\n",
    "6 [\\frac{1}{\\sqrt{5}}(2y_1 - y_2)]^2 + 4 [\\frac{1}{\\sqrt{5}}(2y_1 - y_2)\\frac{1}{\\sqrt{5}}(y_1 + 2y_2)] + 3 [\\frac{1}{\\sqrt{5}}(y_1 + 2y_2)]^2\\\\\\\\\n",
    "&=\n",
    "\\frac{1}{5}[6 (2y_1 - y_2)^2 + 4 (2y_1 - y_2)(y_1 + 2y_2) + 3 (y_1 + 2y_2)^2]\\\\\\\\\n",
    "&=\n",
    "\\frac{1}{5}[6 (4y_1^2 - 4y_1y_2 + y_2^2) + 4 (2y_1^2 + 4y_1y_2 - y_1y_2 - 2y_2^2) + 3 (y_1^2 + 4y_1y_2 + 4y_2^2)]\\\\\\\\\n",
    "&=\n",
    "\\frac{1}{5}(24y_1^2 - 24y_1y_2 + 6y_2^2 + 8y_1^2 + 16y_1y_2 - 4y_1y_2 - 8y_2^2 + 3y_1^2 + 12y_1y_2 + 12y_2^2)\\\\\\\\\n",
    "&=\n",
    "\\frac{1}{5}(35y_1^2 + 10y_2^2)\\\\\\\\\n",
    "&=\n",
    "7y_1^2 + 2y_2^2\n",
    "\\end{align*}\n",
    "$$\n",
    "\n",
    "That's great! Our new equation doesn't have cross terms!"
   ]
  },
  {
   "cell_type": "markdown",
   "metadata": {},
   "source": [
    "## With the Principal Axes Theorem\n",
    "\n",
    "Actually there is a simpler way to do the change of variable. We can stay in the matrix form. Recall that we start with the form:\n",
    "\n",
    "$$\n",
    "f(\\bs{x})=\\bs{x^\\text{T}Ax}\n",
    "$$\n",
    "\n",
    "The linear substitution can be wrote in these terms. We want replace the variables $\\bs{x}$ by $\\bs{y}$ that relates by:\n",
    "\n",
    "$$\n",
    "\\bs{x}=P\\bs{y}\n",
    "$$\n",
    "\n",
    "We want to find $P$ such as our new equation (after the change of variable) doesn't contain the cross terms.\n",
    "\n",
    "The first step is to replace that in the first equation:\n",
    "\n",
    "$$\n",
    "\\begin{align*}\n",
    "\\bs{x^\\text{T}Ax}\n",
    "&=\n",
    "(\\bs{Py})^\\text{T}\\bs{A}(\\bs{Py})\\\\\\\\\n",
    "&=\n",
    "\\bs{y}^\\text{T}(\\bs{P}^\\text{T}\\bs{AP})\\bs{y}\n",
    "\\end{align*}\n",
    "$$\n",
    "\n",
    "We can see that the substitution is done by replacing $\\bs{A}$ with $\\bs{P^\\text{T}AP}$. Remember from example 2. that $\\bs{A} = \\bs{Q\\Lambda} \\bs{Q}^\\text{T}$ ($\\bs{\\Lambda}$ is the eigenvalues of $\\bs{A}$ put in a diagonal matrix):\n",
    "\n",
    "$$\n",
    "\\begin{align*}\n",
    "\\bs{P^\\text{T}AP}\n",
    "&=\n",
    "\\bs{P^\\text{T}Q\\Lambda Q^\\text{T}P}\\\\\\\\\n",
    "&=\n",
    "\\bs{P^\\text{T}PQQ^\\text{T}\\Lambda}\\\\\\\\\n",
    "&=\n",
    "\\bs{\\Lambda}\n",
    "\\end{align*}\n",
    "$$\n",
    "\n",
    "Since $\\bs{P}$ and $\\bs{Q}$ are orthogonal we can remove $\\bs{P^\\text{T}P}$ and $\\bs{QQ^\\text{T}}$. We finally have:\n",
    "\n",
    "$$\n",
    "\\bs{x^\\text{T}Ax}=\\bs{y^\\text{T}\\Lambda y}\n",
    "$$\n",
    "\n",
    "<span class='pquote'>\n",
    "    We can use $\\bs{\\Lambda}$ to simplify our quadratic equation and remove the cross terms\n",
    "</span>\n",
    "\n",
    "All of this implies that we can use $\\bs{\\Lambda}$ to simplify our quadratic equation and remove the cross terms. If you remember from example 2 we know that the eigenvalues of $\\bs{A}$ are:\n",
    "\n",
    "$$\n",
    "\\bs{\\Lambda}=\n",
    "\\begin{bmatrix}\n",
    "    7 & 0\\\\\\\\\n",
    "    0 & 2\n",
    "\\end{bmatrix}\n",
    "$$\n",
    "\n",
    "$$\n",
    "\\begin{align*}\n",
    "\\bs{x^\\text{T}Ax}\n",
    "&=\n",
    "\\bs{y^\\text{T}\\Lambda y}\\\\\\\\\n",
    "&=\n",
    "\\bs{y}^\\text{T}\\cdot\\begin{bmatrix}\n",
    "    7 & 0\\\\\\\\\n",
    "    0 & 2\n",
    "\\end{bmatrix}\\cdot\\bs{y}\\\\\\\\\n",
    "&=\n",
    "\\begin{bmatrix}\n",
    "    y_1 & y_2\n",
    "\\end{bmatrix}\\cdot\\begin{bmatrix}\n",
    "    7 & 0\\\\\\\\\n",
    "    0 & 2\n",
    "\\end{bmatrix}\\cdot\\begin{bmatrix}\n",
    "    y_1\\\\\\\\\n",
    "    y_2\n",
    "\\end{bmatrix}\\\\\\\\\n",
    "&=\n",
    "\\begin{bmatrix}\n",
    "    7y_1 +0y_2 & 0y_1 + 2y_2\n",
    "\\end{bmatrix}\n",
    "\\cdot\n",
    "\\begin{bmatrix}\n",
    "    y_1\\\\\\\\\n",
    "    y_2\n",
    "\\end{bmatrix}\\\\\\\\\n",
    "&=\n",
    "7y_1^2 + 2y_2^2\n",
    "\\end{align*}\n",
    "$$\n",
    "\n",
    "That's nice! If you look back to the change of variable that we have done in the quadratic form, you will see that we have found the same values!\n",
    "\n",
    "This form (without cross-term) is called the **principal axes form**.\n",
    "\n",
    "### Summary\n",
    "\n",
    "To summarise, the principal axes form can be found with\n",
    "\n",
    "$$\n",
    "\\bs{x^\\text{T}Ax} = \\lambda_1y_1^2 + \\lambda_2y_2^2\n",
    "$$\n",
    "\n",
    "where $\\lambda_1$ is the eigenvalue corresponding to the first eigenvector and $\\lambda_2$ the eigenvalue corresponding to the second eigenvector (second column of $\\bs{x}$)."
   ]
  },
  {
   "cell_type": "markdown",
   "metadata": {},
   "source": [
    "# Finding f(x) with eigendecomposition\n",
    "\n",
    "We will see that there is a way to find $f(\\bs{x})$ with eigenvectors and eigenvalues when $\\bs{x}$ is a unit vector. \n",
    "\n",
    "Let's start from\n",
    "\n",
    "$$\n",
    "f(\\bs{x}) =\\bs{x^\\text{T}Ax}\n",
    "$$\n",
    "\n",
    "We know that if $\\bs{x}$ is an eigenvector of $\\bs{A}$ and $\\lambda$ the corresponding eigenvalue, then $\n",
    "\\bs{Ax}=\\lambda \\bs{x}\n",
    "$. By replacing the term in the last equation we have\n",
    "\n",
    "$$\n",
    "f(\\bs{x}) =\\bs{x^\\text{T}\\lambda x} = \\bs{x^\\text{T}x}\\lambda\n",
    "$$\n",
    "\n",
    "Since $\\bs{x}$ is a unit vector, $\\norm{\\bs{x}}_2=1$ and $\\bs{x^\\text{T}x}=1$ (cf. [2.5]() Norms). We end up with\n",
    "\n",
    "$$\n",
    "f(\\bs{x}) = \\lambda\n",
    "$$\n",
    "\n",
    "This is a usefull property. If $\\bs{x}$ is an eigenvector of $\\bs{A}$, $\n",
    "f(\\bs{x}) =\\bs{x^\\text{T}Ax}$ will take the value of the corresponding eigenvalue. We can see that this is working only if the euclidean norm of $\\bs{x}$ is 1 (i.e $\\bs{x}$ is a unit vector).\n",
    "\n",
    "### Example 7\n",
    "\n",
    "This example will show that $f(\\bs{x}) = \\lambda$. Let's take again the last example, the eigenvectors of $\\bs{A}$ were\n",
    "\n",
    "$$\n",
    "\\bs{Q}=\n",
    "\\begin{bmatrix}\n",
    "    0.89442719 & -0.4472136\\\\\\\\\n",
    "    0.4472136 & 0.89442719\n",
    "\\end{bmatrix}\n",
    "$$\n",
    "\n",
    "and the eigenvalues\n",
    "\n",
    "$$\n",
    "\\bs{\\Lambda}=\n",
    "\\begin{bmatrix}\n",
    "    7 & 0\\\\\\\\\n",
    "    0 & 2\n",
    "\\end{bmatrix}\n",
    "$$\n",
    "\n",
    "So if $\\bs{x}=\\begin{bmatrix}\n",
    "    0.89442719 & 0.4472136\n",
    "\\end{bmatrix}$, $f(\\bs{x})$ should be equal to 7. Let's check that's true.\n",
    "\n",
    "$$\n",
    "\\begin{align*}\n",
    "f(\\bs{x}) &= 6 x_1^2 + 4 x_1x_2 + 3 x_2^2\\\\\\\\\n",
    "&= 6\\times 0.89442719^2 + 4\\times 0.89442719\\times 0.4472136 + 3 \\times 0.4472136^2\\\\\\\\\n",
    "&= 7\n",
    "\\end{align*}\n",
    "$$\n",
    "\n",
    "In the same way, if $\\bs{x}=\\begin{bmatrix}\n",
    "    -0.4472136 & 0.89442719\n",
    "\\end{bmatrix}$, $f(\\bs{x})$ should be equal to 2.\n",
    "\n",
    "$$\n",
    "\\begin{align*}\n",
    "f(\\bs{x}) &= 6 x_1^2 + 4 x_1x_2 + 3 x_2^2\\\\\\\\\n",
    "&= 6\\times -0.4472136^2 + 4\\times -0.4472136\\times 0.89442719 + 3 \\times 0.89442719^2\\\\\\\\\n",
    "&= 2\n",
    "\\end{align*}\n",
    "$$"
   ]
  },
  {
   "cell_type": "markdown",
   "metadata": {},
   "source": [
    "# Quadratic form optimization\n",
    "\n",
    "Depending to the context, optimizing a function means finding its maximum or its minimum. It is for instance widely used to minimize the error of cost functions in machine learning.\n",
    "\n",
    "Here we will see how eigendecomposition can be used to optimize quadratic functions and why this can be done easily without cross terms. The difficulty is that we want a constrained optimization, that is to find the minimum or the maximum of the function for $f(\\bs{x})$ being a unit vector.\n",
    "\n",
    "### Example 7.\n",
    "\n",
    "See [6] slide 36.\n",
    "\n",
    "We want to optimize:\n",
    "\n",
    "$$\n",
    "f(\\bs{x}) =\\bs{x^\\text{T}Ax} \\textrm{ subject to }||\\bs{x}||_2= 1\n",
    "$$\n",
    "\n",
    "In our last example we ended up with:\n",
    "\n",
    "$$\n",
    "f(\\bs{x}) = 7y_1^2 + 2y_2^2\n",
    "$$\n",
    "\n",
    "And the constraint of $\\bs{x}$ being a unit vector imply:\n",
    "\n",
    "$$\n",
    "||\\bs{x}||_2 = 1 \\Leftrightarrow x_1^2 + x_2^2 = 1\n",
    "$$\n",
    "\n",
    "We can also show that $\\bs{y}$ has to be a unit vector if it is the case for $\\bs{x}$. Recall first that $\\bs{x}=\\bs{Py}$:\n",
    "\n",
    "$$\n",
    "\\begin{align*}\n",
    "||\\bs{x}||^2 &= \\bs{x^\\text{T}x}\\\\\\\\\n",
    "&= (\\bs{Py})^\\text{T}(\\bs{Py})\\\\\\\\\n",
    "&= \\bs{P^\\text{T}y^\\text{T}Py}\\\\\\\\\n",
    "&= \\bs{PP^\\text{T}y^\\text{T}y}\\\\\\\\\n",
    "&= \\bs{y^\\text{T}y} = ||\\bs{y}||^2\n",
    "\\end{align*}\n",
    "$$\n",
    "\n",
    "So $\\norm{\\bs{x}}^2 = \\norm{\\bs{y}}^2 = 1$ and thus $y_1^2 + y_2^2 = 1$\n",
    "\n",
    "Since $y_1^2$ and $y_2^2$ cannot be negative because they are squared values, we can be sure that $2y_2^2\\leq7y_2^2$. Hence:\n",
    "\n",
    "$$\n",
    "\\begin{align*}\n",
    "f(\\bs{x}) &= 7y_1^2 + 2y_2^2\\\\\\\\\n",
    "&\\leq\n",
    "7y_1^2 + 7y_2^2\\\\\\\\\n",
    "&=\n",
    "7(y_1^2+y_2^2)\\\\\\\\\n",
    "&=\n",
    "7\n",
    "\\end{align*}\n",
    "$$\n",
    "\n",
    "This means that the maximum value of $f(\\bs{x})$ is 7.\n",
    "\n",
    "The same way can lead to find the minimum of $f(\\bs{x})$. $7y_1^2\\geq2y_1^2$ and:\n",
    "\n",
    "$$\n",
    "\\begin{align*}\n",
    "f(\\bs{x}) &= 7y_1^2 + 2y_2^2\\\\\\\\\n",
    "&\\geq\n",
    "2y_1^2 + 2y_2^2\\\\\\\\\n",
    "&=\n",
    "2(y_1^2+y_2^2)\\\\\\\\\n",
    "&=\n",
    "2\n",
    "\\end{align*}\n",
    "$$\n",
    "\n",
    "And the minimum of $f(\\bs{x})$ is 2.\n",
    "\n",
    "### Summary\n",
    "\n",
    "We can note that the minimum of $f(\\bs{x})$ is the minimum eigenvalue of the corresponding matrix $\\bs{A}$. Another useful fact is that this value is obtained when $\\bs{x}$ takes the value of the corresponding eigenvector (check back the preceding paragraph). In that way, $f(\\bs{x})=7$ when $\\bs{x}=[0.89442719, 0.4472136]$. Let's check that in replacing in the orginal quadratic equation:\n",
    "\n",
    "This shows how useful are the eigenvalues and eigenvector in this kind of constrained optimization."
   ]
  },
  {
   "cell_type": "markdown",
   "metadata": {},
   "source": [
    "## Graphical views\n",
    "\n",
    "We saw that the quadratic functions $f(\\bs{x}) = ax_1^2 +2bx_1x_2 + cx_2^2$ can be represented by the symmetric matrix $\\bs{A}$:\n",
    "\n",
    "$\\bs{A}=\\begin{bmatrix}\n",
    "    a & b\\\\\\\\\n",
    "    b & c\n",
    "\\end{bmatrix}$\n",
    "\n",
    "Graphically, these functions can take one of three general shape (click on the links to go to the Surface Plotter and move the shapes):\n",
    "\n",
    "1. [Positive-definite form](https://academo.org/demos/3d-surface-plotter/?expression=x*x%2By*y&xRange=-50%2C+50&yRange=-50%2C+50&resolution=49) | 2. [Negative-definite form](https://academo.org/demos/3d-surface-plotter/?expression=-x*x-y*y&xRange=-50%2C+50&yRange=-50%2C+50&resolution=25) | 3. [Indefinite form](https://academo.org/demos/3d-surface-plotter/?expression=x*x-y*y&xRange=-50%2C+50&yRange=-50%2C+50&resolution=49)\n",
    ":-------------------------:|:-------------------------:|:-------:\n",
    "![positiveDefiniteForm.png](images/positiveDefiniteForm.png) | ![negativeDefiniteForm.png](images/negativeDefiniteForm.png) | ![IndefiniteForm.png](images/IndefiniteForm.png)\n",
    "\n",
    "\n",
    "\n",
    "With the constraints that $\\bs{x}$ is a unit vector, the minimum of the function $f(\\bs{x})$ corresponds to the smallest eigenvalue and is obtained with its corresponding eigenvector. The maximum corresponds to the biggest eigenvalue and is obtained with its corresponding eigenvector."
   ]
  },
  {
   "cell_type": "markdown",
   "metadata": {},
   "source": [
    "# Conclusion\n",
    "\n",
    "We have seen a lot of things in this chapter. We saw that linear algebra can be used to solve a variety of mathematical problems. Eigendecomposition is a powerful tool! However, it cannot be used for non square matrices. In the next chapter, we will see the Singular Value Decomposition (SVD) which is another way of decomposing matrices. The advantage of the SVD is that you can use it also with non-square matrices."
   ]
  },
  {
   "cell_type": "markdown",
   "metadata": {},
   "source": [
    "# BONUS: visualizing linear transformations\n",
    "\n",
    "We can see the effect of eigenvectors and eigenvalues in linear transformation. We will see first how linear transformation works. Linear transformation is a mapping between an input vector and an output vector. Different operations like projection or rotation are linear transformations. Every linear transformations can be though as applying a matrix on the input vector. We will see the meaning of this graphically. For that purpose, let's start by drawing the set of unit vectors (they are all vectors with a norm of 1)."
   ]
  },
  {
   "cell_type": "code",
   "execution_count": 12,
   "metadata": {},
   "outputs": [
    {
     "data": {
      "image/png": "[encoded data removed]",
      "text/plain": [
       "<matplotlib.figure.Figure at 0x109997d90>"
      ]
     },
     "metadata": {},
     "output_type": "display_data"
    }
   ],
   "source": [
    "t = np.linspace(0, 2*np.pi, 100)\n",
    "x = np.cos(t)\n",
    "y = np.sin(t)\n",
    "\n",
    "plt.figure()\n",
    "plt.plot(x, y)\n",
    "plt.xlim(-1.5, 1.5)\n",
    "plt.ylim(-1.5, 1.5)\n",
    "plt.show()"
   ]
  },
  {
   "cell_type": "markdown",
   "metadata": {},
   "source": [
    "Then, we will transform each of these points by applying a matrix $\\bs{A}$. This is the goal of the function bellow that takes a matrix as input and will draw\n",
    "\n",
    "- the origin set of unit vectors (yellow)\n",
    "- the transformed set of unit vectors (red)\n",
    "- the eigenvectors (blue)\n",
    "- the eigenvectors scalled by their eigenvalues (yellow)"
   ]
  },
  {
   "cell_type": "code",
   "execution_count": 32,
   "metadata": {},
   "outputs": [
    {
     "data": {
      "text/plain": [
       "<matplotlib.figure.Figure at 0x10a95d450>"
      ]
     },
     "metadata": {},
     "output_type": "display_data"
    },
    {
     "data": {
      "image/png": "[encoded data removed]",
      "text/plain": [
       "<matplotlib.figure.Figure at 0x10a278190>"
      ]
     },
     "metadata": {},
     "output_type": "display_data"
    }
   ],
   "source": [
    "def linearTransformation(transformMatrix):\n",
    "    # Create original set of unit vectors\n",
    "    t = np.linspace(0, 2*np.pi, 100)\n",
    "    x = np.cos(t)\n",
    "    y = np.sin(t)\n",
    "\n",
    "    # Calculate eigenvectors and eigenvalues\n",
    "    eigVecs = np.linalg.eig(transformMatrix)[1]\n",
    "    eigVals = np.diag(np.linalg.eig(transformMatrix)[0])\n",
    "    \n",
    "    # Create vectors of 0 to store new transformed values\n",
    "    newX = np.zeros(len(x))\n",
    "    newY = np.zeros(len(x))\n",
    "    for i in range(len(x)):\n",
    "        unitVector_i = np.array([x[i], y[i]])\n",
    "        # Apply the matrix to the vector\n",
    "        newXY = transformMatrix.dot(unitVector_i)\n",
    "        newX[i] = newXY[0]\n",
    "        newY[i] = newXY[1]\n",
    "\n",
    "\n",
    "    plt.figure()\n",
    "    plotVectors([eigVecs[:,0], eigVecs[:,1],\n",
    "                 eigVals[0,0]*eigVecs[:,0],\n",
    "                 eigVals[1,1]*eigVecs[:,1]],\n",
    "                cols=['blue', 'blue', '#FF9A13','#FF9A13'], alpha=[1, 1, 0.7, 0.7])\n",
    "    plt.plot(newX, newY)\n",
    "    plt.plot(x, y)\n",
    "    plt.xlim(-4, 4)\n",
    "    plt.ylim(-4, 4)\n",
    "    plt.show()\n",
    "    \n",
    "A = np.array([[1,-1], [-1, 4]])\n",
    "linearTransformation(A)"
   ]
  },
  {
   "cell_type": "markdown",
   "metadata": {},
   "source": [
    "It is worth noting that the eigenvectors are orthogonal here because the matrix is symmetric. Let's try with a non-symmetric matrix:"
   ]
  },
  {
   "cell_type": "code",
   "execution_count": 34,
   "metadata": {},
   "outputs": [
    {
     "data": {
      "text/plain": [
       "<matplotlib.figure.Figure at 0x10a29e950>"
      ]
     },
     "metadata": {},
     "output_type": "display_data"
    },
    {
     "data": {
      "image/png": "[encoded data removed]",
      "text/plain": [
       "<matplotlib.figure.Figure at 0x10a5fab10>"
      ]
     },
     "metadata": {},
     "output_type": "display_data"
    }
   ],
   "source": [
    "A = np.array([[1,1], [-1, 4]])\n",
    "linearTransformation(A)"
   ]
  },
  {
   "cell_type": "markdown",
   "metadata": {},
   "source": [
    "In this case, the eigenvectors are not orthogonal!"
   ]
  },
  {
   "cell_type": "markdown",
   "metadata": {
    "collapsed": true
   },
   "source": [
    "# References\n",
    "\n",
    "## Videos of Gilbert Strang\n",
    "\n",
    "- [Gilbert Strang, Lec21 MIT - Eigenvalues and eigenvectors](https://www.youtube.com/watch?v=lXNXrLcoerU)\n",
    "\n",
    "- [Gilbert Strang, Lec 21 MIT, Spring 2005](https://www.youtube.com/watch?v=lXNXrLcoerU)\n",
    "\n",
    "## Quadratic forms\n",
    "\n",
    "- [Eric Sullivan from University of Colorado, Denver](http://math.ucdenver.edu/~esulliva/LinearAlgebra/SlideShows/07_02.pdf)\n",
    "\n",
    "- [math.stackexchange QA](https://math.stackexchange.com/questions/2207111/eigendecomposition-optimization-of-quadratic-expressions)\n",
    "\n",
    "## Eigenvectors\n",
    "\n",
    "- [Victor Powell and Lewis Lehe - Interactive representation of eigenvectors](http://setosa.io/ev/eigenvectors-and-eigenvalues/)\n",
    "\n",
    "## Linear transformations\n",
    "\n",
    "- [Gilbert Strang - Linear transformation](http://ia802205.us.archive.org/18/items/MIT18.06S05_MP4/30.mp4)\n",
    "\n",
    "- [Linear transformation - demo video](https://www.youtube.com/watch?v=wXCRcnbCsJA)"
   ]
  }
 ],
 "metadata": {
  "kernelspec": {
   "display_name": "Python 2",
   "language": "python",
   "name": "python2"
  },
  "language_info": {
   "codemirror_mode": {
    "name": "ipython",
    "version": 2
   },
   "file_extension": ".py",
   "mimetype": "text/x-python",
   "name": "python",
   "nbconvert_exporter": "python",
   "pygments_lexer": "ipython2",
   "version": "2.7.10"
  }
 },
 "nbformat": 4,
 "nbformat_minor": 2
}

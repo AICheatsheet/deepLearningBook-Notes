{
 "cells": [
  {
   "cell_type": "code",
   "execution_count": 2,
   "metadata": {
    "scrolled": false
   },
   "outputs": [
    {
     "name": "stderr",
     "output_type": "stream",
     "text": [
      "/Users/lsp/.virtualenvs/kaggle/lib/python2.7/site-packages/matplotlib/font_manager.py:273: UserWarning: Matplotlib is building the font cache using fc-list. This may take a moment.\n",
      "  warnings.warn('Matplotlib is building the font cache using fc-list. This may take a moment.')\n"
     ]
    }
   ],
   "source": [
    "import numpy as np\n",
    "import matplotlib.pyplot as plt\n",
    "import seaborn as sns"
   ]
  },
  {
   "cell_type": "code",
   "execution_count": 3,
   "metadata": {},
   "outputs": [
    {
     "name": "stdout",
     "output_type": "stream",
     "text": [
      "Populating the interactive namespace from numpy and matplotlib\n"
     ]
    }
   ],
   "source": [
    "# Plot parameters\n",
    "sns.set()\n",
    "# Seven hls color palette\n",
    "current_palette_7 = sns.color_palette(\"hls\", 7)\n",
    "sns.set_palette(current_palette_7)\n",
    "\n",
    "%pylab inline\n",
    "pylab.rcParams['figure.figsize'] = (4, 4)\n",
    "plt.rcParams['xtick.major.size'] = 0\n",
    "plt.rcParams['ytick.major.size'] = 0\n",
    "# rcParams.keys()"
   ]
  },
  {
   "cell_type": "code",
   "execution_count": 4,
   "metadata": {
    "collapsed": true
   },
   "outputs": [],
   "source": [
    "# Avoid inaccurate floating values (for inverse matrices in dot product for instance)\n",
    "# See https://stackoverflow.com/questions/24537791/numpy-matrix-inversion-rounding-errors\n",
    "np.set_printoptions(suppress=True)"
   ]
  },
  {
   "cell_type": "markdown",
   "metadata": {},
   "source": [
    "# 2.5 Norms"
   ]
  },
  {
   "cell_type": "markdown",
   "metadata": {},
   "source": [
    "Norms are any functions that are characterized by the following properties:\n",
    "\n",
    "1- Norms are non-negative values. If you think of the norms as a length, you easily see why it can't be negative.\n",
    "\n",
    "2- Norms are 0 if and only if the vector is a zero vector\n",
    "\n",
    "3- Norms respect the triangle inequity. See bellow.\n",
    "\n",
    "4- $||k\\cdot u||=|k|\\cdot||u||$. The norm of a vector multiplied by a scalar is equal to the absolute value of this scalar multiplied by the norm of the vector.\n",
    "\n",
    "### The triangle inequity\n",
    "\n",
    "The norm of the sum of some vectors is less than or equal the sum of the norms of these vectors.\n",
    "\n",
    "$\n",
    "||u+v|| \\leq ||u||+||v||\n",
    "$\n",
    "\n",
    "#### Example\n",
    "\n",
    "$\n",
    "u=\n",
    "\\begin{bmatrix}\n",
    "    1 & 6\n",
    "\\end{bmatrix}\n",
    "$\n",
    "and\n",
    "$\n",
    "v=\n",
    "\\begin{bmatrix}\n",
    "    4 & 2\n",
    "\\end{bmatrix}\n",
    "$\n",
    "\n",
    "$\n",
    "||u+v|| = \\sqrt{(1+4)^2+(6+2)^2} = \\sqrt{89} \\approx 9.43\n",
    "$\n",
    "\n",
    "$\n",
    "||u||+||v|| = \\sqrt{1^2+6^2}+\\sqrt{4^2+2^2} = \\sqrt{37}+\\sqrt{20} \\approx 10.55\n",
    "$\n"
   ]
  },
  {
   "cell_type": "markdown",
   "metadata": {},
   "source": [
    "Let's check these results:"
   ]
  },
  {
   "cell_type": "code",
   "execution_count": 5,
   "metadata": {},
   "outputs": [
    {
     "name": "stdout",
     "output_type": "stream",
     "text": [
      "u =  [1 6]\n",
      "v =  [4 2]\n",
      "u + v = [5 8]\n",
      "||u + v|| =  9.43398113206\n",
      "||u|| + ||v|| =  10.5548984853\n"
     ]
    }
   ],
   "source": [
    "u = np.array([1, 6])\n",
    "v = np.array([4, 2])\n",
    "print 'u = ', u\n",
    "print 'v = ', v\n",
    "print 'u + v =', u+v\n",
    "print '||u + v|| = ', np.linalg.norm(u+v)\n",
    "print '||u|| + ||v|| = ', np.linalg.norm(u)+np.linalg.norm(v)"
   ]
  },
  {
   "cell_type": "markdown",
   "metadata": {},
   "source": [
    "Geometrically, this simply means that the shortest path between two points is a line:"
   ]
  },
  {
   "cell_type": "code",
   "execution_count": 6,
   "metadata": {},
   "outputs": [
    {
     "data": {
      "image/png": "[encoded data removed]",
      "text/plain": [
       "<matplotlib.figure.Figure at 0x1088b4050>"
      ]
     },
     "metadata": {},
     "output_type": "display_data"
    }
   ],
   "source": [
    "u = [0,0,1,6]\n",
    "v = [0,0,4,2]\n",
    "u_bis = [1,6,v[2],v[3]]\n",
    "w = [0,0,5,8]\n",
    "plt.quiver([u[0], u_bis[0], w[0]],\n",
    "           [u[1], u_bis[1], w[1]],\n",
    "           [u[2], u_bis[2], w[2]],\n",
    "           [u[3], u_bis[3], w[3]],\n",
    "           angles='xy', scale_units='xy', scale=1, color=sns.color_palette(\"husl\"))\n",
    "# plt.rc('text', usetex=True)\n",
    "plt.xlim(-2, 6)\n",
    "plt.ylim(-2, 9)\n",
    "plt.axvline(x=0, color='grey')\n",
    "plt.axhline(y=0, color='grey')\n",
    "\n",
    "plt.text(-1, 3.5, r'$||\\vec{u}||$', color=sns.color_palette(\"husl\")[0], size=20)\n",
    "plt.text(2.5, 7.5, r'$||\\vec{v}||$', color=sns.color_palette(\"husl\")[1], size=20)\n",
    "plt.text(2, 2, r'$||\\vec{u}+\\vec{v}||$', color=sns.color_palette(\"husl\")[2], size=20)\n",
    "\n",
    "plt.show()\n",
    "plt.close()\n"
   ]
  },
  {
   "cell_type": "markdown",
   "metadata": {},
   "source": [
    "### P-norms: general rules\n",
    "\n",
    "$\n",
    "||x||_p=(\\sum\\limits_i|x_i|^p)^{1/p}\n",
    "$\n",
    "\n",
    "\n",
    "To get the p-norm of a vector:\n",
    "\n",
    "- Take every elements of the vector and get their absolute value\n",
    "- Use the power $p$ of this absolute value\n",
    "- Sum the result to end with one value for the whole vector\n",
    "- Take the power $\\frac{1}{p}$ of this result\n",
    "\n",
    "This will be clear with examples using spreadly used p-norms."
   ]
  },
  {
   "cell_type": "markdown",
   "metadata": {},
   "source": [
    "### The $L^0$ norm\n",
    "\n",
    "It is the number of non-zero elements in the vector. It is not really a norm because if you multiply the vector by $\\alpha$, this number is the same (rule #4 above)."
   ]
  },
  {
   "cell_type": "markdown",
   "metadata": {},
   "source": [
    "### The $L^1$ norm\n",
    "\n",
    "$p=1$ so we have:\n",
    "\n",
    "$\n",
    "||x||_1=\\sum \\limits_i|x_i|\n",
    "$"
   ]
  },
  {
   "cell_type": "markdown",
   "metadata": {},
   "source": [
    "### The Euclidean norm ($L^2$ norm)\n",
    "\n",
    "The Euclidean norm is the p-norm with $p=2$:\n",
    "\n",
    "$\n",
    "||x||_2=(\\sum \\limits_i|x_i|^2)^{1/2}\\Leftrightarrow \\sqrt{\\sum \\limits_i|x_i|^2}\n",
    "$\n"
   ]
  },
  {
   "cell_type": "markdown",
   "metadata": {},
   "source": [
    "#### Example\n",
    "\n",
    "Graphically, the Euclidean norm corresponds to the length of the vector from the origin to the point obtained by linear combination (like applying Pythagorean theorem).\n",
    "\n",
    "$\n",
    "u=\n",
    "\\begin{bmatrix}\n",
    "    3 \\\\\\\\\n",
    "    4\n",
    "\\end{bmatrix}\n",
    "$\n",
    "\n",
    "$\n",
    "\\begin{align*}\n",
    "||u||_2 &=\\sqrt{|3|^2+|4|^2}\\\\\\\\\n",
    "&=\\sqrt{25}\\\\\\\\\n",
    "&=5\n",
    "\\end{align*}\n",
    "$\n",
    "\n",
    "\n",
    "So the Euclidean norm is $5$."
   ]
  },
  {
   "cell_type": "markdown",
   "metadata": {},
   "source": [
    "The Euclidean norm can be calculated with the `linalg.norm` function from numpy. We can check the result:"
   ]
  },
  {
   "cell_type": "code",
   "execution_count": 7,
   "metadata": {},
   "outputs": [
    {
     "name": "stdout",
     "output_type": "stream",
     "text": [
      "np.linalg.norm([3, 4]) =  5.0\n"
     ]
    }
   ],
   "source": [
    "print \"np.linalg.norm([3, 4]) = \", np.linalg.norm([3, 4])"
   ]
  },
  {
   "cell_type": "markdown",
   "metadata": {},
   "source": [
    "Here is the graphical representation of the vectors:"
   ]
  },
  {
   "cell_type": "code",
   "execution_count": 8,
   "metadata": {},
   "outputs": [
    {
     "data": {
      "image/png": "[encoded data removed]",
      "text/plain": [
       "<matplotlib.figure.Figure at 0x108980cd0>"
      ]
     },
     "metadata": {},
     "output_type": "display_data"
    }
   ],
   "source": [
    "u = [0,0,3,4]\n",
    "\n",
    "plt.quiver([u[0]],\n",
    "           [u[1]],\n",
    "           [u[2]],\n",
    "           [u[3]],\n",
    "           angles='xy', scale_units='xy', scale=1)\n",
    "\n",
    "plt.xlim(-2, 4)\n",
    "plt.ylim(-2, 5)\n",
    "plt.axvline(x=0, color='grey')\n",
    "plt.axhline(y=0, color='grey')\n",
    "\n",
    "plt.annotate('', xy = (3.2, 0), xytext = (3.2, 4),\n",
    "             arrowprops=dict(edgecolor='black', arrowstyle = '<->'))\n",
    "plt.annotate('', xy = (0, -0.2), xytext = (3, -0.2),\n",
    "             arrowprops=dict(edgecolor='black', arrowstyle = '<->'))\n",
    "\n",
    "plt.text(1, 2.5, r'$\\vec{u}$', size=18)\n",
    "plt.text(3.3, 2, r'$\\vec{u}_y$', size=18)\n",
    "plt.text(1.5, -1, r'$\\vec{u}_x$', size=18)\n",
    "\n",
    "plt.show()\n",
    "plt.close()"
   ]
  },
  {
   "cell_type": "markdown",
   "metadata": {},
   "source": [
    "In this case, the vector is in a 2-dimensional space but this stands also for more dimensions.\n",
    "\n",
    "$\n",
    "u=\n",
    "\\begin{bmatrix}\n",
    "    u_1\\\\\\\\\n",
    "    u_2\\\\\\\\\n",
    "    \\cdots \\\\\\\\\n",
    "    u_n\n",
    "\\end{bmatrix}\n",
    "$\n",
    "\n",
    "$\n",
    "||u||_2 = \\sqrt{u_1^2+u_2^2+\\cdots+u_n^2}\n",
    "$\n"
   ]
  },
  {
   "cell_type": "markdown",
   "metadata": {},
   "source": [
    "### The squared Euclidean norm (squared $L^2$ norm)\n",
    "\n",
    "$\n",
    "\\sum \\limits_i|x_i|^2\n",
    "$\n",
    "\n",
    "\n",
    "The squared Eculidean norm is the sum of the Euclidean norm. This operation thus removes the square root and we end up with the sum of every squared values of the vector. \n",
    "\n",
    "The squared Euclidean norm is widely used in machine learning parly because it can be calculated with the vector operation $\\boldsymbol{x}^\\text{T}\\boldsymbol{x}$. There can be performance gain due to the optimization of the linear algebra operations. See [here](https://softwareengineering.stackexchange.com/questions/312445/why-does-expressing-calculations-as-matrix-multiplications-make-them-faster) and [here](https://www.quora.com/What-makes-vector-operations-faster-than-for-loops) for more details.\n",
    "\n",
    "#### Example 1.\n",
    "\n",
    "$\n",
    "\\boldsymbol{x}=\n",
    "\\begin{bmatrix}\n",
    "    2 \\\\\\\\\n",
    "    5 \\\\\\\\\n",
    "    3 \\\\\\\\\n",
    "    3\n",
    "\\end{bmatrix}\n",
    "$\n",
    "\n",
    "$\n",
    "\\boldsymbol{x}^\\text{T}=\n",
    "\\begin{bmatrix}\n",
    "    2 & 5 & 3 & 3\n",
    "\\end{bmatrix}\n",
    "$\n",
    "\n",
    "$\n",
    "\\boldsymbol{x}^\\text{T}\\boldsymbol{x}=\n",
    "\\begin{bmatrix}\n",
    "    2 & 5 & 3 & 3\n",
    "\\end{bmatrix} \\times\n",
    "\\begin{bmatrix}\n",
    "    2 \\\\\\\\\n",
    "    5 \\\\\\\\\n",
    "    3 \\\\\\\\\n",
    "    3\n",
    "\\end{bmatrix} = 2\\times 2 + 5\\times 5 + 3\\times 3 + 3\\times 3= 47\n",
    "$"
   ]
  },
  {
   "cell_type": "code",
   "execution_count": 9,
   "metadata": {},
   "outputs": [
    {
     "name": "stdout",
     "output_type": "stream",
     "text": [
      "x:\n",
      "[[2]\n",
      " [5]\n",
      " [3]\n",
      " [3]]\n",
      "\n",
      "x.T:  [[2 5 3 3]]\n",
      "Euclidean norm of x: [[47]]\n",
      "Euclidean norm of x from `linalg`: 47.0\n"
     ]
    }
   ],
   "source": [
    "x = np.array([2, 5, 3, 3])\n",
    "# Without the reshape, the shape of x would be (4, ) and couldn't be transposed\n",
    "x = x.reshape(4, 1)\n",
    "x\n",
    "print 'x:\\n', x\n",
    "print '\\nx.T: ', x.T\n",
    "\n",
    "# The order is important: np.dot(x, x.T) is different of np.dot(x.T, x).\n",
    "euclideanNorm = np.dot(x.T, x)\n",
    "print 'Euclidean norm of x:', euclideanNorm\n",
    "print 'Euclidean norm of x from `linalg`:', np.linalg.norm(x)**2"
   ]
  },
  {
   "cell_type": "markdown",
   "metadata": {
    "collapsed": true
   },
   "source": [
    "#### Derivative of the squared $L^2$ norm\n",
    "\n",
    "Also, the partial derivative of the squared $L^2$ norm is easily computed:\n",
    "\n",
    "$\n",
    "u=\n",
    "\\begin{bmatrix}\n",
    "    u_1\\\\\\\\\n",
    "    u_2\\\\\\\\\n",
    "    \\cdots \\\\\\\\\n",
    "    u_n\n",
    "\\end{bmatrix}\n",
    "$\n",
    "\n",
    "$\n",
    "||u||_2 = u_1^2+u_2^2+\\cdots+u_n^2\n",
    "$\n",
    "\n",
    "$\n",
    "\\begin{cases}\n",
    "\\dfrac{d||u||_2}{du_1} = 2u_1\\\\\\\\\n",
    "\\dfrac{d||u||_2}{du_2} = 2u_2\\\\\\\\\n",
    "\\cdots\\\\\\\\\n",
    "\\dfrac{d||u||_2}{du_n} = 2u_n\n",
    "\\end{cases}\n",
    "$"
   ]
  },
  {
   "cell_type": "markdown",
   "metadata": {
    "collapsed": true
   },
   "source": [
    "#### Derivative of the $L^2$ norm\n",
    "\n",
    "In the case of the $L^2$ norm, the derivative is more complicated and take every elements of the vector into account:\n",
    "\n",
    "$\n",
    "||u||_2 = \\sqrt{(u_1^2+u_2^2+\\cdots+u_n^2)} = (u_1^2+u_2^2+\\cdots+u_n^2)^{\\frac{1}{2}}\n",
    "$\n",
    "\n",
    "$\n",
    "\\begin{align*}\n",
    "\\dfrac{d||u||_2}{du_1} &=\n",
    "\\dfrac{1}{2}(u_1^2+u_2^2+\\cdots+u_n^2)^{\\frac{1}{2}-1}\\cdot\n",
    "\\dfrac{d}{du_1}(u_1^2+u_2^2+\\cdots+u_n^2)\\\\\\\\\n",
    "&=\\dfrac{1}{2}(u_1^2+u_2^2+\\cdots+u_n^2)^{-\\frac{1}{2}}\\cdot\n",
    "\\dfrac{d}{du_1}(u_1^2+u_2^2+\\cdots+u_n^2)\\\\\\\\\n",
    "&=\\dfrac{1}{2}\\cdot\\dfrac{1}{(u_1^2+u_2^2+\\cdots+u_n^2)^{\\frac{1}{2}}}\\cdot\n",
    "\\dfrac{d}{du_1}(u_1^2+u_2^2+\\cdots+u_n^2)\\\\\\\\\n",
    "&=\\dfrac{1}{2}\\cdot\\dfrac{1}{(u_1^2+u_2^2+\\cdots+u_n^2)^{\\frac{1}{2}}}\\cdot\n",
    "2\\cdot u_1\\\\\\\\\n",
    "&=\\dfrac{2\\cdot u_1}{\\sqrt{(u_1^2+u_2^2+\\cdots+u_n^2)}}\\\\\\\\\n",
    "\\end{align*}\n",
    "$\n",
    "\n",
    "$\n",
    "\\begin{cases}\n",
    "\\dfrac{d||u||_2}{du_1} = 2u_1\\\\\\\\\n",
    "\\dfrac{d||u||_2}{du_2} = 2u_2\\\\\\\\\n",
    "\\cdots\\\\\\\\\n",
    "\\dfrac{d||u||_2}{du_n} = 2u_n\n",
    "\\end{cases}\n",
    "$"
   ]
  },
  {
   "cell_type": "markdown",
   "metadata": {
    "collapsed": true
   },
   "source": [
    "One problem of the squared $L^2$ norm is that it hardly discriminates between 0 and small values because the increase of the function is slow.\n",
    "\n",
    "We can see this by graphically comparing the squared $L^2$ norm with the $L^2$ norm. The z-axis correspond to the norm and the x- and y-axis correspond to 2 parameters. The same thing is true with more than 2 dimensions but it would be hard to visualize.\n",
    "\n",
    "$L^2$ norm:\n",
    "\n",
    "![L2Norm.png](images/L2Norm.png)\n",
    "\n",
    "Squared $L^2$ norm:\n",
    "\n",
    "![squaredL2Norm.png](images/squaredL2Norm.png)\n",
    "\n",
    "\n",
    "$L^1$ norm:\n",
    "\n",
    "![L1Norm.png](images/L1Norm.png)\n",
    "\n",
    "These plots are done with the help of this nice [website](https://academo.org/demos/3d-surface-plotter/). Go and plot these norms if you need to move them in order to catch their shape."
   ]
  },
  {
   "cell_type": "markdown",
   "metadata": {},
   "source": [
    "### The max norm\n",
    "\n",
    "It is the $L^\\infty$ norm and correspond to the absolute value of the greater element of the vector.\n",
    "\n",
    "$\n",
    "||x||_\\infty = \\max\\limits_i|x_i|\n",
    "$\n",
    "\n",
    "### Matrix norms: the Frobenius norm\n",
    "\n",
    "$\n",
    "||A||_F=\\sqrt{\\sum\\limits_{i,j}A^2_{i,j}}\n",
    "$\n",
    "\n",
    "This is equivalent to flatten the matrix to have a unique vector and taking the $L^2$ norm.\n",
    "\n",
    "The same numpy function can be use:"
   ]
  },
  {
   "cell_type": "code",
   "execution_count": 55,
   "metadata": {},
   "outputs": [
    {
     "name": "stdout",
     "output_type": "stream",
     "text": [
      "A =\n",
      "[[1 2]\n",
      " [6 4]\n",
      " [3 2]]\n",
      "\n",
      "np.linalg.norm(A) = 8.36660026534\n"
     ]
    }
   ],
   "source": [
    "A = np.array([[1, 2], [6, 4], [3, 2]])\n",
    "print \"A =\\n\", A\n",
    "\n",
    "print \"\\nnp.linalg.norm(A) =\", np.linalg.norm(A)"
   ]
  },
  {
   "cell_type": "markdown",
   "metadata": {},
   "source": [
    "### Expression of the dot product with norms\n",
    "\n",
    "$\n",
    "x^\\text{T}y = ||x||_2\\cdot||y||_2\\cos\\theta\n",
    "$\n"
   ]
  },
  {
   "cell_type": "markdown",
   "metadata": {},
   "source": [
    "#### Example\n",
    "\n",
    "$\n",
    "\\boldsymbol{x}=\n",
    "\\begin{bmatrix}\n",
    "    0 \\\\\\\\\n",
    "    2\n",
    "\\end{bmatrix}\n",
    "$\n",
    "\n",
    "and \n",
    "\n",
    "$\n",
    "\\boldsymbol{y}=\n",
    "\\begin{bmatrix}\n",
    "    2 \\\\\\\\\n",
    "    2\n",
    "\\end{bmatrix}\n",
    "$"
   ]
  },
  {
   "cell_type": "code",
   "execution_count": 88,
   "metadata": {},
   "outputs": [
    {
     "data": {
      "image/png": "[encoded data removed]",
      "text/plain": [
       "<matplotlib.figure.Figure at 0x109fd6650>"
      ]
     },
     "metadata": {},
     "output_type": "display_data"
    }
   ],
   "source": [
    "x = [0,0,0,2]\n",
    "y = [0,0,2,2]\n",
    "\n",
    "plt.xlim(-2, 4)\n",
    "plt.ylim(-2, 5)\n",
    "plt.axvline(x=0, color='grey', zorder=0)\n",
    "plt.axhline(y=0, color='grey', zorder=0)\n",
    "\n",
    "plt.quiver([x[0], y[0]],\n",
    "           [x[1], y[1]],\n",
    "           [x[2], y[2]],\n",
    "           [x[3], y[3]],\n",
    "           angles='xy', scale_units='xy', scale=1)\n",
    "\n",
    "plt.text(-0.5, 1, r'$\\vec{x}$', size=18)\n",
    "plt.text(1.5, 0.5, r'$\\vec{y}$', size=18)\n",
    "\n",
    "plt.show()\n",
    "plt.close()"
   ]
  },
  {
   "cell_type": "markdown",
   "metadata": {},
   "source": [
    "We took this example for its simplicity. As we can see, the angle $\\theta$ is equal to 45°."
   ]
  },
  {
   "cell_type": "markdown",
   "metadata": {},
   "source": [
    "$\n",
    "\\boldsymbol{x^\\text{T}y}=\n",
    "\\begin{bmatrix}\n",
    "    0 & 2\n",
    "\\end{bmatrix} \\cdot\n",
    "\\begin{bmatrix}\n",
    "    2 \\\\\\\\\n",
    "    2\n",
    "\\end{bmatrix} =\n",
    "0\\times2+2\\times2 = 4\n",
    "$\n",
    "\n",
    "and\n",
    "\n",
    "$\n",
    "||x||_2=\\sqrt{0^2+2^2}=\\sqrt{4}=2\n",
    "$\n",
    "\n",
    "$\n",
    "||y||_2=\\sqrt{2^2+2^2}=\\sqrt{8}\n",
    "$\n",
    "\n",
    "$\n",
    "2\\times\\sqrt{8}\\times cos(45)=4\n",
    "$\n",
    "\n",
    "Here are the operations using numpy:"
   ]
  },
  {
   "cell_type": "code",
   "execution_count": 96,
   "metadata": {},
   "outputs": [
    {
     "name": "stdout",
     "output_type": "stream",
     "text": [
      "4.0\n"
     ]
    }
   ],
   "source": [
    "# Note: np.cos take the angle in radian\n",
    "print np.cos(np.deg2rad(45))*2*np.sqrt(8)"
   ]
  },
  {
   "cell_type": "markdown",
   "metadata": {
    "collapsed": true
   },
   "source": [
    "# References\n",
    "\n",
    "For any derivative problem go [here](https://www.derivative-calculator.net/) to show the steps."
   ]
  },
  {
   "cell_type": "markdown",
   "metadata": {},
   "source": []
  },
  {
   "cell_type": "code",
   "execution_count": null,
   "metadata": {
    "collapsed": true
   },
   "outputs": [],
   "source": []
  },
  {
   "cell_type": "code",
   "execution_count": null,
   "metadata": {
    "collapsed": true
   },
   "outputs": [],
   "source": []
  },
  {
   "cell_type": "code",
   "execution_count": null,
   "metadata": {
    "collapsed": true
   },
   "outputs": [],
   "source": []
  },
  {
   "cell_type": "code",
   "execution_count": null,
   "metadata": {
    "collapsed": true
   },
   "outputs": [],
   "source": []
  },
  {
   "cell_type": "code",
   "execution_count": null,
   "metadata": {
    "collapsed": true
   },
   "outputs": [],
   "source": []
  }
 ],
 "metadata": {
  "kernelspec": {
   "display_name": "Python 2",
   "language": "python",
   "name": "python2"
  },
  "language_info": {
   "codemirror_mode": {
    "name": "ipython",
    "version": 2
   },
   "file_extension": ".py",
   "mimetype": "text/x-python",
   "name": "python",
   "nbconvert_exporter": "python",
   "pygments_lexer": "ipython2",
   "version": "2.7.10"
  }
 },
 "nbformat": 4,
 "nbformat_minor": 2
}

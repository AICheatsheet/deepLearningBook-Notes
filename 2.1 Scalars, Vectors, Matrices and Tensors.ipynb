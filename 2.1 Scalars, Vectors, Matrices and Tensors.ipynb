{
 "cells": [
  {
   "cell_type": "code",
   "execution_count": 3,
   "metadata": {},
   "outputs": [
    {
     "name": "stdout",
     "output_type": "stream",
     "text": [
      "\n"
     ]
    }
   ],
   "source": [
    "import numpy as np\n",
    "import matplotlib.pyplot as plt"
   ]
  },
  {
   "cell_type": "code",
   "execution_count": 4,
   "metadata": {},
   "outputs": [
    {
     "name": "stdout",
     "output_type": "stream",
     "text": [
      "Populating the interactive namespace from numpy and matplotlib\n"
     ]
    }
   ],
   "source": [
    "# Plot parameters\n",
    "plt.style.use('ggplot')\n",
    "plt.rcParams['axes.facecolor']='w'\n",
    "\n",
    "%pylab inline\n",
    "pylab.rcParams['figure.figsize'] = (3, 3)"
   ]
  },
  {
   "cell_type": "code",
   "execution_count": 5,
   "metadata": {
    "collapsed": true
   },
   "outputs": [],
   "source": [
    "# Avoid inaccurate floating values (for inverse matrices in dot product for instance)\n",
    "# See https://stackoverflow.com/questions/24537791/numpy-matrix-inversion-rounding-errors\n",
    "np.set_printoptions(suppress=True)"
   ]
  },
  {
   "cell_type": "markdown",
   "metadata": {},
   "source": [
    "# 2.1 Scalars, Vectors, Matrices and Tensors\n",
    "\n",
    "- A scalar is a single number\n",
    "- A vector is an array of numbers. Graphically, each value can be thought of a different axis.\n",
    "\n",
    "$\n",
    "\\boldsymbol{x} =\\begin{bmatrix}\n",
    "    x_1 \\\\\\\\\n",
    "    x_2 \\\\\\\\\n",
    "    \\cdots \\\\\\\\\n",
    "    x_n\n",
    "\\end{bmatrix}\n",
    "$\n",
    "\n",
    "- A matrix is a 2-D array\n",
    "\n",
    "$$\n",
    "\\boldsymbol{A}=\n",
    "\\begin{bmatrix}\n",
    "    A_{1,1} & A_{1,2} & \\cdots & A_{1,n} \\\\\\\\\n",
    "    A_{2,1} & A_{2,2} & \\cdots & A_{2,n} \\\\\\\\\n",
    "    \\cdots & \\cdots & \\cdots & \\cdots \\\\\\\\\n",
    "    A_{m,1} & A_{m,2} & \\cdots & A_{m,n}\n",
    "\\end{bmatrix}\n",
    "$$\n",
    "\n",
    "- A tensor is a $n$-D array with $n>2$"
   ]
  },
  {
   "cell_type": "markdown",
   "metadata": {},
   "source": [
    "### Example 1.\n",
    "\n",
    "#### Create a vector"
   ]
  },
  {
   "cell_type": "code",
   "execution_count": 9,
   "metadata": {},
   "outputs": [
    {
     "name": "stdout",
     "output_type": "stream",
     "text": [
      "[1 2 3 4]\n"
     ]
    }
   ],
   "source": [
    "x = np.array([1, 2, 3, 4])\n",
    "print(x)"
   ]
  },
  {
   "cell_type": "markdown",
   "metadata": {},
   "source": [
    "### Example 2.\n",
    "\n",
    "#### Create a (3x2) matrix (nested brackets)"
   ]
  },
  {
   "cell_type": "code",
   "execution_count": 7,
   "metadata": {},
   "outputs": [
    {
     "name": "stdout",
     "output_type": "stream",
     "text": [
      "[[1 2]\n",
      " [3 4]\n",
      " [5 6]]\n"
     ]
    }
   ],
   "source": [
    "A = np.array([[1, 2], [3, 4], [5, 6]])\n",
    "print(A)"
   ]
  },
  {
   "cell_type": "markdown",
   "metadata": {},
   "source": [
    "### Shape\n",
    "\n",
    "The shape of an array gives you the dimension of the array and their length. It the array is 2-D it will give you the number of rows x number of columns. You can it with:"
   ]
  },
  {
   "cell_type": "code",
   "execution_count": 8,
   "metadata": {},
   "outputs": [
    {
     "name": "stdout",
     "output_type": "stream",
     "text": [
      "A.shape (3, 2)\n",
      "A has 3 rows and 2 columns\n"
     ]
    }
   ],
   "source": [
    "print 'A.shape', A.shape\n",
    "print(\"A has %s rows and %s columns\" %(A.shape[0], A.shape[1]))"
   ]
  },
  {
   "cell_type": "markdown",
   "metadata": {},
   "source": [
    "# Transpose\n",
    "\n",
    "The transpose $A^{\\text{T}}$ of the matrix A corresponds to the mirrored axes.\n",
    "\n",
    "$$\n",
    "\\boldsymbol{A}=\n",
    "\\begin{bmatrix}\n",
    "    A_{1,1} & A_{1,2} \\\\\\\\\n",
    "    A_{2,1} & A_{2,2} \\\\\\\\\n",
    "    A_{3,1} & A_{3,2}\n",
    "\\end{bmatrix}\n",
    "$$\n",
    "\n",
    "$$\n",
    "\\boldsymbol{A}^{\\text{T}}=\n",
    "\\begin{bmatrix}\n",
    "    A_{1,1} & A_{2,1} & A_{3,1} \\\\\\\\\n",
    "    A_{1,2} & A_{2,2} & A_{3,2} \\\\\\\\\n",
    "\\end{bmatrix}\n",
    "$$\n",
    "\n",
    "The shape ($m \\times n$) is inverted and becomes ($n \\times m$)."
   ]
  },
  {
   "cell_type": "markdown",
   "metadata": {},
   "source": [
    "### Example 3.\n",
    "\n",
    "#### Create a matrix A and transpose it"
   ]
  },
  {
   "cell_type": "code",
   "execution_count": 14,
   "metadata": {},
   "outputs": [
    {
     "name": "stdout",
     "output_type": "stream",
     "text": [
      "A.shape: (3, 2)\n",
      "[[1 2]\n",
      " [3 4]\n",
      " [5 6]]\n",
      "\n",
      "A_t.shape: (2, 3)\n",
      "[[1 3 5]\n",
      " [2 4 6]]\n",
      "\n",
      "The shape of A is (3, 2). The shape of the transpose of A is (2, 3)\n"
     ]
    }
   ],
   "source": [
    "A = np.array([[1, 2], [3, 4], [5, 6]])\n",
    "print(\"A.shape: %s\\n%s\" %(A.shape, A))\n",
    "\n",
    "A_t = A.T\n",
    "print(\"\\nA_t.shape: %s\\n%s\\n\" %(A_t.shape, A_t))\n",
    "\n",
    "print(\"The shape of A is %s. The shape of the transpose of A is %s\" %(A.shape, A_t.shape))"
   ]
  },
  {
   "cell_type": "markdown",
   "metadata": {},
   "source": [
    "# Addition\n",
    "\n",
    "Matrices can be added if they have the same shape\n",
    "\n",
    "$$\n",
    "\\begin{bmatrix}\n",
    "    A_{1,1} & A_{1,2} \\\\\\\\\n",
    "    A_{2,1} & A_{2,2} \\\\\\\\\n",
    "    A_{3,1} & A_{3,2}\n",
    "\\end{bmatrix}+\n",
    "\\begin{bmatrix}\n",
    "    B_{1,1} & B_{1,2} \\\\\\\\\n",
    "    B_{2,1} & B_{2,2} \\\\\\\\\n",
    "    B_{3,1} & B_{3,2}\n",
    "\\end{bmatrix}=\n",
    "\\begin{bmatrix}\n",
    "    A_{1,1} + B_{1,1} & A_{1,2} + B_{1,2} \\\\\\\\\n",
    "    A_{2,1} + B_{2,1} & A_{2,2} + B_{2,2} \\\\\\\\\n",
    "    A_{3,1} + B_{3,1} & A_{3,2} + B_{3,2}\n",
    "\\end{bmatrix}\n",
    "$$\n",
    "\n",
    "$$\\boldsymbol{A}_{i,j} + \\boldsymbol{B}_{i,j} = \\boldsymbol{C}_{i,j}$$"
   ]
  },
  {
   "cell_type": "code",
   "execution_count": 16,
   "metadata": {},
   "outputs": [
    {
     "name": "stdout",
     "output_type": "stream",
     "text": [
      "A.shape: (3, 2)\n",
      "\n",
      "[[1 2]\n",
      " [3 4]\n",
      " [5 6]]\n",
      "\n",
      "B.shape: (3, 2)\n",
      "\n",
      "[[2 5]\n",
      " [7 4]\n",
      " [4 3]]\n",
      "\n",
      "C.shape: (3, 2)\n",
      "\n",
      "[[ 3  7]\n",
      " [10  8]\n",
      " [ 9  9]]\n"
     ]
    }
   ],
   "source": [
    "A = np.array([[1, 2], [3, 4], [5, 6]])\n",
    "print(\"A.shape: %s\\n\\n%s\\n\" %(A.shape, A))\n",
    "\n",
    "B = np.array([[2, 5], [7, 4], [4, 3]])\n",
    "print(\"B.shape: %s\\n\\n%s\\n\" %(B.shape, B))\n",
    "\n",
    "# Add matrices A and B\n",
    "C = A + B\n",
    "print(\"C.shape: %s\\n\\n%s\" %(C.shape, C))"
   ]
  },
  {
   "cell_type": "markdown",
   "metadata": {},
   "source": [
    "#### The shape of C is the same as the shape of A and B."
   ]
  },
  {
   "cell_type": "code",
   "execution_count": 52,
   "metadata": {},
   "outputs": [
    {
     "name": "stdout",
     "output_type": "stream",
     "text": [
      "A: (3, 2)\n",
      "B: (3, 2)\n",
      "C: (3, 2)\n"
     ]
    }
   ],
   "source": [
    "print(\"A: %s\\nB: %s\\nC: %s\" %(A.shape, B.shape, C.shape))"
   ]
  },
  {
   "cell_type": "markdown",
   "metadata": {},
   "source": [
    "It is also possible to add a scalar to a matrix\n",
    "\n",
    "$$\n",
    "\\alpha+ \\begin{bmatrix}\n",
    "    A_{1,1} & A_{1,2} \\\\\\\\\n",
    "    A_{2,1} & A_{2,2} \\\\\\\\\n",
    "    A_{3,1} & A_{3,2}\n",
    "\\end{bmatrix}=\n",
    "\\begin{bmatrix}\n",
    "    \\alpha + A_{1,1} & \\alpha + A_{1,2} \\\\\\\\\n",
    "    \\alpha + A_{2,1} & \\alpha + A_{2,2} \\\\\\\\\n",
    "    \\alpha + A_{3,1} & \\alpha + A_{3,2}\n",
    "\\end{bmatrix}\n",
    "$$"
   ]
  },
  {
   "cell_type": "code",
   "execution_count": 70,
   "metadata": {},
   "outputs": [
    {
     "name": "stdout",
     "output_type": "stream",
     "text": [
      "C.shape: (3, 2)\n",
      "\n",
      "[[ 4  8]\n",
      " [12 16]\n",
      " [20 24]]\n"
     ]
    }
   ],
   "source": [
    "# Add 4 to the matrix A\n",
    "C = 4*A\n",
    "print(\"C.shape: %s\\n\\n%s\" %(C.shape, C))"
   ]
  },
  {
   "cell_type": "markdown",
   "metadata": {},
   "source": [
    "# Broadcasting\n",
    "\n",
    "Numpy can handle arrays of different shape. The smaller array will be extended to match the shape of the bigger one. The advantage is that this is done in `C` under the hood (like any vectorized operation in numpy). Actually the simpler example of broadcasting is what we saw before when multiplied a scalar with a matrix. The scalar was converted in an array of same shape to do that.\n",
    "\n",
    "Here is another generic example:\n",
    "\n",
    "$$\n",
    "\\begin{bmatrix}\n",
    "    A_{1,1} & A_{1,2} \\\\\\\\\n",
    "    A_{2,1} & A_{2,2} \\\\\\\\\n",
    "    A_{3,1} & A_{3,2}\n",
    "\\end{bmatrix}+\n",
    "\\begin{bmatrix}\n",
    "    B_{1,1} \\\\\\\\\n",
    "    B_{2,1} \\\\\\\\\n",
    "    B_{3,1}\n",
    "\\end{bmatrix}=\n",
    "\\begin{bmatrix}\n",
    "    A_{1,1} + B_{1,1} & A_{1,2} + B_{1,1} \\\\\\\\\n",
    "    A_{2,1} + B_{2,1} & A_{2,2} + B_{2,1} \\\\\\\\\n",
    "    A_{3,1} + B_{3,1} & A_{3,2} + B_{3,1}\n",
    "\\end{bmatrix}\n",
    "$$\n",
    "\n",
    "is equivalent to\n",
    "\n",
    "$$\n",
    "\\begin{bmatrix}\n",
    "    A_{1,1} & A_{1,2} \\\\\\\\\n",
    "    A_{2,1} & A_{2,2} \\\\\\\\\n",
    "    A_{3,1} & A_{3,2}\n",
    "\\end{bmatrix}+\n",
    "\\begin{bmatrix}\n",
    "    B_{1,1} & B_{1,1} \\\\\\\\\n",
    "    B_{2,1} & B_{2,1} \\\\\\\\\n",
    "    B_{3,1} & B_{3,1}\n",
    "\\end{bmatrix}=\n",
    "\\begin{bmatrix}\n",
    "    A_{1,1} + B_{1,1} & A_{1,2} + B_{1,1} \\\\\\\\\n",
    "    A_{2,1} + B_{2,1} & A_{2,2} + B_{2,1} \\\\\\\\\n",
    "    A_{3,1} + B_{3,1} & A_{3,2} + B_{3,1}\n",
    "\\end{bmatrix}\n",
    "$$\n",
    "\n",
    "where the ($3 \\times 1$) matrix is converted to the right shape ($3 \\times 2$) by copying the first column. Numpy will do that automatically if the shapes can match."
   ]
  },
  {
   "cell_type": "code",
   "execution_count": 19,
   "metadata": {},
   "outputs": [
    {
     "name": "stdout",
     "output_type": "stream",
     "text": [
      "A.shape: (3, 2)\n",
      "\n",
      "[[1 2]\n",
      " [3 4]\n",
      " [5 6]]\n",
      "\n",
      "B.shape: (3, 1)\n",
      "\n",
      "[[2]\n",
      " [4]\n",
      " [6]]\n",
      "\n",
      "C.shape: (3, 2)\n",
      "\n",
      "[[ 3  4]\n",
      " [ 7  8]\n",
      " [11 12]]\n"
     ]
    }
   ],
   "source": [
    "A = np.array([[1, 2], [3, 4], [5, 6]])\n",
    "print(\"A.shape: %s\\n\\n%s\\n\" %(A.shape, A))\n",
    "\n",
    "B = np.array([[2], [4], [6]])\n",
    "print(\"B.shape: %s\\n\\n%s\\n\" %(B.shape, B))\n",
    "\n",
    "# Broadcasting\n",
    "C=A+B\n",
    "print(\"C.shape: %s\\n\\n%s\" %(C.shape, C))"
   ]
  },
  {
   "cell_type": "markdown",
   "metadata": {},
   "source": [
    "# References\n",
    "\n",
    "[1] [Broadcasting in Numpy](https://docs.scipy.org/doc/numpy-1.13.0/user/basics.broadcasting.html)"
   ]
  }
 ],
 "metadata": {
  "kernelspec": {
   "display_name": "Python 2",
   "language": "python",
   "name": "python2"
  },
  "language_info": {
   "codemirror_mode": {
    "name": "ipython",
    "version": 2
   },
   "file_extension": ".py",
   "mimetype": "text/x-python",
   "name": "python",
   "nbconvert_exporter": "python",
   "pygments_lexer": "ipython2",
   "version": "2.7.10"
  }
 },
 "nbformat": 4,
 "nbformat_minor": 2
}

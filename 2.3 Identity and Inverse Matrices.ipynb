{
 "cells": [
  {
   "cell_type": "code",
   "execution_count": 1,
   "metadata": {
    "collapsed": true
   },
   "outputs": [],
   "source": [
    "import numpy as np\n",
    "import matplotlib.pyplot as plt"
   ]
  },
  {
   "cell_type": "code",
   "execution_count": 2,
   "metadata": {},
   "outputs": [
    {
     "name": "stdout",
     "output_type": "stream",
     "text": [
      "Populating the interactive namespace from numpy and matplotlib\n"
     ]
    }
   ],
   "source": [
    "# Plot parameters\n",
    "plt.style.use('ggplot')\n",
    "plt.rcParams['axes.facecolor']='w'\n",
    "\n",
    "%pylab inline\n",
    "pylab.rcParams['figure.figsize'] = (3, 3)"
   ]
  },
  {
   "cell_type": "code",
   "execution_count": 3,
   "metadata": {
    "collapsed": true
   },
   "outputs": [],
   "source": [
    "# Avoid inaccurate floating values (for inverse matrices in dot product for instance)\n",
    "# See https://stackoverflow.com/questions/24537791/numpy-matrix-inversion-rounding-errors\n",
    "np.set_printoptions(suppress=True)"
   ]
  },
  {
   "cell_type": "markdown",
   "metadata": {},
   "source": [
    "# 2.3 Identity and Inverse Matrices\n",
    "\n",
    "# Identity matrices\n",
    "\n",
    "The identity matrix $\\boldsymbol{I}_n$ is a matrix of shape ($n \\times n$) that has all 0 except the diagonal filled with 1.\n",
    "\n",
    "$\n",
    "\\boldsymbol{I}_3=\n",
    "\\begin{bmatrix}\n",
    "    1 & 0 & 0 \\\\\\\\\n",
    "    0 & 1 & 0 \\\\\\\\\n",
    "    0 & 0 & 1 \\\\\\\\\n",
    "\\end{bmatrix}\n",
    "$"
   ]
  },
  {
   "cell_type": "markdown",
   "metadata": {},
   "source": [
    "An identity matrix can be created with the numpy command 'eye':"
   ]
  },
  {
   "cell_type": "code",
   "execution_count": 4,
   "metadata": {},
   "outputs": [
    {
     "data": {
      "text/plain": [
       "array([[ 1.,  0.,  0.],\n",
       "       [ 0.,  1.,  0.],\n",
       "       [ 0.,  0.,  1.]])"
      ]
     },
     "execution_count": 4,
     "metadata": {},
     "output_type": "execute_result"
    }
   ],
   "source": [
    "np.eye(3)"
   ]
  },
  {
   "cell_type": "markdown",
   "metadata": {},
   "source": [
    "When multiplied with a vector the result is this same vector:\n",
    "\n",
    "$\\boldsymbol{I}_n\\boldsymbol{x} = \\boldsymbol{x}$\n",
    "\n",
    "### Example 1.\n",
    "\n",
    "$\n",
    "\\begin{bmatrix}\n",
    "    1 & 0 & 0 \\\\\\\\\n",
    "    0 & 1 & 0 \\\\\\\\\n",
    "    0 & 0 & 1 \\\\\\\\\n",
    "\\end{bmatrix}\n",
    "\\times\n",
    "\\begin{bmatrix}\n",
    "    x_{1} \\\\\\\\\n",
    "    x_{2} \\\\\\\\\n",
    "    x_{3}\n",
    "\\end{bmatrix}=\n",
    "\\begin{bmatrix}\n",
    "    1 \\times x_1 + 0 \\times x_2 + 0\\times x_3 \\\\\\\\\n",
    "    0 \\times x_1 + 1 \\times x_2 + 0\\times x_3 \\\\\\\\\n",
    "    0 \\times x_1 + 0 \\times x_2 + 1\\times x_3 \\\\\\\\\n",
    "\\end{bmatrix}=\n",
    "\\begin{bmatrix}\n",
    "    x_{1} \\\\\\\\\n",
    "    x_{2} \\\\\\\\\n",
    "    x_{3}\n",
    "\\end{bmatrix}\n",
    "$"
   ]
  },
  {
   "cell_type": "code",
   "execution_count": 5,
   "metadata": {},
   "outputs": [
    {
     "name": "stdout",
     "output_type": "stream",
     "text": [
      "\n",
      "x.shape: (3, 1)\n",
      "\n",
      "[[2]\n",
      " [6]\n",
      " [3]]\n",
      "\n",
      "xid.shape: (3, 1)\n",
      "\n",
      "[[ 2.]\n",
      " [ 6.]\n",
      " [ 3.]]\n"
     ]
    }
   ],
   "source": [
    "x = np.array([[2], [6], [3]])\n",
    "print(\"\\nx.shape: %s\\n\\n%s\" %(x.shape, x))\n",
    "\n",
    "xid = np.dot(np.eye(x.shape[0]), x)\n",
    "print(\"\\nxid.shape: %s\\n\\n%s\" %(xid.shape, xid))"
   ]
  },
  {
   "cell_type": "markdown",
   "metadata": {},
   "source": [
    "# Inverse Matrices\n",
    "\n",
    "The matrix inverse of $\\boldsymbol{A}$ is denoted $\\boldsymbol{A}^{-1}$ and correspond to the matrix that result in the identity matrix when it is multiplied by $\\boldsymbol{A}$:\n",
    "\n",
    "$\\boldsymbol{A}^{-1}\\boldsymbol{A}=\\boldsymbol{I}_n$\n",
    "\n",
    "### Example 2."
   ]
  },
  {
   "cell_type": "code",
   "execution_count": 6,
   "metadata": {},
   "outputs": [
    {
     "name": "stdout",
     "output_type": "stream",
     "text": [
      "\n",
      "A.shape: (3, 3)\n",
      "\n",
      "[[ 3  0  2]\n",
      " [ 2  0 -2]\n",
      " [ 0  1  1]]\n",
      "\n",
      "A_inv.shape: (3, 3)\n",
      "\n",
      "[[ 0.2  0.2  0. ]\n",
      " [-0.2  0.3  1. ]\n",
      " [ 0.2 -0.3 -0. ]]\n"
     ]
    }
   ],
   "source": [
    "A = np.array([[3, 0, 2], [2, 0, -2], [0, 1, 1]])\n",
    "print(\"\\nA.shape: %s\\n\\n%s\" %(A.shape, A))\n",
    "\n",
    "A_inv = np.linalg.inv(A)\n",
    "print(\"\\nA_inv.shape: %s\\n\\n%s\" %(A_inv.shape, A_inv))"
   ]
  },
  {
   "cell_type": "markdown",
   "metadata": {},
   "source": [
    "We can check that $\\boldsymbol{A\\_inv}$ is well the inverse of $\\boldsymbol{A}$:\n",
    "\n",
    "$\n",
    "\\begin{align*}\n",
    "\\boldsymbol{A}^{-1}\\boldsymbol{A} &=\n",
    "\\begin{bmatrix}\n",
    "    3 & 0 & 2 \\\\\\\\\n",
    "    2 & 0 & -2 \\\\\\\\\n",
    "    0 & 1 & 1 \\\\\\\\\n",
    "\\end{bmatrix} \\times\n",
    "\\begin{bmatrix}\n",
    "    0.2 & 0.2 & 0 \\\\\\\\\n",
    "    -0.2 & 0.3 & 1 \\\\\\\\\n",
    "    0.2 & -0.3 & 0 \\\\\\\\\n",
    "\\end{bmatrix}\\\\\\\\\n",
    "&= \\begin{bmatrix}\n",
    "    3\\times0.2 + 0\\times-0.2 + 2\\times0.2 & 3\\times0.2 + 0\\times0.3 + 2\\times-0.3  & 3\\times0 + 0\\times1 + 2\\times0  \\\\\\\\\n",
    "    2\\times0.2 + 0\\times-0.2 + -2\\times0.2 & 2\\times0.2 + 0\\times0.3 + -2\\times-0.3  & 2\\times0 + 0\\times1 + -2\\times0  \\\\\\\\\n",
    "    0\\times0.2 + 1\\times-0.2 + 1\\times0.2 & 0\\times0.2 + 1\\times0.3 + 1\\times-0.3  & 0\\times0 + 1\\times1 + 1\\times0  \\\\\\\\\n",
    "\\end{bmatrix}\\\\\\\\\n",
    "&= \\begin{bmatrix}\n",
    "    1 & 0 & 0 \\\\\\\\\n",
    "    0 & 1 & 0 \\\\\\\\\n",
    "    0 & 0 & 1 \\\\\\\\\n",
    "\\end{bmatrix}\n",
    "\\end{align*}\n",
    "$"
   ]
  },
  {
   "cell_type": "code",
   "execution_count": 7,
   "metadata": {},
   "outputs": [
    {
     "name": "stdout",
     "output_type": "stream",
     "text": [
      "\n",
      "A_bis.shape: (3, 3)\n",
      "\n",
      "[[ 1.  0. -0.]\n",
      " [ 0.  1. -0.]\n",
      " [ 0.  0.  1.]]\n"
     ]
    }
   ],
   "source": [
    "A_bis = np.dot(A_inv, A)\n",
    "print(\"\\nA_bis.shape: %s\\n\\n%s\" %(A_bis.shape, A_bis))"
   ]
  },
  {
   "cell_type": "markdown",
   "metadata": {},
   "source": [
    "# Sovling the system of linear equations\n",
    "\n",
    "The inverse matrix can be used to solve the equation $\\boldsymbol{Ax}=\\boldsymbol{b}$ by adding it to each term:\n",
    "\n",
    "$\\boldsymbol{A}^{-1}\\boldsymbol{Ax}=\\boldsymbol{A}^{-1}\\boldsymbol{b}$\n",
    "\n",
    "$\\boldsymbol{I}_n\\boldsymbol{x}=\\boldsymbol{A}^{-1}\\boldsymbol{b}$\n",
    "\n",
    "$\\boldsymbol{x}=\\boldsymbol{A}^{-1}\\boldsymbol{b}$\n",
    "\n",
    "This introduces different cases according to the linear system because $\\boldsymbol{A}^{-1}$ exists only if the equation $\\boldsymbol{Ax}=\\boldsymbol{b}$ has one and only one solution."
   ]
  },
  {
   "cell_type": "markdown",
   "metadata": {
    "collapsed": true
   },
   "source": [
    "# Singular matrices\n",
    "\n",
    "Some matrices are not invertible. They are called **singular**."
   ]
  }
 ],
 "metadata": {
  "kernelspec": {
   "display_name": "Python 2",
   "language": "python",
   "name": "python2"
  },
  "language_info": {
   "codemirror_mode": {
    "name": "ipython",
    "version": 2
   },
   "file_extension": ".py",
   "mimetype": "text/x-python",
   "name": "python",
   "nbconvert_exporter": "python",
   "pygments_lexer": "ipython2",
   "version": "2.7.10"
  }
 },
 "nbformat": 4,
 "nbformat_minor": 2
}

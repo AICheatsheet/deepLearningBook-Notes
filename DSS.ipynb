{
 "cells": [
  {
   "cell_type": "markdown",
   "metadata": {},
   "source": [
    "# Covariance matrix\n",
    "\n",
    "The first thing to do to calculate the DSS is to compute the covariance matrices of our unbiased signal and of our filtered signal. The covariance matrix will synthesize the variances of each electrode (the diagonal corresponds to the variance of one electrode).\n",
    "\n",
    "The formula of the covariance is the following:\n",
    "\n",
    "$$cov(X,Y) = \\sum_{i=1}^{N}\\frac{(x_i-\\bar{x})(y_i-\\bar{y})}{N}$$\n",
    "\n",
    "So it is the difference from the mean of the variable $\\boldsymbol{y}$ weighted by the difference from the mean of the variable $\\boldsymbol{y}$ added for each data point.\n",
    "\n",
    "#### Example 1.\n",
    "\n",
    "These variables can be in a matrix.\n",
    "\n",
    "$\n",
    "\\boldsymbol{A}=\n",
    "\\begin{bmatrix}\n",
    "    1 & 3 & 5\\\\\\\\\n",
    "    5 & 4 & 1\\\\\\\\\n",
    "    3 & 8 & 6\n",
    "\\end{bmatrix}\n",
    "$\n",
    "\n",
    "We will calculate the covariance of each column with each other. Let's start with column 1 and column 2:\n",
    "\n",
    "$\\boldsymbol{x} = \\begin{bmatrix}\n",
    "    1\\\\\\\\\n",
    "    5\\\\\\\\\n",
    "    3\n",
    "\\end{bmatrix}\n",
    "$ and $\\boldsymbol{y} = \\begin{bmatrix}\n",
    "    3\\\\\\\\\n",
    "    4\\\\\\\\\n",
    "    8\n",
    "\\end{bmatrix}$. So $\\boldsymbol{\\bar{x}}=3$, $\\boldsymbol{\\bar{y}}=5$ and $N=3$.\n",
    "\n",
    "$cov(X,Y) = \\frac{(1-3)(3-5)+(5-3)(4-5)+(3-3)(8-5)}{3}=\\frac{-6}{3}=-2$"
   ]
  },
  {
   "cell_type": "code",
   "execution_count": null,
   "metadata": {
    "collapsed": true
   },
   "outputs": [],
   "source": []
  }
 ],
 "metadata": {
  "kernelspec": {
   "display_name": "Python 2",
   "language": "python",
   "name": "python2"
  },
  "language_info": {
   "codemirror_mode": {
    "name": "ipython",
    "version": 2
   },
   "file_extension": ".py",
   "mimetype": "text/x-python",
   "name": "python",
   "nbconvert_exporter": "python",
   "pygments_lexer": "ipython2",
   "version": "2.7.10"
  }
 },
 "nbformat": 4,
 "nbformat_minor": 2
}

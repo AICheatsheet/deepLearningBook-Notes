{
 "cells": [
  {
   "cell_type": "code",
   "execution_count": 1,
   "metadata": {
    "collapsed": true
   },
   "outputs": [],
   "source": [
    "import numpy as np"
   ]
  },
  {
   "cell_type": "code",
   "execution_count": 22,
   "metadata": {},
   "outputs": [
    {
     "name": "stdout",
     "output_type": "stream",
     "text": [
      "a mean 3.5 b mean 4.16666666667\n",
      "covar:  3.3\n",
      "np.cov:  [[ 4.3         3.3       ]\n",
      " [ 3.3         6.16666667]]\n"
     ]
    }
   ],
   "source": [
    "a = np.array([1, 2, 3, 6, 3, 6])\n",
    "b = np.array([2, 3, 7, 6, 1, 6])\n",
    "print 'a mean', np.mean(a), 'b mean', np.mean(b)\n",
    "covar = 0\n",
    "for i in range(len(a)):\n",
    "    covar += (np.mean(a)-a[i])*(np.mean(b)-b[i])\n",
    "covar = covar/(len(a)-1)\n",
    "print 'covar: ', covar\n",
    "print 'np.cov: ', np.cov([a, b])"
   ]
  },
  {
   "cell_type": "code",
   "execution_count": 26,
   "metadata": {},
   "outputs": [
    {
     "name": "stdout",
     "output_type": "stream",
     "text": [
      "A [[1 2]\n",
      " [2 3]\n",
      " [3 7]\n",
      " [6 6]\n",
      " [3 1]\n",
      " [6 6]]\n"
     ]
    }
   ],
   "source": [
    "A = np.array([[1, 2, 3, 6, 3, 6], [2, 3, 7, 6, 1, 6]]).T\n",
    "print 'A', A"
   ]
  },
  {
   "cell_type": "code",
   "execution_count": 32,
   "metadata": {},
   "outputs": [
    {
     "data": {
      "text/plain": [
       "array([[19, 20],\n",
       "       [20, 27]])"
      ]
     },
     "execution_count": 32,
     "metadata": {},
     "output_type": "execute_result"
    }
   ],
   "source": [
    "np.dot(A.T, A)/5"
   ]
  },
  {
   "cell_type": "code",
   "execution_count": null,
   "metadata": {
    "collapsed": true
   },
   "outputs": [],
   "source": []
  }
 ],
 "metadata": {
  "kernelspec": {
   "display_name": "Python 2",
   "language": "python",
   "name": "python2"
  },
  "language_info": {
   "codemirror_mode": {
    "name": "ipython",
    "version": 2
   },
   "file_extension": ".py",
   "mimetype": "text/x-python",
   "name": "python",
   "nbconvert_exporter": "python",
   "pygments_lexer": "ipython2",
   "version": "2.7.10"
  }
 },
 "nbformat": 4,
 "nbformat_minor": 2
}

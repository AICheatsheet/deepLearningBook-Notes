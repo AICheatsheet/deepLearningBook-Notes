{
 "cells": [
  {
   "cell_type": "code",
   "execution_count": 2,
   "metadata": {
    "collapsed": true
   },
   "outputs": [],
   "source": [
    "import numpy as np\n",
    "import matplotlib.pyplot as plt\n",
    "import seaborn as sns"
   ]
  },
  {
   "cell_type": "code",
   "execution_count": 3,
   "metadata": {},
   "outputs": [
    {
     "name": "stdout",
     "output_type": "stream",
     "text": [
      "Populating the interactive namespace from numpy and matplotlib\n"
     ]
    }
   ],
   "source": [
    "# Plot parameters\n",
    "sns.set()\n",
    "# Seven hls color palette\n",
    "current_palette_7 = sns.color_palette(\"hls\", 7)\n",
    "sns.set_palette(current_palette_7)\n",
    "\n",
    "%pylab inline\n",
    "pylab.rcParams['figure.figsize'] = (4, 4)\n",
    "plt.rcParams['xtick.major.size'] = 0\n",
    "plt.rcParams['ytick.major.size'] = 0\n",
    "# rcParams.keys()"
   ]
  },
  {
   "cell_type": "code",
   "execution_count": 4,
   "metadata": {
    "collapsed": true
   },
   "outputs": [],
   "source": [
    "# Avoid inaccurate floating values (for inverse matrices in dot product for instance)\n",
    "# See https://stackoverflow.com/questions/24537791/numpy-matrix-inversion-rounding-errors\n",
    "np.set_printoptions(suppress=True)"
   ]
  },
  {
   "cell_type": "markdown",
   "metadata": {},
   "source": [
    "$$\n",
    "\\newcommand\\norm[1]{\\left\\lVert#1\\right\\rVert} \n",
    "\\DeclareMathOperator{\\Tr}{Tr}\n",
    "$$"
   ]
  },
  {
   "cell_type": "markdown",
   "metadata": {},
   "source": [
    "# 2.10 The Trace Operator"
   ]
  },
  {
   "cell_type": "markdown",
   "metadata": {},
   "source": [
    "The trace is the sum of all values in the diagonal of a square matrix.\n",
    "\n",
    "$\n",
    "\\boldsymbol{A}=\n",
    "\\begin{bmatrix}\n",
    "    2 & 9 & 8 \\\\\\\\\n",
    "    4 & 7 & 1 \\\\\\\\\n",
    "    8 & 2 & 5\n",
    "\\end{bmatrix}\n",
    "$\n",
    "\n",
    "$\n",
    "\\mathrm{Tr}(\\boldsymbol{A}) = 2 + 7 + 5 = 14\n",
    "$\n",
    "\n",
    "The Numpy package provide the function `trace()` to calculate it:"
   ]
  },
  {
   "cell_type": "code",
   "execution_count": 5,
   "metadata": {},
   "outputs": [
    {
     "data": {
      "text/plain": [
       "14"
      ]
     },
     "execution_count": 5,
     "metadata": {},
     "output_type": "execute_result"
    }
   ],
   "source": [
    "A = np.array([[2, 9, 8], [4, 7, 1], [8, 2, 5]])\n",
    "A_tr = np.trace(A)\n",
    "A_tr"
   ]
  },
  {
   "cell_type": "markdown",
   "metadata": {},
   "source": [
    "GoodFellow et al. explain that the trace can be used to specify the Frobenius norm of a matrix (see 2.5[]()). The Frobenius norm is the equivalent of the $L^2$ norm for matrices. It is defined by:\n",
    "\n",
    "$\n",
    "\\norm{\\boldsymbol{A}}_F=\\sqrt{\\sum_{i,j}A^2_{i,j}}\n",
    "$\n",
    "\n",
    "Take the square of all element and sum them. Take the square root of the result. This norm can also be calculated with:\n",
    "\n",
    "$\n",
    "\\norm{\\boldsymbol{A}}_F=\\sqrt{\\Tr({\\boldsymbol{AA}^T})}\n",
    "$\n",
    "\n",
    "We can check this. The first way to compute the norm can be done with the simple command `np.linalg.norm()`:"
   ]
  },
  {
   "cell_type": "code",
   "execution_count": 11,
   "metadata": {},
   "outputs": [
    {
     "data": {
      "text/plain": [
       "17.549928774784245"
      ]
     },
     "execution_count": 11,
     "metadata": {},
     "output_type": "execute_result"
    }
   ],
   "source": [
    "np.linalg.norm(A)"
   ]
  },
  {
   "cell_type": "markdown",
   "metadata": {},
   "source": [
    "The Frobenius norm of $\\boldsymbol{A}$ is 17.549928774784245.\n",
    "\n",
    "With the trace the result is identical:"
   ]
  },
  {
   "cell_type": "code",
   "execution_count": 13,
   "metadata": {},
   "outputs": [
    {
     "data": {
      "text/plain": [
       "17.549928774784245"
      ]
     },
     "execution_count": 13,
     "metadata": {},
     "output_type": "execute_result"
    }
   ],
   "source": [
    "np.sqrt(np.trace(A.dot(A.T)))"
   ]
  },
  {
   "cell_type": "code",
   "execution_count": 15,
   "metadata": {},
   "outputs": [
    {
     "data": {
      "text/plain": [
       "array([[2, 4, 8],\n",
       "       [9, 7, 2],\n",
       "       [8, 1, 5]])"
      ]
     },
     "execution_count": 15,
     "metadata": {},
     "output_type": "execute_result"
    }
   ],
   "source": [
    "A.T"
   ]
  },
  {
   "cell_type": "markdown",
   "metadata": {},
   "source": [
    "Since the transposition of a matrix doesn't change the diagonal, the trace of the matrix is equal to the trace of its transpose:\n",
    "\n",
    "$\n",
    "\\Tr(\\boldsymbol{A})=\\Tr(\\boldsymbol{A}^T)\n",
    "$"
   ]
  },
  {
   "cell_type": "markdown",
   "metadata": {},
   "source": [
    "## Trace of a product\n",
    "\n",
    "$\n",
    "\\Tr(\\boldsymbol{ABC}) = \\Tr(\\boldsymbol{CAB}) = \\Tr(\\boldsymbol{BCA})\n",
    "$\n",
    "\n",
    "\n",
    "### Example 1.\n",
    "\n",
    "Let's see an example of this property.\n",
    "\n",
    "$\n",
    "\\boldsymbol{A}=\n",
    "\\begin{bmatrix}\n",
    "    4 & 12 \\\\\\\\\n",
    "    7 & 6\n",
    "\\end{bmatrix}\n",
    "$\n",
    "\n",
    "$\n",
    "\\boldsymbol{B}=\n",
    "\\begin{bmatrix}\n",
    "    1 & -3 \\\\\\\\\n",
    "    4 & 3\n",
    "\\end{bmatrix}\n",
    "$\n",
    "\n",
    "$\n",
    "\\boldsymbol{C}=\n",
    "\\begin{bmatrix}\n",
    "    6 & 6 \\\\\\\\\n",
    "    2 & 5\n",
    "\\end{bmatrix}\n",
    "$\n",
    "\n"
   ]
  },
  {
   "cell_type": "code",
   "execution_count": 20,
   "metadata": {},
   "outputs": [
    {
     "name": "stdout",
     "output_type": "stream",
     "text": [
      "531\n",
      "531\n",
      "531\n"
     ]
    }
   ],
   "source": [
    "A = np.array([[4, 12], [7, 6]])\n",
    "B = np.array([[1, -3], [4, 3]])\n",
    "C = np.array([[6, 6], [2, 5]])\n",
    "\n",
    "print np.trace(A.dot(B).dot(C))\n",
    "print np.trace(C.dot(A).dot(B))\n",
    "print np.trace(B.dot(C).dot(A))"
   ]
  },
  {
   "cell_type": "markdown",
   "metadata": {},
   "source": [
    "$\n",
    "\\boldsymbol{ABC}=\n",
    "\\begin{bmatrix}\n",
    "    360 & 432 \\\\\\\\\n",
    "    180 & 171\n",
    "\\end{bmatrix}\n",
    "$\n",
    "\n",
    "$\n",
    "\\boldsymbol{CAB}=\n",
    "\\begin{bmatrix}\n",
    "    498 & 126 \\\\\\\\\n",
    "    259 & 33\n",
    "\\end{bmatrix}\n",
    "$\n",
    "\n",
    "$\n",
    "\\boldsymbol{BCA}=\n",
    "\\begin{bmatrix}\n",
    "    -63 & -54 \\\\\\\\\n",
    "    393 & 594\n",
    "\\end{bmatrix}\n",
    "$\n",
    "\n",
    "$\n",
    "\\Tr(\\boldsymbol{ABC}) = \\Tr(\\boldsymbol{CAB}) = \\Tr(\\boldsymbol{BCA}) =  531\n",
    "$"
   ]
  },
  {
   "cell_type": "markdown",
   "metadata": {},
   "source": [
    "# References\n",
    "\n",
    "[1] [Trace (linear algebra) - Wikipedia](https://en.wikipedia.org/wiki/Trace_(linear_algebra))\n",
    "\n",
    "[2] [Numpy Trace operator](https://docs.scipy.org/doc/numpy/reference/generated/numpy.trace.html)"
   ]
  },
  {
   "cell_type": "code",
   "execution_count": null,
   "metadata": {
    "collapsed": true
   },
   "outputs": [],
   "source": []
  },
  {
   "cell_type": "code",
   "execution_count": null,
   "metadata": {
    "collapsed": true
   },
   "outputs": [],
   "source": []
  },
  {
   "cell_type": "code",
   "execution_count": null,
   "metadata": {
    "collapsed": true
   },
   "outputs": [],
   "source": []
  }
 ],
 "metadata": {
  "kernelspec": {
   "display_name": "Python 2",
   "language": "python",
   "name": "python2"
  },
  "language_info": {
   "codemirror_mode": {
    "name": "ipython",
    "version": 2
   },
   "file_extension": ".py",
   "mimetype": "text/x-python",
   "name": "python",
   "nbconvert_exporter": "python",
   "pygments_lexer": "ipython2",
   "version": "2.7.10"
  }
 },
 "nbformat": 4,
 "nbformat_minor": 2
}

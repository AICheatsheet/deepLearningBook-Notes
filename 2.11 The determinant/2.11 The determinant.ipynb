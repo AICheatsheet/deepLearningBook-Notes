{
 "cells": [
  {
   "cell_type": "code",
   "execution_count": 73,
   "metadata": {
    "collapsed": true
   },
   "outputs": [],
   "source": [
    "import numpy as np\n",
    "import matplotlib.pyplot as plt\n",
    "import seaborn as sns"
   ]
  },
  {
   "cell_type": "code",
   "execution_count": 74,
   "metadata": {
    "collapsed": true
   },
   "outputs": [],
   "source": [
    "import os, sys\n",
    "parentPath = os.path.abspath(\"..\")\n",
    "if parentPath not in sys.path:\n",
    "    sys.path.insert(0, parentPath)\n",
    "from ress.utils import plotVectors"
   ]
  },
  {
   "cell_type": "code",
   "execution_count": 75,
   "metadata": {},
   "outputs": [
    {
     "name": "stdout",
     "output_type": "stream",
     "text": [
      "Populating the interactive namespace from numpy and matplotlib\n"
     ]
    }
   ],
   "source": [
    "# Plot parameters\n",
    "sns.set()\n",
    "# Seven hls color palette\n",
    "current_palette_7 = sns.color_palette(\"hls\", 7)\n",
    "sns.set_palette(current_palette_7)\n",
    "\n",
    "%pylab inline\n",
    "pylab.rcParams['figure.figsize'] = (4, 4)\n",
    "plt.rcParams['xtick.major.size'] = 0\n",
    "plt.rcParams['ytick.major.size'] = 0\n",
    "# rcParams.keys()"
   ]
  },
  {
   "cell_type": "code",
   "execution_count": 76,
   "metadata": {
    "collapsed": true
   },
   "outputs": [],
   "source": [
    "# Avoid inaccurate floating values (for inverse matrices in dot product for instance)\n",
    "# See https://stackoverflow.com/questions/24537791/numpy-matrix-inversion-rounding-errors\n",
    "np.set_printoptions(suppress=True)"
   ]
  },
  {
   "cell_type": "code",
   "execution_count": 77,
   "metadata": {},
   "outputs": [
    {
     "name": "stdout",
     "output_type": "stream",
     "text": [
      "The autoreload extension is already loaded. To reload it, use:\n",
      "  %reload_ext autoreload\n"
     ]
    }
   ],
   "source": [
    "%load_ext autoreload\n",
    "%autoreload 2"
   ]
  },
  {
   "cell_type": "markdown",
   "metadata": {},
   "source": [
    "# 2.11 The determinant\n",
    "\n",
    "We saw in [2.8]() that a matrix can be seen as a linear transformation of the space. The determinant of a matrix $\\boldsymbol{A}$ is a number corresponding to the *multiplicative change* you get when you transform your space with this matrix (see a comment by Pete L. Clark in [this SE question](https://math.stackexchange.com/questions/668/whats-an-intuitive-way-to-think-about-the-determinant)). A negative determinant means that there is a change in orientation (and not just a rescaling and/or a rotation). As outlined by Nykamp DQ [3], a change in orientation means for instance in 2D that we take a plane out of these 2 dimensions, do some transformations and get back to the originel 2D space. Here is an example helping to distinguish between positive and negative determinant:\n",
    "\n",
    "<img src=\"images/rotationVsMirror.png\" alt=\"rotationVsMirror\" width=\"400\">\n",
    "\n",
    "You can see that the second transformation can't be obtained through rotation and rescaling.\n",
    "\n",
    "The sign can tells you the nature of the transformation. In addition, it also gives you the *amount* of the transformation. If you take the *n*-dimensional unit cube and apply the matrix $\\boldsymbol{A}$ on it, the absolute value of the determinant corresponds to the area of the transformed figure. You might believe me more easily after the following example.\n",
    "\n",
    "### Example 1.\n",
    "\n",
    "To calculate the area of the shapes, we will use simple squares in 2 dimensions. The unit cube area can be calculated with the Pythagorean theorem taking the unit vectors\n",
    "\n",
    "<img src=\"images/unitSquare.png\" alt=\"unitSquare\" width=\"300\">\n",
    "\n",
    "\n",
    "The lengths of $i$ and $j$ are $1$ thus the area of the unit square is $1$.\n",
    "\n",
    "Let's start by creating both vectors in Python:"
   ]
  },
  {
   "cell_type": "code",
   "execution_count": 78,
   "metadata": {},
   "outputs": [
    {
     "data": {
      "text/plain": [
       "(-0.5, 3)"
      ]
     },
     "execution_count": 78,
     "metadata": {},
     "output_type": "execute_result"
    },
    {
     "data": {
      "image/png": "[encoded data removed]",
      "text/plain": [
       "<matplotlib.figure.Figure at 0x10a0061d0>"
      ]
     },
     "metadata": {},
     "output_type": "display_data"
    }
   ],
   "source": [
    "i = [0, 1]\n",
    "j = [1, 0]\n",
    "\n",
    "plotVectors([i, j], [['blue'], ['red']])\n",
    "plt.xlim(-0.5, 3)\n",
    "plt.ylim(-0.5, 3)"
   ]
  },
  {
   "cell_type": "markdown",
   "metadata": {},
   "source": [
    "We will apply $\n",
    "\\boldsymbol{A}=\\begin{bmatrix}\n",
    "    2 & 0\\\\\\\\\n",
    "    0 & 2\n",
    "\\end{bmatrix}\n",
    "$ to $i$ and $j$. You can notice that this matrix is special: it is diagonal. So it will only rescale our space without rotations. More precisely, it will rescale each dimension the same way because the diagonal values are identical. Let's create the matrix $\\boldsymbol{A}$:"
   ]
  },
  {
   "cell_type": "code",
   "execution_count": 79,
   "metadata": {},
   "outputs": [
    {
     "data": {
      "text/plain": [
       "array([[2, 0],\n",
       "       [0, 2]])"
      ]
     },
     "execution_count": 79,
     "metadata": {},
     "output_type": "execute_result"
    }
   ],
   "source": [
    "A = np.array([[2, 0], [0, 2]])\n",
    "A"
   ]
  },
  {
   "cell_type": "markdown",
   "metadata": {},
   "source": [
    "Now we will apply $\\boldsymbol{A}$ on our two unit vectors $i$ and $j$ and plot the resulting new vectors:"
   ]
  },
  {
   "cell_type": "code",
   "execution_count": 80,
   "metadata": {},
   "outputs": [
    {
     "data": {
      "text/plain": [
       "(-0.5, 3)"
      ]
     },
     "execution_count": 80,
     "metadata": {},
     "output_type": "execute_result"
    },
    {
     "data": {
      "image/png": "[encoded data removed]",
      "text/plain": [
       "<matplotlib.figure.Figure at 0x109ea2990>"
      ]
     },
     "metadata": {},
     "output_type": "display_data"
    }
   ],
   "source": [
    "new_i = A.dot(i)\n",
    "new_j = A.dot(j)\n",
    "plotVectors([new_i, new_j], [['blue'], ['red']])\n",
    "plt.xlim(-0.5, 3)\n",
    "plt.ylim(-0.5, 3)"
   ]
  },
  {
   "cell_type": "markdown",
   "metadata": {},
   "source": [
    "As expected, we see that the square corresponding to $i$ and $j$ didn't rotate but the lengths of $i$ and $j$ have doubled. We will now calculate the determinant of $\\boldsymbol{A}$ (you can go to the [Wikipedia article](https://en.wikipedia.org/wiki/Determinant) to see how to calculate the determinant):\n",
    "\n",
    "<img src=\"images/unitSquareTrans.png\" alt=\"unitSquareTrans\" width=\"300\">"
   ]
  },
  {
   "cell_type": "code",
   "execution_count": 81,
   "metadata": {},
   "outputs": [
    {
     "data": {
      "text/plain": [
       "4.0"
      ]
     },
     "execution_count": 81,
     "metadata": {},
     "output_type": "execute_result"
    }
   ],
   "source": [
    "np.linalg.det(A)"
   ]
  },
  {
   "cell_type": "markdown",
   "metadata": {},
   "source": [
    "And yes, the transformation have multiplied the area of the unit square by 4. The lengths of $new_i$ and $new_j$ are $2$ (thus $2\\cdot2=4$)."
   ]
  },
  {
   "cell_type": "markdown",
   "metadata": {
    "collapsed": true
   },
   "source": [
    "### Example 2.\n",
    "\n",
    "Let's see now an example of negative determinant.\n",
    "\n",
    "We will transform the unit square with the matrix $\\boldsymbol{B}=\\begin{bmatrix}\n",
    "    -2 & 0\\\\\\\\\n",
    "    0 & 2\n",
    "\\end{bmatrix}$. Its determinant is $-4$:"
   ]
  },
  {
   "cell_type": "code",
   "execution_count": 82,
   "metadata": {},
   "outputs": [
    {
     "data": {
      "text/plain": [
       "-4.0"
      ]
     },
     "execution_count": 82,
     "metadata": {},
     "output_type": "execute_result"
    }
   ],
   "source": [
    "B = np.array([[-2, 0], [0, 2]])\n",
    "np.linalg.det(B)"
   ]
  },
  {
   "cell_type": "code",
   "execution_count": 83,
   "metadata": {},
   "outputs": [
    {
     "data": {
      "text/plain": [
       "(-0.5, 3)"
      ]
     },
     "execution_count": 83,
     "metadata": {},
     "output_type": "execute_result"
    },
    {
     "data": {
      "image/png": "[encoded data removed]",
      "text/plain": [
       "<matplotlib.figure.Figure at 0x10a006310>"
      ]
     },
     "metadata": {},
     "output_type": "display_data"
    }
   ],
   "source": [
    "new_i_1 = B.dot(i)\n",
    "new_j_1 = B.dot(j)\n",
    "plotVectors([new_i_1, new_j_1], [['blue'], ['red']])\n",
    "plt.xlim(-3, 0.5)\n",
    "plt.ylim(-0.5, 3)"
   ]
  },
  {
   "cell_type": "markdown",
   "metadata": {},
   "source": [
    "<img src=\"images/unitSquareTrans1.png\" alt=\"unitSquareTrans1\" width=\"300\">\n",
    "\n",
    "The absolute value of the determinant show that as in the first example, the area of the new square is 4 times the area of the unit square. But this time, it was not just a rescaling but also a transformation. It is not obvious with only the unit vectors so let's transform some random points. We will use the matrix $\\boldsymbol{C}=\\begin{bmatrix}\n",
    "    -1 & 0\\\\\\\\\n",
    "    0 & 1\n",
    "\\end{bmatrix}$ for simplicity:"
   ]
  },
  {
   "cell_type": "code",
   "execution_count": 89,
   "metadata": {},
   "outputs": [],
   "source": [
    "# Some random points\n",
    "points = np.array([[1, 3], [2, 2], [3, 1], [4, 7], [5, 4]])"
   ]
  },
  {
   "cell_type": "code",
   "execution_count": 90,
   "metadata": {},
   "outputs": [
    {
     "data": {
      "text/plain": [
       "-1.0"
      ]
     },
     "execution_count": 90,
     "metadata": {},
     "output_type": "execute_result"
    }
   ],
   "source": [
    "C = np.array([[-1, 0], [0, 1]])\n",
    "np.linalg.det(C)"
   ]
  },
  {
   "cell_type": "markdown",
   "metadata": {},
   "source": [
    "Since the determinant is $-1$, the area of the space will not be changed. However, since it is negative we will observe a transformation not possible to obtain through rotation:"
   ]
  },
  {
   "cell_type": "code",
   "execution_count": 91,
   "metadata": {},
   "outputs": [
    {
     "data": {
      "image/png": "[encoded data removed]",
      "text/plain": [
       "<matplotlib.figure.Figure at 0x109bdec90>"
      ]
     },
     "metadata": {},
     "output_type": "display_data"
    }
   ],
   "source": [
    "newPoints = x.dot(C)\n",
    "\n",
    "plt.figure()\n",
    "plt.plot(points[:, 0], points[:, 1])\n",
    "plt.plot(newPoints[:, 0], newPoints[:, 1])\n",
    "plt.show()"
   ]
  },
  {
   "cell_type": "markdown",
   "metadata": {},
   "source": [
    "You can see that the transformation mirrored the red shape."
   ]
  },
  {
   "cell_type": "markdown",
   "metadata": {},
   "source": [
    "# References\n",
    "\n",
    "[1] [Determinant intuition - SE](https://math.stackexchange.com/questions/668/whats-an-intuitive-way-to-think-about-the-determinant)\n",
    "\n",
    "[2] [Numpy determinant](https://docs.scipy.org/doc/numpy-1.13.0/reference/generated/numpy.linalg.det.html)\n",
    "\n",
    "[3] [Nykamp DQ, “Determinants and linear transformations.” From Math Insight](https://mathinsight.org/determinant_linear_transformation)"
   ]
  }
 ],
 "metadata": {
  "kernelspec": {
   "display_name": "Python 2",
   "language": "python",
   "name": "python2"
  },
  "language_info": {
   "codemirror_mode": {
    "name": "ipython",
    "version": 2
   },
   "file_extension": ".py",
   "mimetype": "text/x-python",
   "name": "python",
   "nbconvert_exporter": "python",
   "pygments_lexer": "ipython2",
   "version": "2.7.10"
  }
 },
 "nbformat": 4,
 "nbformat_minor": 2
}
